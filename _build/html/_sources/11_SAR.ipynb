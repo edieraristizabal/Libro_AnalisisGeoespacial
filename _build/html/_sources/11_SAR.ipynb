{
 "cells": [
  {
   "cell_type": "markdown",
   "metadata": {
    "id": "ofWRLriqy2cx"
   },
   "source": [
    "<p style=\"font-size:11px;\"><em><strong>Créditos</strong>: El contenido de este cuaderno ha sido tomado de varias fuentes, pero especialmente de <a href=\"http://darribas.org/\">Dani Arribas-Bel</a> - University of Liverpool & <a href=\"http://spatial.ucr.edu/peopleRey.html\">Sergio Rey</a> - Center for Geospatial Sciences, University of California, Riverside. El compilador se disculpa por cualquier omisión involuntaria y estaría encantado de agregar un reconocimiento.</em></p>"
   ]
  },
  {
   "cell_type": "markdown",
   "metadata": {},
   "source": [
    "# Modelos de Regresión para Dependencia Espacial SAR\n",
    "\n",
    "## Dependencia espacial\n",
    "\n",
    "Como acabamos de discutir, la heterogeneidad espacial se trata de efectos de fenómenos que están **explícitamente vinculados**\n",
    "a la geografía y que, por lo tanto, causan variación espacial y agrupamiento. Esto\n",
    "abarca muchos de los tipos de efectos espaciales en los que podemos estar interesados cuando ajustamos\n",
    "regresiones lineales. Sin embargo, en otros casos, nuestro enfoque está en el efecto de la **configuración espacial**\n",
    "de las observaciones, y en qué medida eso afecta al resultado que estamos considerando. Por ejemplo, podríamos pensar que el precio de una casa no\n",
    "solo depende de si es un adosado o un apartamento, sino también de si está rodeada de muchos más adosados que rascacielos con más\n",
    "apartamentos. Esto, podríamos hipotetizar, podría estar relacionado con la diferente \"apariencia\" que tiene un\n",
    "vecindario con edificios históricos de baja altura en comparación con uno con\n",
    "rascacielos modernos. En la medida en que estas dos configuraciones espaciales diferentes\n",
    "entren de manera diferente en el proceso de determinación del precio de la casa, estaremos\n",
    "interesados en capturar no solo las características de una casa, sino también de\n",
    "las que la rodean.\n",
    "Este tipo de efecto espacial es fundamentalmente diferente\n",
    "de la heterogeneidad espacial en que no está relacionado con características inherentes de la geografía sino que se relaciona\n",
    "con las características de las observaciones en nuestro conjunto de datos y, especialmente, con su disposición espacial. Llamamos a este fenómeno por el cual los valores de las observaciones están relacionados\n",
    "entre sí a través de la distancia **dependencia espacial**.\n",
    "\n",
    "Para incorporar la dependencia espacial en los modelos, se puede utilizar los llamados Modelos Autoregresivos Simultáneos (\\cite{whittle1954stationary}), los cuales permiten modelar la dependencia espacial a través de la inclusión de una matriz de vecindad. Esta matriz define la estructura de los vecinos de cada unidad de mapeo, ya sea en función de la distancia entre unidades o a partir de relaciones de contigüidad (\\cite{anselin1996simple, elhorst2014spatial}).\n",
    "\n",
    "Los modelos SAR son ampliamente utilizados en econometría y geografía, así como en otros campos que requieren un análisis espacial riguroso, como la epidemiología y la planificación urbana (\\cite{elhorst2022dynamic, rey2023geographic, jaya2021spatial, ver2018spatial}). Sin embargo, la aplicación de algunos de estos modelos requiere de técnicas especiales, ya que la estructura de dependencia espacial puede introducir complicaciones que no están presentes en los modelos estadísticos clásicos (\\cite{anselin1990spatial}).\n",
    "\n",
    "Los modelos de autoregresión espacial son un tipo de modelo estadístico utilizado para capturar y modelar la dependencia espacial entre unidades de análisis geográficas (\\cite{whittle1954stationary, getis2009spatial, stakhovych2009specification, ripley1988statistical}). En lugar de asumir que las observaciones son independientes entre sí, estos modelos reconocen que las unidades cercanas en el espacio tienden a presentar valores similares (\\cite{anselin1988spatial}). \n",
    "\n",
    "La aplicabilidad de los modelos de autoregresión espacial en los estudios de susceptibilidad a movimientos en masa radica en la naturaleza inherentemente espacial de estos fenómenos. Los movimientos en masa tienden a estar influenciados por las condiciones de las áreas adyacentes, como el relieve del terreno, condiciones climáticas, la cobertura del suelo y las características geológicas (\\cite{samia2019dynamic}). Estos modelos son ampliamente utilizados en análisis espaciales debido a su capacidad para incluir explícitamente la estructura de dependencia entre las unidades vecinas a través de matrices de vecindad (\\cite{lesage2011pitfalls, kelejian2007relative}). Esta matriz introduce el componente espacial, permitiendo que el valor de la variable respuesta en cada unidad de análisis se vea influido por los valores de las unidades vecinas. Esto permite modelar explícitamente el efecto que tienen los vecinos en la variable de interés.\n",
    "\n",
    "Sin embargo, los modelos de autoregresión espacial también presentan algunas limitaciones (\\cite{lesage2011pitfalls, anselin2022spatial}). La estimación de los parámetros en los modelos de autoregresión espacial puede ser compleja, especialmente cuando se trabaja con grandes conjuntos de datos y matrices de vecindad densas. Adicionalmente, la definición de la matriz de vecindad es fundamental, y una elección incorrecta puede llevar a resultados sesgados o poco representativos.\n",
    "\n",
    "Las matrices de vecindad son una pieza clave en los modelos de autoregresión espacial (\\cite{earnest2007evaluating}). Una matriz de vecindad define qué unidades se consideran \"vecinas\" y cómo se relacionan entre sí. Cada elemento de la matriz representa la fuerza o presencia de una relación espacial entre dos unidades. Existen diferentes tipos de matrices de vecindad (\\cite{earnest2007evaluating, getis2009spatial, stakhovych2009specification}):\n",
    "\n",
    "1. \\textbf{Matriz de Vecindad Basada en la Contigüidad}: Este tipo de matriz define como vecinos a aquellas unidades que comparten un límite común. Es ideal para el análisis en zonas divididas en celdas regulares o regiones administrativas.\n",
    "\n",
    "2. \\textbf{Matriz de Vecindad Basada en Distancia}: En este tipo de matriz, se consideran vecinos aquellas unidades que se encuentran dentro de un radio específico de distancia. La vecindad se define en términos de la cercanía física.\n",
    "\n",
    "3. \\textbf{Matriz de Vecindad K-Vecinos más Cercanos}: Esta matriz define como vecinos a un número fijo de las unidades más cercanas a cada unidad de análisis. Asegura que cada unidad tenga el mismo número de vecinos, lo cual puede ser útil para evitar problemas de unidades aisladas sin vecinos.\n",
    "\n",
    "La ecuación básica de un modelo de autoregresión simultaneo se puede representar de la siguiente manera (\\cite{cliff1981spatial, kelejian2007relative, lesage2009introduction}):\n",
    "\n",
    "\\begin{equation}\n",
    "Y = \\rho W Y + X \\beta + \\epsilon\n",
    "\\end{equation}\n",
    "\n",
    "donde el término $\\rho$ introduce el componente espacial, permitiendo que el valor de la variable respuesta \\textbf{Y} en cada unidad de análisis esté influido por los valores de las unidades vecinas, ponderados por la matriz de vecindad (W). \\textbf{$\\beta$} es el vector de coeficientes de regresión asociados a las variables predictoras (X). Estos coeficientes reflejan la influencia de cada variable en la variable respuesta \\textbf{Y}. \\textbf{($\\epsilon$)} es el término de error aleatorio distribuido de manera independiente e idéntica con media cero, que recoge la variabilidad no explicada por el modelo. \n",
    "\n",
    "En los modelos de autoregresión simultaneo (SAR) de forma estricta la dependencia espacial está asociada a la variable respuesta $Y$, lo que implica una relación simultánea que involucra todas las observaciones. Esto requiere una operación como la inversa de $(1-\\rho W)$ para despejar los valores de $Y$. Sin embargo, la mayoría de los autores amplían este grupo a modelos espaciales con tres tipos de efectos de dependencia: (i) autocorrelación endógena en la variable respuesta (SAR), (ii) autocorrelación exógena en los predictores y (iii) autocorrelación en los términos de error. El modelo espacial general (GNS, por sus siglas en inglés), también conocido como modelo espacial SARAR(1,1) o modelo espacial de Cliff-Ord, abarca estos tres tipos de dependencias de la siguiente forma (\\cite{lesage2009introduction, kelejian2007relative, cliff1981spatial}):\n",
    "\n",
    "\\begin{equation} \\label{eq:2} y = \\textbf{X} \\beta + \\textbf{W} \\textbf{X} y + \\rho \\textbf{W} y + \\lambda \\textbf{W} \\mu + \\epsilon \\end{equation}\n",
    "\n",
    "\\par donde $\\lambda$ es el coeficiente en una estructura autoregresiva espacial para el error $\\mu$. Es decir, que el término $W_y$ captura los efectos de interacción endógena entre la variable respuesta,  $WX_y$ modela los efectos de interacción exógena entre los predictores; mientras que el término $W_u$ se ocupa de los efectos de interacción entre los residuales.\n",
    "\n",
    "\\par De acuerdo como se incluyan o eliminen los términos se pueden obtener diferentes especificaciones (\\cite{elhorst2013spatial}). La más común es el modelo con Autoregresión Espacial (SAR), donde $\\lambda=0$, y por lo tanto solo incluye la variable dependiente con autoregresión espacial, $\\rho \\textbf{W}y$. En el caso donde $\\rho=0$, el modelo de Error Espacial (SEM) retiene los términos de error $\\lambda \\textbf{W} \\mu$, mientras que el modelo con Autoregresión Espacial en X (SLX) comprende la autoregresión espacial de los predictores, $\\textbf{W} \\textbf{X} y$. Otras variantes corresponden al modelo Combinado Autoregresivo de Kelejan-Prucha (SAC), que incluye autocorrelación en $\\rho \\textbf{W} y$ y $\\lambda \\textbf{W} \\mu$; el modelo de Durbin Espacial (SDM), que combina una variable dependiente autoregresiva $\\rho \\textbf{W} y$ y predictores con autoregresión espacial $\\textbf{W} \\textbf{X} y$; y el modelo de Error de Durbin Espacial (SDEM), que incluye un término de error espacial $\\lambda \\textbf{W} \\mu$ combinado con predictores con autoregresión espacial $\\textbf{W} \\textbf{X} y$ (\\cite{elhorst2022dynamic, anselin2022spatial}).\n",
    "\n",
    "<center><img src=\"https://i.pinimg.com/736x/cb/2a/95/cb2a952590ecbd070d230e82c7bbd107.jpg\" width=\"800\"></center>\n",
    "\n",
    "Un primer paso esencial en el uso de modelos espaciales es estimar cualquier posible estructura espacial en los datos de entrada o en el residuo de los modelos. Dos pruebas comunes para detectar efectos espaciales son el gráfico de dispersión de Moran (\\cite{anselin1988spatial}) y la prueba del Multiplicador de Lagrange (LM) (\\cite{anselin1996simple}). El gráfico de dispersión de Moran ilustra la relación entre cada observación y el promedio de sus vecinos, y ayuda a identificar conglomerados locales y valores atípicos espaciales. El gráfico categoriza las asociaciones espaciales en cuatro tipos: valores altos rodeados de vecinos con valores altos (Q1), valores bajos rodeados de valores bajos (Q3), Bajo-Alto (Q2) y Alto-Bajo (Q3), que indican conglomerados o valores atípicos relativos a la media general. El estadístico $I$ de Moran es la pendiente de un ajuste lineal al gráfico de dispersión, y mide la dependencia espacial general:\n",
    "\n",
    "\\begin{equation} \\label{eq:1} MI = n \\frac{\\sum_{i=1}^n \\sum_{j=1}^n w_{ij} (y_i-\\bar{y}) (y_j-\\bar{y})} {\\sum_{i=1}^n \\sum_{j=1}^n w_{ij} \\sum_{i=1}^n (y_i-\\bar{y})^2} \\end{equation}\n",
    "\n",
    "donde $n$ es el número de observaciones, $y_i$ es el valor estandarizado de la variable respuesta en la ubicación $i$. El Índice de Moran (MI)  varía de $-$1 a $+$1, donde cero indica ausencia de autocorrelación espacial, +1 indica una agrupación perfecta de valores similares, y -1 indica dispersión.\n",
    "\n",
    "\\par La prueba del Multiplicador de Lagrange (LM) se utiliza para decidir sobre un modelo de regresión espacial adecuado y evaluar la autocorrelación espacial tanto en la variable respuesta como en sus residuales (\\cite{anselin1988spatial}). La prueba LM compara modelos restringidos (mínimos cuadrados ordinarios sin términos espaciales) con modelos no restringidos (que incluyen términos espaciales). El término espacial puede ser una variable dependiente autoregresiva espacialmente o un término de error autoregresivo espacialmente. El estadístico LM se calcula como la diferencia entre los logaritmos de verosimilitud de los modelos restringido y no restringido, siguiendo una distribución $\\chi^2$ con un grado de libertad bajo la hipótesis nula de no dependencia espacial. Si el estadístico de la prueba excede el valor crítico, se rechaza la hipótesis nula de independencia espacial.\n",
    "\n",
    "## Efectos de autocorrelación exógena entre las variables predictoras\n",
    "\n",
    "Volviendo al ejemplo del precio de las casas con el que hemos estado trabajando. Hasta ahora, hemos hipotetizado que el precio de una casa alquilada en San Diego a través de AirBnb puede ser explicado utilizando información sobre sus propias características así como algunas relacionadas con su ubicación, como el vecindario o la distancia al parque principal de la ciudad. Sin embargo, también es razonable pensar que los posibles inquilinos se preocupan por el área más grande alrededor de una casa, no solo por la casa en sí, y estarían dispuestos a pagar más por una casa que esté rodeada de ciertos tipos de casas, y menos si está ubicada en medio de otros tipos. ¿Cómo podríamos probar esta idea?\n",
    "\n",
    "La forma más directa de introducir dependencia espacial en una regresión es considerando no solo una variable explicativa dada, sino también su rezago espacial. En nuestro caso de ejemplo, además de incluir un indicador para el tipo de casa, también podemos incluir el rezago espacial de cada tipo de casa. Esta adición implica que también estamos incluyendo como factor explicativo del precio de una casa dado la proporción de casas vecinas de cada tipo. Matemáticamente, esto implica estimar el siguiente modelo:\n",
    "\n",
    "$$\n",
    "\\log(P_i) = \\alpha + \\sum^{p}_{k=1}X_{ij}\\beta_j + \\sum^{p}_{k=1}\\left(\\sum^{N}_{j=1}w_{ij}x_{jk}\\right)\\gamma_k + \\epsilon_i\n",
    "$$\n",
    "\n",
    "donde $\\sum_{j=1}^N w_{ij}x_{jk}$ representa el rezago espacial de la $k$-ésima variable explicativa. Esto se puede expresar en *forma matricial* utilizando la matriz de pesos espaciales, $\\mathbf{W}$, como:\n",
    "$$\n",
    "\\log(P_i) = \\alpha + \\mathbf{X}\\beta + \\mathbf{WX}\\gamma + \\epsilon\n",
    "$$\n",
    "\n",
    "Esto divide el modelo para enfocarse en dos efectos principales: $\\beta$ y $\\gamma$. El efecto $\\beta$ describe el cambio en $y_i$ cuando $X_{ik}$ cambia en uno. Dado que usamos el precio logarítmico para una variable $y$, nuestros coeficientes $\\beta$ aún se interpretan como *elasticidades*, lo que significa que un cambio de unidad en la variable $x_i$ resulta en un cambio porcentual $\\beta$ en el precio *y_i*. El subíndice para el sitio $i$ es importante aquí: dado que estamos tratando con una matriz $\\mathbf{W}$, es útil ser claro sobre dónde ocurre el cambio. \n",
    "\n",
    "De hecho, esto es importante para el efecto $\\gamma$, que representa un efecto *indirecto* de un cambio en $X_i$. Esto se puede conceptualizar de dos maneras. Primero, se podría pensar en $\\gamma$ simplemente como *el efecto de un cambio de unidad en sus alrededores promedio.* Esto es útil y simple. Pero, esta interpretación ignora dónde puede ocurrir este cambio. En realidad, un cambio en una variable en el sitio $i$ resultará en un *derrame* a sus alrededores: cuando $x_i$ cambia, también cambia el *rezago espacial* de cualquier sitio cerca de $i$. La precisión de esto dependerá de la estructura de $\\mathbf{W}$, y puede ser diferente para cada sitio. Por ejemplo, piense en un sitio \"focal\" muy conectado en una matriz de pesos estandarizada por filas. Este sitio focal no se verá muy afectado si un vecino cambia por una unidad, ya que cada sitio solo contribuye en pequeña medida al rezago en el sitio focal. Alternativamente, considere un sitio con solo un vecino: su rezago cambiará *exactamente* en la cantidad que cambie su único vecino. Por lo tanto, para descubrir el efecto indirecto exacto de un cambio $y$ causado por el cambio en un sitio específico $x_i$, debería calcular el *cambio en el rezago espacial*, y luego usar eso como su *cambio* en $X$. \n",
    "\n",
    "En Python, podemos calcular el rezago espacial de cada variable cuyo nombre comience por `pg_` primero creando una lista con todos esos nombres, y luego aplicando `lag_spatial` de `PyS."
   ]
  },
  {
   "cell_type": "code",
   "execution_count": 2,
   "metadata": {
    "id": "Cbg-AVpgy2c1",
    "lines_to_next_cell": 2,
    "outputId": "93489884-6860-4eef-91c4-52f4998d83cb",
    "tags": []
   },
   "outputs": [],
   "source": [
    "%matplotlib inline\n",
    "\n",
    "from pysal.model import spreg\n",
    "from pysal.lib import weights\n",
    "from pysal.explore import esda\n",
    "from scipy import stats\n",
    "import statsmodels.formula.api as sm\n",
    "import numpy\n",
    "import pandas as pd\n",
    "import geopandas as gpd\n",
    "import matplotlib.pyplot as plt\n",
    "import seaborn as sbn"
   ]
  },
  {
   "cell_type": "code",
   "execution_count": 3,
   "metadata": {
    "id": "CfQLi4lXy2c4",
    "tags": []
   },
   "outputs": [
    {
     "name": "stdout",
     "output_type": "stream",
     "text": [
      "<class 'geopandas.geodataframe.GeoDataFrame'>\n",
      "RangeIndex: 6110 entries, 0 to 6109\n",
      "Data columns (total 20 columns):\n",
      " #   Column              Non-Null Count  Dtype   \n",
      "---  ------              --------------  -----   \n",
      " 0   accommodates        6110 non-null   int64   \n",
      " 1   bathrooms           6110 non-null   float64 \n",
      " 2   bedrooms            6110 non-null   float64 \n",
      " 3   beds                6110 non-null   float64 \n",
      " 4   neighborhood        6110 non-null   object  \n",
      " 5   pool                6110 non-null   int64   \n",
      " 6   d2balboa            6110 non-null   float64 \n",
      " 7   coastal             6110 non-null   int64   \n",
      " 8   price               6110 non-null   float64 \n",
      " 9   log_price           6110 non-null   float64 \n",
      " 10  id                  6110 non-null   int64   \n",
      " 11  pg_Apartment        6110 non-null   int64   \n",
      " 12  pg_Condominium      6110 non-null   int64   \n",
      " 13  pg_House            6110 non-null   int64   \n",
      " 14  pg_Other            6110 non-null   int64   \n",
      " 15  pg_Townhouse        6110 non-null   int64   \n",
      " 16  rt_Entire_home/apt  6110 non-null   int64   \n",
      " 17  rt_Private_room     6110 non-null   int64   \n",
      " 18  rt_Shared_room      6110 non-null   int64   \n",
      " 19  geometry            6110 non-null   geometry\n",
      "dtypes: float64(6), geometry(1), int64(12), object(1)\n",
      "memory usage: 954.8+ KB\n"
     ]
    }
   ],
   "source": [
    "db = gpd.read_file('https://geographicdata.science/book/_downloads/dcd429d1761a2d0efdbc4532e141ba14/regression_db.geojson')\n",
    "db.info()"
   ]
  },
  {
   "cell_type": "code",
   "execution_count": 4,
   "metadata": {
    "id": "XUd0snG6y2c4",
    "outputId": "ed4637d5-ae11-4a0c-eaaf-0cd91ffdc173",
    "tags": []
   },
   "outputs": [
    {
     "data": {
      "text/plain": [
       "<Axes: >"
      ]
     },
     "execution_count": 4,
     "metadata": {},
     "output_type": "execute_result"
    },
    {
     "data": {
      "image/png": "[encoded data removed]",
      "text/plain": [
       "<Figure size 640x480 with 1 Axes>"
      ]
     },
     "metadata": {},
     "output_type": "display_data"
    }
   ],
   "source": [
    "db.plot()"
   ]
  },
  {
   "cell_type": "code",
   "execution_count": 5,
   "metadata": {
    "id": "56xb0oZfy2c5",
    "outputId": "2f35ec11-2e23-46c7-936f-1aec9456b927",
    "tags": []
   },
   "outputs": [
    {
     "data": {
      "text/html": [
       "<div>\n",
       "<style scoped>\n",
       "    .dataframe tbody tr th:only-of-type {\n",
       "        vertical-align: middle;\n",
       "    }\n",
       "\n",
       "    .dataframe tbody tr th {\n",
       "        vertical-align: top;\n",
       "    }\n",
       "\n",
       "    .dataframe thead th {\n",
       "        text-align: right;\n",
       "    }\n",
       "</style>\n",
       "<table border=\"1\" class=\"dataframe\">\n",
       "  <thead>\n",
       "    <tr style=\"text-align: right;\">\n",
       "      <th></th>\n",
       "      <th>accommodates</th>\n",
       "      <th>bathrooms</th>\n",
       "      <th>bedrooms</th>\n",
       "      <th>beds</th>\n",
       "      <th>neighborhood</th>\n",
       "      <th>pool</th>\n",
       "      <th>d2balboa</th>\n",
       "      <th>coastal</th>\n",
       "      <th>price</th>\n",
       "      <th>log_price</th>\n",
       "      <th>id</th>\n",
       "      <th>pg_Apartment</th>\n",
       "      <th>pg_Condominium</th>\n",
       "      <th>pg_House</th>\n",
       "      <th>pg_Other</th>\n",
       "      <th>pg_Townhouse</th>\n",
       "      <th>rt_Entire_home/apt</th>\n",
       "      <th>rt_Private_room</th>\n",
       "      <th>rt_Shared_room</th>\n",
       "      <th>geometry</th>\n",
       "    </tr>\n",
       "  </thead>\n",
       "  <tbody>\n",
       "    <tr>\n",
       "      <th>0</th>\n",
       "      <td>5</td>\n",
       "      <td>2.0</td>\n",
       "      <td>2.0</td>\n",
       "      <td>2.0</td>\n",
       "      <td>North Hills</td>\n",
       "      <td>0</td>\n",
       "      <td>2.972077</td>\n",
       "      <td>0</td>\n",
       "      <td>425.0</td>\n",
       "      <td>6.052089</td>\n",
       "      <td>6</td>\n",
       "      <td>0</td>\n",
       "      <td>0</td>\n",
       "      <td>1</td>\n",
       "      <td>0</td>\n",
       "      <td>0</td>\n",
       "      <td>1</td>\n",
       "      <td>0</td>\n",
       "      <td>0</td>\n",
       "      <td>POINT (-117.12971 32.75399)</td>\n",
       "    </tr>\n",
       "    <tr>\n",
       "      <th>1</th>\n",
       "      <td>6</td>\n",
       "      <td>1.0</td>\n",
       "      <td>2.0</td>\n",
       "      <td>4.0</td>\n",
       "      <td>Mission Bay</td>\n",
       "      <td>0</td>\n",
       "      <td>11.501385</td>\n",
       "      <td>1</td>\n",
       "      <td>205.0</td>\n",
       "      <td>5.323010</td>\n",
       "      <td>5570</td>\n",
       "      <td>0</td>\n",
       "      <td>1</td>\n",
       "      <td>0</td>\n",
       "      <td>0</td>\n",
       "      <td>0</td>\n",
       "      <td>1</td>\n",
       "      <td>0</td>\n",
       "      <td>0</td>\n",
       "      <td>POINT (-117.25253 32.78421)</td>\n",
       "    </tr>\n",
       "  </tbody>\n",
       "</table>\n",
       "</div>"
      ],
      "text/plain": [
       "   accommodates  bathrooms  bedrooms  beds neighborhood  pool   d2balboa  \\\n",
       "0             5        2.0       2.0   2.0  North Hills     0   2.972077   \n",
       "1             6        1.0       2.0   4.0  Mission Bay     0  11.501385   \n",
       "\n",
       "   coastal  price  log_price    id  pg_Apartment  pg_Condominium  pg_House  \\\n",
       "0        0  425.0   6.052089     6             0               0         1   \n",
       "1        1  205.0   5.323010  5570             0               1         0   \n",
       "\n",
       "   pg_Other  pg_Townhouse  rt_Entire_home/apt  rt_Private_room  \\\n",
       "0         0             0                   1                0   \n",
       "1         0             0                   1                0   \n",
       "\n",
       "   rt_Shared_room                     geometry  \n",
       "0               0  POINT (-117.12971 32.75399)  \n",
       "1               0  POINT (-117.25253 32.78421)  "
      ]
     },
     "execution_count": 5,
     "metadata": {},
     "output_type": "execute_result"
    }
   ],
   "source": [
    "db.head(2)"
   ]
  },
  {
   "cell_type": "markdown",
   "metadata": {
    "id": "MHLG_fV1y2c5"
   },
   "source": [
    "Estas son las variables explicativas que utilizaremos a lo largo de este ejemplo.\n"
   ]
  },
  {
   "cell_type": "code",
   "execution_count": 6,
   "metadata": {
    "id": "yyECWcxFy2c5",
    "tags": []
   },
   "outputs": [],
   "source": [
    "variable_names = ['accommodates', 'bathrooms', 'bedrooms', 'beds', 'rt_Private_room', 'rt_Shared_room', 'pg_Condominium', 'pg_House', 'pg_Other', 'pg_Townhouse']"
   ]
  },
  {
   "cell_type": "code",
   "execution_count": 36,
   "metadata": {
    "tags": []
   },
   "outputs": [],
   "source": [
    "import requests\n",
    "url = 'http://data.insideairbnb.com/united-states/'\\\n",
    "      'ca/san-diego/2016-07-07/visualisations/'\\\n",
    "      'neighbourhoods.geojson'\n",
    "r = requests.get(url)\n",
    "with open('neighbourhoods.geojson', 'wb') as fo:\n",
    "    fo.write(r.content)"
   ]
  },
  {
   "cell_type": "code",
   "execution_count": 47,
   "metadata": {
    "id": "138Whz8Wy2dB",
    "tags": []
   },
   "outputs": [],
   "source": [
    "neighborhoods = gpd.read_file('output.geojson')"
   ]
  },
  {
   "cell_type": "code",
   "execution_count": null,
   "metadata": {
    "id": "e6y-L3SGy2dB",
    "outputId": "2c8f5af5-5880-4a0b-e835-6864f155bf39"
   },
   "outputs": [
    {
     "data": {
      "image/png": "[encoded data removed]",
      "text/plain": [
       "<Figure size 864x432 with 1 Axes>"
      ]
     },
     "metadata": {
      "needs_background": "light"
     },
     "output_type": "display_data"
    }
   ],
   "source": [
    "ax = neighborhoods.plot(color='k', \n",
    "                        alpha=0.5,\n",
    "                        figsize=(12,6))\n",
    "neighborhoods.merge(neighborhood_effects, how='left',\n",
    "                    left_on='neighbourhood', \n",
    "                    right_index=True)\\\n",
    "                  .dropna(subset=['fixed_effect'])\\\n",
    "                  .plot('fixed_effect',\n",
    "                        ax=ax)\n",
    "ax.set_title(\"San Diego Neighborhood Fixed Effects\")\n",
    "plt.show()"
   ]
  },
  {
   "cell_type": "code",
   "execution_count": 49,
   "metadata": {
    "id": "Di3R65qly2dC",
    "tags": []
   },
   "outputs": [],
   "source": [
    "wx = db.filter(like='pg')\\\n",
    "        .apply(lambda y: weights.spatial_lag.lag_spatial(knn, y))\\\n",
    "        .rename(columns=lambda c: 'w_'+c).drop('w_pg_Apartment', axis=1)"
   ]
  },
  {
   "cell_type": "markdown",
   "metadata": {
    "id": "zQMpISi7y2dD"
   },
   "source": [
    "Una vez calculado, podemos ejecutar el modelo utilizando la estimación de MCO (Mínimos Cuadrados Ordinarios) porque, en este contexto, los rezagos espaciales incluidos no violan ninguna de las suposiciones en las que se basa el MCO (son básicamente variables exógenas adicionales):\n"
   ]
  },
  {
   "cell_type": "code",
   "execution_count": 50,
   "metadata": {
    "id": "kajg2LvNy2dD",
    "outputId": "9a0682a0-a15f-44e2-c339-e12aa30c8d62",
    "tags": []
   },
   "outputs": [
    {
     "name": "stdout",
     "output_type": "stream",
     "text": [
      "REGRESSION RESULTS\n",
      "------------------\n",
      "\n",
      "SUMMARY OF OUTPUT: ORDINARY LEAST SQUARES\n",
      "-----------------------------------------\n",
      "Data set            :     unknown\n",
      "Weights matrix      :        None\n",
      "Dependent Variable  :     l_price                Number of Observations:        6110\n",
      "Mean dependent var  :      4.9958                Number of Variables   :          15\n",
      "S.D. dependent var  :      0.8072                Degrees of Freedom    :        6095\n",
      "R-squared           :      0.6800\n",
      "Adjusted R-squared  :      0.6792\n",
      "Sum squared residual:     1273.93                F-statistic           :    924.9423\n",
      "Sigma-square        :       0.209                Prob(F-statistic)     :           0\n",
      "S.E. of regression  :       0.457                Log likelihood        :   -3880.030\n",
      "Sigma-square ML     :       0.208                Akaike info criterion :    7790.061\n",
      "S.E of regression ML:      0.4566                Schwarz criterion     :    7890.826\n",
      "\n",
      "------------------------------------------------------------------------------------\n",
      "            Variable     Coefficient       Std.Error     t-Statistic     Probability\n",
      "------------------------------------------------------------------------------------\n",
      "            CONSTANT         4.32058         0.02350       183.87270         0.00000\n",
      "        accommodates         0.08100         0.00500        16.18439         0.00000\n",
      "           bathrooms         0.18934         0.01081        17.52240         0.00000\n",
      "            bedrooms         0.16360         0.01098        14.90471         0.00000\n",
      "                beds        -0.04515         0.00682        -6.61594         0.00000\n",
      "     rt_Private_room        -0.52938         0.01573       -33.65244         0.00000\n",
      "      rt_Shared_room        -1.28926         0.03814       -33.79951         0.00000\n",
      "      pg_Condominium         0.10635         0.02218         4.79520         0.00000\n",
      "            pg_House         0.03278         0.01570         2.08855         0.03679\n",
      "            pg_Other         0.08619         0.02398         3.59446         0.00033\n",
      "        pg_Townhouse        -0.02771         0.03385        -0.81870         0.41299\n",
      "    w_pg_Condominium         0.59284         0.06896         8.59667         0.00000\n",
      "          w_pg_House        -0.07745         0.03188        -2.42908         0.01517\n",
      "          w_pg_Other         0.48510         0.05515         8.79671         0.00000\n",
      "      w_pg_Townhouse        -0.27245         0.12234        -2.22701         0.02598\n",
      "------------------------------------------------------------------------------------\n",
      "\n",
      "REGRESSION DIAGNOSTICS\n",
      "MULTICOLLINEARITY CONDITION NUMBER           14.277\n",
      "\n",
      "TEST ON NORMALITY OF ERRORS\n",
      "TEST                             DF        VALUE           PROB\n",
      "Jarque-Bera                       2        2458.006           0.0000\n",
      "\n",
      "DIAGNOSTICS FOR HETEROSKEDASTICITY\n",
      "RANDOM COEFFICIENTS\n",
      "TEST                             DF        VALUE           PROB\n",
      "Breusch-Pagan test               14         393.052           0.0000\n",
      "Koenker-Bassett test             14         169.585           0.0000\n",
      "================================ END OF REPORT =====================================\n"
     ]
    }
   ],
   "source": [
    "slx_exog = db[variable_names].join(wx)\n",
    "m5 = spreg.OLS(db[['log_price']].values, \n",
    "                  slx_exog.values,\n",
    "                  name_y='l_price', \n",
    "               name_x=slx_exog.columns.tolist())\n",
    "print(m5.summary)"
   ]
  },
  {
   "cell_type": "markdown",
   "metadata": {
    "id": "KJ1QCodvy2dD"
   },
   "source": [
    "La forma de interpretar la tabla de resultados es similar a la de cualquier otra regresión no espacial. Las variables que incluimos en la regresión original muestran un comportamiento similar, aunque con pequeños cambios en tamaño, y también pueden interpretarse de manera similar. El rezago espacial de cada tipo de propiedad (`w_pg_XXX`) es la nueva adición. Observamos que, excepto en el caso de las casas adosadas (igual que con la variable binaria, `pg_Townhouse`), todas son significativas, lo que sugiere que nuestra hipótesis inicial sobre el papel de las casas circundantes podría estar funcionando aquí.\n",
    "\n",
    "Como ilustración, veamos algunos de los efectos directos/indirectos.\n",
    "El efecto directo de la variable `pg_Condominium` significa que los condominios suelen ser un 11% más caros ($\\beta_{pg\\_Condominium}=0.1063$) que el tipo de propiedad de referencia, los apartamentos. Más relevante para esta sección, cualquier casa dada rodeada de condominios *también* recibe un precio premium. Pero, como $pg_Condominium$ es una variable dummy, el rezago espacial en el sitio $i$ representa el *porcentaje* de propiedades cerca de $i$ que son condominios, que está entre $0$ y $1$.\n",
    "Entonces, un cambio *unitario* en esta variable significa que aumentaría el porcentaje de condominios en un 100%. Por lo tanto, un aumento de $0.1$ en `w_pg_Condominium` (un cambio de diez puntos porcentuales) resultaría en un aumento del 5.92% en el precio de la casa ($\\beta_{w_pg\\_Condominium} = 0.6$).\n",
    "Se pueden derivar interpretaciones similares para todos los demás variables con rezago espacial para derivar el efecto *indirecto* de un cambio en el rezago espacial.\n",
    "\n",
    "Sin embargo, para calcular el cambio indirecto para un sitio dado $i$, es posible que necesite examinar los valores predichos para $y_i$. En este ejemplo, dado que estamos utilizando una matriz de pesos estandarizada por filas con veinte vecinos más cercanos, el impacto de cambiar $x_i$ es el mismo para todos sus vecinos y para cualquier sitio $i$. Por lo tanto, el efecto siempre es $\\frac{\\gamma}{20}$, o aproximadamente $0.0296$. Sin embargo, esto no sería lo mismo para muchos otros tipos de pesos (como `Kernel`, `Queen`, `Rook`, `DistanceBand` o `Voronoi`), por lo que demostraremos cómo construir el efecto indirecto para un $i$ específico:\n",
    "\n",
    "Primero, los valores predichos para $y_i$ se almacenan en el atributo `predy` de cualquier modelo:\n"
   ]
  },
  {
   "cell_type": "code",
   "execution_count": null,
   "metadata": {
    "id": "OLJvXvG6y2dD",
    "outputId": "cb0cff9f-8d40-488b-a754-a402d4bb6c8a"
   },
   "outputs": [
    {
     "data": {
      "text/plain": [
       "array([[5.43610121],\n",
       "       [5.38596868],\n",
       "       [4.25377454],\n",
       "       ...,\n",
       "       [4.29145318],\n",
       "       [4.89174746],\n",
       "       [4.85867698]])"
      ]
     },
     "execution_count": 27,
     "metadata": {},
     "output_type": "execute_result"
    }
   ],
   "source": [
    "m5.predy"
   ]
  },
  {
   "cell_type": "markdown",
   "metadata": {
    "id": "jyIUpvv3y2dD"
   },
   "source": [
    "Para construir nuevas predicciones, necesitamos seguir la ecuación mencionada anteriormente.\n",
    "\n",
    "Mostrando este proceso a continuación, primero cambiemos una propiedad para que sea un condominio. Consideremos la tercera observación, que es el primer apartamento en los datos:\n"
   ]
  },
  {
   "cell_type": "code",
   "execution_count": null,
   "metadata": {
    "id": "zqdvPV5ly2dD",
    "outputId": "179282e9-bc47-4f77-897c-4164fa489f49"
   },
   "outputs": [
    {
     "data": {
      "text/plain": [
       "accommodates                                                     2\n",
       "bathrooms                                                 1.000000\n",
       "bedrooms                                                  1.000000\n",
       "beds                                                      1.000000\n",
       "neighborhood                                           North Hills\n",
       "pool                                                             0\n",
       "d2balboa                                                  2.493893\n",
       "coastal                                                          0\n",
       "price                                                    99.000000\n",
       "log_price                                                 4.595120\n",
       "id                                                            9553\n",
       "pg_Apartment                                                     1\n",
       "pg_Condominium                                                   0\n",
       "pg_House                                                         0\n",
       "pg_Other                                                         0\n",
       "pg_Townhouse                                                     0\n",
       "rt_Entire_home/apt                                               0\n",
       "rt_Private_room                                                  1\n",
       "rt_Shared_room                                                   0\n",
       "geometry              POINT (-117.1412083878189 32.75326632438691)\n",
       "Name: 2, dtype: object"
      ]
     },
     "execution_count": 28,
     "metadata": {},
     "output_type": "execute_result"
    }
   ],
   "source": [
    "db.loc[2]"
   ]
  },
  {
   "cell_type": "markdown",
   "metadata": {
    "id": "dP67mCzMy2dD"
   },
   "source": [
    "Este es un apartamento. Hagamos una copia de nuestros datos y cambiemos este apartamento por un condominio:\n"
   ]
  },
  {
   "cell_type": "code",
   "execution_count": null,
   "metadata": {
    "id": "VtVb8Yppy2dD"
   },
   "outputs": [],
   "source": [
    "db_scenario = db.copy()\n",
    "db_scenario.loc[2, ['pg_Apartment', 'pg_Condominium']] = [0,1] # make Apartment 0 and condo 1"
   ]
  },
  {
   "cell_type": "markdown",
   "metadata": {
    "id": "-2_ESGICy2dE"
   },
   "source": [
    "Hemos realizado el cambio con éxito:\n"
   ]
  },
  {
   "cell_type": "code",
   "execution_count": null,
   "metadata": {
    "id": "tpGVBkNKy2dE",
    "outputId": "9f79860a-6b76-40d0-dfc1-a1b688622081"
   },
   "outputs": [
    {
     "data": {
      "text/plain": [
       "accommodates                                                     2\n",
       "bathrooms                                                        1\n",
       "bedrooms                                                         1\n",
       "beds                                                             1\n",
       "neighborhood                                           North Hills\n",
       "pool                                                             0\n",
       "d2balboa                                                   2.49389\n",
       "coastal                                                          0\n",
       "price                                                           99\n",
       "log_price                                                  4.59512\n",
       "id                                                            9553\n",
       "pg_Apartment                                                     0\n",
       "pg_Condominium                                                   1\n",
       "pg_House                                                         0\n",
       "pg_Other                                                         0\n",
       "pg_Townhouse                                                     0\n",
       "rt_Entire_home/apt                                               0\n",
       "rt_Private_room                                                  1\n",
       "rt_Shared_room                                                   0\n",
       "geometry              POINT (-117.1412083878189 32.75326632438691)\n",
       "residual                                                  0.287341\n",
       "Name: 2, dtype: object"
      ]
     },
     "execution_count": 110,
     "metadata": {},
     "output_type": "execute_result"
    }
   ],
   "source": [
    "db_scenario.loc[2]"
   ]
  },
  {
   "cell_type": "markdown",
   "metadata": {
    "id": "JGzeuaA2y2dE"
   },
   "source": [
    "Ahora, también necesitamos actualizar las variables de rezago espacial:\n"
   ]
  },
  {
   "cell_type": "code",
   "execution_count": null,
   "metadata": {
    "id": "eF9W7dw5y2dE"
   },
   "outputs": [],
   "source": [
    "wx_scenario = db_scenario.filter(like='pg')\\\n",
    "                         .apply(lambda y: weights.spatial_lag.lag_spatial(knn, y))\\\n",
    "                         .rename(columns=lambda c: 'w_'+c).drop('w_pg_Apartment', axis=1)"
   ]
  },
  {
   "cell_type": "markdown",
   "metadata": {
    "id": "GdqAq-YMy2dE"
   },
   "source": [
    "Y construir una nueva matriz exógena $\\mathbf{X}$, incluyendo una constante 1 como la columna principal\n"
   ]
  },
  {
   "cell_type": "code",
   "execution_count": null,
   "metadata": {
    "id": "ge5N2z-My2dE"
   },
   "outputs": [],
   "source": [
    "slx_exog_scenario = db_scenario[variable_names].join(wx_scenario)"
   ]
  },
  {
   "cell_type": "markdown",
   "metadata": {
    "id": "MUe8Kmidy2dE"
   },
   "source": [
    "Ahora, nuestra nueva predicción (en el escenario donde hemos cambiado el sitio `2` de un apartamento a un condominio) es:\n"
   ]
  },
  {
   "cell_type": "code",
   "execution_count": null,
   "metadata": {
    "id": "mRlQ7Sl9y2dE"
   },
   "outputs": [],
   "source": [
    "y_pred_scenario = m5.betas[0] + slx_exog_scenario @ m5.betas[1:]"
   ]
  },
  {
   "cell_type": "markdown",
   "metadata": {
    "id": "prxqgeN1y2dE"
   },
   "source": [
    "Esta predicción será exactamente la misma para todos los sitios, excepto el sitio `2` y sus vecinos. Entonces, los *vecinos* del sitio `2` son:\n"
   ]
  },
  {
   "cell_type": "code",
   "execution_count": null,
   "metadata": {
    "id": "vXMZsBZgy2dF",
    "outputId": "fa41ca2e-257e-422d-b7e4-31c79cfb7219"
   },
   "outputs": [
    {
     "data": {
      "text/plain": [
       "[772,\n",
       " 2212,\n",
       " 139,\n",
       " 4653,\n",
       " 2786,\n",
       " 1218,\n",
       " 138,\n",
       " 808,\n",
       " 1480,\n",
       " 4241,\n",
       " 1631,\n",
       " 3617,\n",
       " 2612,\n",
       " 1162,\n",
       " 135,\n",
       " 23,\n",
       " 5528,\n",
       " 3591,\n",
       " 407,\n",
       " 6088]"
      ]
     },
     "execution_count": 114,
     "metadata": {},
     "output_type": "execute_result"
    }
   ],
   "source": [
    "knn.neighbors[2]"
   ]
  },
  {
   "cell_type": "markdown",
   "metadata": {
    "id": "ZbQ5lRy3y2dF"
   },
   "source": [
    "Y el efecto de cambiar el sitio `2` a un condominio se asocia con los siguientes cambios en $y_i$:\n"
   ]
  },
  {
   "cell_type": "code",
   "execution_count": null,
   "metadata": {
    "collapsed": true,
    "id": "18AAgab0y2dF",
    "jupyter": {
     "outputs_hidden": true
    },
    "outputId": "4bc5c6b3-205a-4b52-a96e-54d2168ae314",
    "tags": []
   },
   "outputs": [
    {
     "data": {
      "text/html": [
       "<div>\n",
       "<style scoped>\n",
       "    .dataframe tbody tr th:only-of-type {\n",
       "        vertical-align: middle;\n",
       "    }\n",
       "\n",
       "    .dataframe tbody tr th {\n",
       "        vertical-align: top;\n",
       "    }\n",
       "\n",
       "    .dataframe thead th {\n",
       "        text-align: right;\n",
       "    }\n",
       "</style>\n",
       "<table border=\"1\" class=\"dataframe\">\n",
       "  <thead>\n",
       "    <tr style=\"text-align: right;\">\n",
       "      <th></th>\n",
       "      <th>0</th>\n",
       "    </tr>\n",
       "  </thead>\n",
       "  <tbody>\n",
       "    <tr>\n",
       "      <th>2</th>\n",
       "      <td>0.106349</td>\n",
       "    </tr>\n",
       "    <tr>\n",
       "      <th>772</th>\n",
       "      <td>0.029642</td>\n",
       "    </tr>\n",
       "    <tr>\n",
       "      <th>2212</th>\n",
       "      <td>0.029642</td>\n",
       "    </tr>\n",
       "    <tr>\n",
       "      <th>139</th>\n",
       "      <td>0.029642</td>\n",
       "    </tr>\n",
       "    <tr>\n",
       "      <th>4653</th>\n",
       "      <td>0.029642</td>\n",
       "    </tr>\n",
       "    <tr>\n",
       "      <th>2786</th>\n",
       "      <td>0.029642</td>\n",
       "    </tr>\n",
       "    <tr>\n",
       "      <th>1218</th>\n",
       "      <td>0.029642</td>\n",
       "    </tr>\n",
       "    <tr>\n",
       "      <th>138</th>\n",
       "      <td>0.029642</td>\n",
       "    </tr>\n",
       "    <tr>\n",
       "      <th>808</th>\n",
       "      <td>0.029642</td>\n",
       "    </tr>\n",
       "    <tr>\n",
       "      <th>1480</th>\n",
       "      <td>0.029642</td>\n",
       "    </tr>\n",
       "    <tr>\n",
       "      <th>4241</th>\n",
       "      <td>0.029642</td>\n",
       "    </tr>\n",
       "    <tr>\n",
       "      <th>1631</th>\n",
       "      <td>0.029642</td>\n",
       "    </tr>\n",
       "    <tr>\n",
       "      <th>3617</th>\n",
       "      <td>0.029642</td>\n",
       "    </tr>\n",
       "    <tr>\n",
       "      <th>2612</th>\n",
       "      <td>0.029642</td>\n",
       "    </tr>\n",
       "    <tr>\n",
       "      <th>1162</th>\n",
       "      <td>0.029642</td>\n",
       "    </tr>\n",
       "    <tr>\n",
       "      <th>135</th>\n",
       "      <td>0.029642</td>\n",
       "    </tr>\n",
       "    <tr>\n",
       "      <th>23</th>\n",
       "      <td>0.029642</td>\n",
       "    </tr>\n",
       "    <tr>\n",
       "      <th>5528</th>\n",
       "      <td>0.029642</td>\n",
       "    </tr>\n",
       "    <tr>\n",
       "      <th>3591</th>\n",
       "      <td>0.029642</td>\n",
       "    </tr>\n",
       "    <tr>\n",
       "      <th>407</th>\n",
       "      <td>0.029642</td>\n",
       "    </tr>\n",
       "    <tr>\n",
       "      <th>6088</th>\n",
       "      <td>0.029642</td>\n",
       "    </tr>\n",
       "  </tbody>\n",
       "</table>\n",
       "</div>"
      ],
      "text/plain": [
       "             0\n",
       "2     0.106349\n",
       "772   0.029642\n",
       "2212  0.029642\n",
       "139   0.029642\n",
       "4653  0.029642\n",
       "2786  0.029642\n",
       "1218  0.029642\n",
       "138   0.029642\n",
       "808   0.029642\n",
       "1480  0.029642\n",
       "4241  0.029642\n",
       "1631  0.029642\n",
       "3617  0.029642\n",
       "2612  0.029642\n",
       "1162  0.029642\n",
       "135   0.029642\n",
       "23    0.029642\n",
       "5528  0.029642\n",
       "3591  0.029642\n",
       "407   0.029642\n",
       "6088  0.029642"
      ]
     },
     "execution_count": 115,
     "metadata": {},
     "output_type": "execute_result"
    }
   ],
   "source": [
    "(y_pred_scenario - m5.predy).loc[[2] + knn.neighbors[2]]"
   ]
  },
  {
   "cell_type": "markdown",
   "metadata": {
    "id": "cCkVnJQ0y2dF"
   },
   "source": [
    "Vemos que la primera fila, que representa el efecto directo, es igual exactamente a la estimación para `pg_Condominium`. Sin embargo, para los otros efectos, solo hemos cambiado `w_pg_Condominium` en $0.05$.\n"
   ]
  },
  {
   "cell_type": "code",
   "execution_count": null,
   "metadata": {
    "id": "OmjJevJ9y2dF",
    "outputId": "e936ccc8-88aa-4c31-cf6f-634247b41d66",
    "tags": []
   },
   "outputs": [
    {
     "data": {
      "text/html": [
       "<div>\n",
       "<style scoped>\n",
       "    .dataframe tbody tr th:only-of-type {\n",
       "        vertical-align: middle;\n",
       "    }\n",
       "\n",
       "    .dataframe tbody tr th {\n",
       "        vertical-align: top;\n",
       "    }\n",
       "\n",
       "    .dataframe thead th {\n",
       "        text-align: right;\n",
       "    }\n",
       "</style>\n",
       "<table border=\"1\" class=\"dataframe\">\n",
       "  <thead>\n",
       "    <tr style=\"text-align: right;\">\n",
       "      <th></th>\n",
       "      <th>w_pg_Condominium_scenario</th>\n",
       "      <th>w_pg_Condominium_original</th>\n",
       "    </tr>\n",
       "  </thead>\n",
       "  <tbody>\n",
       "    <tr>\n",
       "      <th>772</th>\n",
       "      <td>0.10</td>\n",
       "      <td>0.05</td>\n",
       "    </tr>\n",
       "    <tr>\n",
       "      <th>2212</th>\n",
       "      <td>0.10</td>\n",
       "      <td>0.05</td>\n",
       "    </tr>\n",
       "    <tr>\n",
       "      <th>139</th>\n",
       "      <td>0.10</td>\n",
       "      <td>0.05</td>\n",
       "    </tr>\n",
       "    <tr>\n",
       "      <th>4653</th>\n",
       "      <td>0.10</td>\n",
       "      <td>0.05</td>\n",
       "    </tr>\n",
       "    <tr>\n",
       "      <th>2786</th>\n",
       "      <td>0.10</td>\n",
       "      <td>0.05</td>\n",
       "    </tr>\n",
       "    <tr>\n",
       "      <th>1218</th>\n",
       "      <td>0.10</td>\n",
       "      <td>0.05</td>\n",
       "    </tr>\n",
       "    <tr>\n",
       "      <th>138</th>\n",
       "      <td>0.10</td>\n",
       "      <td>0.05</td>\n",
       "    </tr>\n",
       "    <tr>\n",
       "      <th>808</th>\n",
       "      <td>0.05</td>\n",
       "      <td>0.00</td>\n",
       "    </tr>\n",
       "    <tr>\n",
       "      <th>1480</th>\n",
       "      <td>0.10</td>\n",
       "      <td>0.05</td>\n",
       "    </tr>\n",
       "    <tr>\n",
       "      <th>4241</th>\n",
       "      <td>0.10</td>\n",
       "      <td>0.05</td>\n",
       "    </tr>\n",
       "    <tr>\n",
       "      <th>1631</th>\n",
       "      <td>0.10</td>\n",
       "      <td>0.05</td>\n",
       "    </tr>\n",
       "    <tr>\n",
       "      <th>3617</th>\n",
       "      <td>0.10</td>\n",
       "      <td>0.05</td>\n",
       "    </tr>\n",
       "    <tr>\n",
       "      <th>2612</th>\n",
       "      <td>0.10</td>\n",
       "      <td>0.05</td>\n",
       "    </tr>\n",
       "    <tr>\n",
       "      <th>1162</th>\n",
       "      <td>0.05</td>\n",
       "      <td>0.00</td>\n",
       "    </tr>\n",
       "    <tr>\n",
       "      <th>135</th>\n",
       "      <td>0.05</td>\n",
       "      <td>0.00</td>\n",
       "    </tr>\n",
       "    <tr>\n",
       "      <th>23</th>\n",
       "      <td>0.10</td>\n",
       "      <td>0.05</td>\n",
       "    </tr>\n",
       "    <tr>\n",
       "      <th>5528</th>\n",
       "      <td>0.05</td>\n",
       "      <td>0.00</td>\n",
       "    </tr>\n",
       "    <tr>\n",
       "      <th>3591</th>\n",
       "      <td>0.05</td>\n",
       "      <td>0.00</td>\n",
       "    </tr>\n",
       "    <tr>\n",
       "      <th>407</th>\n",
       "      <td>0.05</td>\n",
       "      <td>0.00</td>\n",
       "    </tr>\n",
       "    <tr>\n",
       "      <th>6088</th>\n",
       "      <td>0.10</td>\n",
       "      <td>0.05</td>\n",
       "    </tr>\n",
       "  </tbody>\n",
       "</table>\n",
       "</div>"
      ],
      "text/plain": [
       "      w_pg_Condominium_scenario  w_pg_Condominium_original\n",
       "772                        0.10                       0.05\n",
       "2212                       0.10                       0.05\n",
       "139                        0.10                       0.05\n",
       "4653                       0.10                       0.05\n",
       "2786                       0.10                       0.05\n",
       "1218                       0.10                       0.05\n",
       "138                        0.10                       0.05\n",
       "808                        0.05                       0.00\n",
       "1480                       0.10                       0.05\n",
       "4241                       0.10                       0.05\n",
       "1631                       0.10                       0.05\n",
       "3617                       0.10                       0.05\n",
       "2612                       0.10                       0.05\n",
       "1162                       0.05                       0.00\n",
       "135                        0.05                       0.00\n",
       "23                         0.10                       0.05\n",
       "5528                       0.05                       0.00\n",
       "3591                       0.05                       0.00\n",
       "407                        0.05                       0.00\n",
       "6088                       0.10                       0.05"
      ]
     },
     "execution_count": 116,
     "metadata": {},
     "output_type": "execute_result"
    }
   ],
   "source": [
    "scenario_near_2 = slx_exog_scenario.loc[knn.neighbors[2], ['w_pg_Condominium']]\n",
    "orig_near_2 = slx_exog.loc[knn.neighbors[2], ['w_pg_Condominium']]\n",
    "scenario_near_2.join(orig_near_2, lsuffix='_scenario', rsuffix= '_original')"
   ]
  },
  {
   "cell_type": "markdown",
   "metadata": {
    "id": "7--ObLfpy2dF"
   },
   "source": [
    "Introducir un retraso espacial de una variable explicativa, como acabamos de ver, es la forma más sencilla de incorporar la noción de dependencia espacial en un marco de regresión lineal. No requiere cambios adicionales, puede estimarse con OLS y la interpretación es bastante similar a la de interpretar variables no espaciales, siempre que se requieran cambios agregados.\n",
    "\n",
    "Sin embargo, el campo de la econometría espacial es mucho más amplio y ha producido en las últimas décadas muchas técnicas para tratar los efectos espaciales y la dependencia espacial de diferentes maneras. Aunque esto puede ser una simplificación excesiva, se puede decir que la mayoría de esos esfuerzos para el caso de una sola sección transversal se centran en dos variaciones principales: el modelo de retraso espacial y el modelo de error espacial. Ambos son similares al caso que hemos visto en que se basan en la introducción de un retraso espacial, pero difieren en el componente del modelo que modifican y afectan.\n",
    "\n",
    "## Efectos de autocorrelación endógena con el error espacial\n",
    "\n",
    "El modelo de error espacial incluye un retraso espacial en el término de error de la ecuación:\n",
    "\n",
    "$$\n",
    "\\log{P_i} = \\alpha + \\sum_k \\beta_k X_{ki} + u_i\n",
    "$$\n",
    "\n",
    "$$\n",
    "u_i = \\lambda u_{lag-i} + \\epsilon_i\n",
    "$$\n",
    "\n",
    "donde $u_{lag-i} = \\sum_j w_{i,j} u_j$.\n",
    "Aunque parece similar, esta especificación viola las suposiciones sobre el término de error en un modelo OLS clásico. Por lo tanto, se requieren métodos de estimación alternativos. `PySAL` incorpora funcionalidad para estimar varios de los métodos más avanzados desarrollados por la literatura sobre econometría espacial. Por ejemplo, podemos usar un método general de momentos que tenga en cuenta la heterogeneidad (Arraiz et al., 2010):\n"
   ]
  },
  {
   "cell_type": "code",
   "execution_count": null,
   "metadata": {
    "id": "0qQLvGa_y2dF",
    "outputId": "ea522f94-e4e0-4543-c52a-153fde50ab86"
   },
   "outputs": [
    {
     "name": "stdout",
     "output_type": "stream",
     "text": [
      "REGRESSION\n",
      "----------\n",
      "SUMMARY OF OUTPUT: SPATIALLY WEIGHTED LEAST SQUARES (HET)\n",
      "---------------------------------------------------------\n",
      "Data set            :     unknown\n",
      "Weights matrix      :     unknown\n",
      "Dependent Variable  :   log_price                Number of Observations:        6110\n",
      "Mean dependent var  :      4.9958                Number of Variables   :          11\n",
      "S.D. dependent var  :      0.8072                Degrees of Freedom    :        6099\n",
      "Pseudo R-squared    :      0.6655\n",
      "N. of iterations    :           1                Step1c computed       :          No\n",
      "\n",
      "------------------------------------------------------------------------------------\n",
      "            Variable     Coefficient       Std.Error     z-Statistic     Probability\n",
      "------------------------------------------------------------------------------------\n",
      "            CONSTANT       4.4262033       0.0217088     203.8898738       0.0000000\n",
      "        accommodates       0.0695536       0.0063268      10.9934495       0.0000000\n",
      "           bathrooms       0.1614101       0.0151312      10.6673765       0.0000000\n",
      "            bedrooms       0.1739251       0.0146697      11.8560847       0.0000000\n",
      "                beds      -0.0377710       0.0088293      -4.2779023       0.0000189\n",
      "     rt_Private_room      -0.4947947       0.0163843     -30.1993140       0.0000000\n",
      "      rt_Shared_room      -1.1613985       0.0515304     -22.5381175       0.0000000\n",
      "      pg_Condominium       0.1003761       0.0213148       4.7092198       0.0000025\n",
      "            pg_House       0.0308334       0.0147100       2.0960849       0.0360747\n",
      "            pg_Other       0.0861768       0.0254942       3.3802547       0.0007242\n",
      "        pg_Townhouse      -0.0074515       0.0292873      -0.2544285       0.7991646\n",
      "              lambda       0.6448728       0.0186626      34.5543739       0.0000000\n",
      "------------------------------------------------------------------------------------\n",
      "================================ END OF REPORT =====================================\n"
     ]
    }
   ],
   "source": [
    "m6 = spreg.GM_Error_Het(db[['log_price']].values, db[variable_names].values,\n",
    "                           w=knn, name_y='log_price', name_x=variable_names)\n",
    "print(m6.summary)"
   ]
  },
  {
   "cell_type": "markdown",
   "metadata": {
    "id": "mQ7f9TSIy2dG"
   },
   "source": [
    "## Efectos de autocorrelación endógena entre la variable dependiente\n",
    "\n",
    "El modelo de retraso espacial introduce un retraso espacial de la variable *dependiente*. En el ejemplo que hemos cubierto, esto se traduciría en:\n",
    "\n",
    "$$\n",
    "\\log{P_i} = \\alpha + \\rho \\log{P_{lag-i}} + \\sum_k \\beta_k X_{ki} + \\epsilon_i\n",
    "$$\n",
    "\n",
    "Aunque puede no parecer muy diferente de la ecuación anterior, este modelo viola la suposición de exogeneidad, crucial para que funcione OLS.\n",
    "En pocas palabras, esto ocurre cuando $P_i$ existe en ambos \"lados\" del signo igual.\n",
    "En teoría, dado que $P_i$ se incluye en el cálculo de $P_{lag-i}$, se viola la exogeneidad.\n",
    "Al igual que en el caso del error espacial, se han propuesto varias técnicas para superar esta limitación y `PySAL` implementa varias de ellas. En el ejemplo a continuación, utilizamos una estimación de mínimos cuadrados en dos etapas Anselin (1988), donde el retraso espacial de todas las variables explicativas se utiliza como instrumento para el retraso endógeno:\n"
   ]
  },
  {
   "cell_type": "code",
   "execution_count": null,
   "metadata": {
    "id": "a-d7qwFVy2dG",
    "outputId": "bcfbb544-f8ec-434e-9a3a-4d109eaebdeb"
   },
   "outputs": [
    {
     "name": "stdout",
     "output_type": "stream",
     "text": [
      "REGRESSION\n",
      "----------\n",
      "SUMMARY OF OUTPUT: SPATIAL TWO STAGE LEAST SQUARES\n",
      "--------------------------------------------------\n",
      "Data set            :     unknown\n",
      "Weights matrix      :     unknown\n",
      "Dependent Variable  :   log_price                Number of Observations:        6110\n",
      "Mean dependent var  :      4.9958                Number of Variables   :          12\n",
      "S.D. dependent var  :      0.8072                Degrees of Freedom    :        6098\n",
      "Pseudo R-squared    :      0.7057\n",
      "Spatial Pseudo R-squared:  0.6883\n",
      "\n",
      "------------------------------------------------------------------------------------\n",
      "            Variable     Coefficient       Std.Error     z-Statistic     Probability\n",
      "------------------------------------------------------------------------------------\n",
      "            CONSTANT       2.7440254       0.0727290      37.7294400       0.0000000\n",
      "        accommodates       0.0697596       0.0048157      14.4859187       0.0000000\n",
      "           bathrooms       0.1626725       0.0104007      15.6405467       0.0000000\n",
      "            bedrooms       0.1604137       0.0104823      15.3033012       0.0000000\n",
      "                beds      -0.0365065       0.0065336      -5.5874750       0.0000000\n",
      "     rt_Private_room      -0.4981415       0.0151396     -32.9031780       0.0000000\n",
      "      rt_Shared_room      -1.1157392       0.0365563     -30.5210777       0.0000000\n",
      "      pg_Condominium       0.1072995       0.0209048       5.1327614       0.0000003\n",
      "            pg_House      -0.0004017       0.0136828      -0.0293598       0.9765777\n",
      "            pg_Other       0.1207503       0.0214771       5.6222929       0.0000000\n",
      "        pg_Townhouse      -0.0185543       0.0322730      -0.5749190       0.5653461\n",
      "         W_log_price       0.3416482       0.0147787      23.1175620       0.0000000\n",
      "------------------------------------------------------------------------------------\n",
      "Instrumented: W_log_price\n",
      "Instruments: W_accommodates, W_bathrooms, W_bedrooms, W_beds,\n",
      "             W_pg_Condominium, W_pg_House, W_pg_Other, W_pg_Townhouse,\n",
      "             W_rt_Private_room, W_rt_Shared_room\n",
      "================================ END OF REPORT =====================================\n"
     ]
    }
   ],
   "source": [
    "m7 = spreg.GM_Lag(db[['log_price']].values, db[variable_names].values,\n",
    "                     w=knn, name_y='log_price', name_x=variable_names)\n",
    "print(m7.summary)"
   ]
  },
  {
   "cell_type": "markdown",
   "metadata": {},
   "source": [
    "## Modelos SAR en R\n",
    "\n",
    "Para trabajar en R modelos espaciales con matrices SAR se deben utilizar las siguientes librerías\n",
    "\n",
    "```r\n",
    "library(sf) #simple features for spatial data\n",
    "library(spdep)\n",
    "library(spatialreg)\n",
    "```\n",
    "\n",
    "Para calcular la matriz de vecindad con vecinos mas cercanos, en este caso se debe primero obtener las coordenadas de los centroides de cada poligono del area de estudio (aoi), y finalmente transformar la matriz de vecindad a una lista:\n",
    "\n",
    "```r\n",
    "## Store the centroids of the polygons\n",
    "aoi.coords = st_centroid(aoi.geom)\n",
    "\n",
    "## Here each region is linked to its k nearest neighbors irrespective of the distance between them\n",
    "sy5_nb = knn2nb(knearneigh(aoi.coords, k = 5))\n",
    "aoi.listw = nb2listw(sy5_nb)\n",
    "```\n",
    "\n",
    "Para implementar cada uno de los modelos se utilizan las siguientes funciones:\n",
    "\n",
    "```r\n",
    "#Spatial Lag Model\n",
    "col.fit2 = lagsarlm(y ~ x1 + x2 + x3, data = data, listw = aoi.listw)\n",
    "summary(col.fit2,Nagelkerke=T)\n",
    "\n",
    "#Spatial Error Model\n",
    "col.fit3 = errorsarlm(y ~ x1 + x2 + x3, data = data, listw = aoi.listw)\n",
    "summary(col.fit3,Nagelkerke=T)\n",
    "\n",
    "#Spatial Durbin Lag Model\n",
    "col.fit4 = lagsarlm(y ~ x1 + x2 + x3, data = data, listw = aoi.listw,type = \"mixed\")\n",
    "summary(col.fit4,Nagelkerke=T)\n",
    "\n",
    "#SLX Spatially Lagged X\n",
    "col.fit5 = lmSLX(y ~ x1 + x2 + x3, data = data, listw = aoi.listw)\n",
    "summary(col.fit5,Nagelkerke=T)\n",
    "\n",
    "#Spatial Durbin Error\n",
    "col.fit6 <- errorsarlm(y ~ x1 + x2 + x3, data = data, listw = aoi.listw, etype = \"emixed\")\n",
    "summary(col.fit6,Nagelkerke=T)\n",
    "\n",
    "#Mansky\n",
    "col.fit7 <- sacsarlm(y ~ x1 + x2 + x3, data = data, listw = aoi.listw, type=\"sacmixed\") \n",
    "summary(col.fit7,Nagelkerke=T)\n",
    "\n",
    "#SARAR, Kelejian-Prucha, Cliff-Ord, or SAC\n",
    "col.fit8 <- sacsarlm(y ~ x1 + x2 + x3, data = data, listw = aoi.listw, type=\"sac\")\n",
    "summary(col.fit8,Nagelkerke=T)\n",
    "```\n",
    " "
   ]
  }
 ],
 "metadata": {
  "colab": {
   "name": "SpatialRegression.ipynb",
   "provenance": []
  },
  "jupytext": {
   "formats": "ipynb,md"
  },
  "kernelspec": {
   "display_name": "carto",
   "language": "python",
   "name": "carto"
  },
  "language_info": {
   "codemirror_mode": {
    "name": "ipython",
    "version": 3
   },
   "file_extension": ".py",
   "mimetype": "text/x-python",
   "name": "python",
   "nbconvert_exporter": "python",
   "pygments_lexer": "ipython3",
   "version": "3.11.4"
  }
 },
 "nbformat": 4,
 "nbformat_minor": 4
}
