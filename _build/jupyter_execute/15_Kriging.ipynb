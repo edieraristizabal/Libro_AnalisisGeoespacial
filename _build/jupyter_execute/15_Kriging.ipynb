{
 "cells": [
  {
   "cell_type": "markdown",
   "id": "782cfe5a",
   "metadata": {},
   "source": [
    "**CURSO**: Análisis Geoespacial, Departamento de Geociencias y Medio Ambiente, Universidad Nacional de Colombia - sede Medellín\\\n",
    "**Profesor**: Edier Aristizábal ([evaristizabalg\\@unal.edu.co](mailto:evaristizabalg@unal.edu.co){.email})\\\n",
    "**Créditos**: El contenido de este notebook está basado en [Spatial Data Science](https://r-spatial.org/python/12-Interpolation.html)"
   ]
  },
  {
   "cell_type": "code",
   "execution_count": 1,
   "id": "20cb7ad8",
   "metadata": {},
   "outputs": [
    {
     "ename": "SyntaxError",
     "evalue": "invalid syntax (2985913085.py, line 6)",
     "output_type": "error",
     "traceback": [
      "\u001b[1;36m  Cell \u001b[1;32mIn[1], line 6\u001b[1;36m\u001b[0m\n\u001b[1;33m    for (pkg in librerias)\u001b[0m\n\u001b[1;37m                          ^\u001b[0m\n\u001b[1;31mSyntaxError\u001b[0m\u001b[1;31m:\u001b[0m invalid syntax\n"
     ]
    }
   ],
   "source": [
    "librerias <- c(\"sp\",\n",
    "               \"gstat\",\n",
    "               \"scales\"\n",
    "               )\n",
    "\n",
    "for (pkg in librerias)\n",
    "  {\n",
    "  if (!(pkg %in% installed.packages()))\n",
    "      install.packages(pkg, repos = \"http://cran.r-project.org\")\n",
    " \n",
    "  library(pkg, character.only = TRUE)\n",
    "}"
   ]
  },
  {
   "cell_type": "markdown",
   "id": "883cfe39",
   "metadata": {},
   "source": [
    "# Kriging interpolation"
   ]
  },
  {
   "cell_type": "code",
   "execution_count": null,
   "id": "05e7618a",
   "metadata": {},
   "outputs": [],
   "source": [
    "data(meuse)\n",
    "class(meuse)\n",
    "str(meuse)"
   ]
  },
  {
   "cell_type": "code",
   "execution_count": null,
   "id": "0c9c40a8",
   "metadata": {},
   "outputs": [],
   "source": [
    "coordinates(meuse) <- ~ x + y\n",
    "class(meuse)"
   ]
  },
  {
   "cell_type": "code",
   "execution_count": null,
   "id": "70413412",
   "metadata": {},
   "outputs": [],
   "source": [
    "meuse %>% coordinates %>% head"
   ]
  },
  {
   "cell_type": "code",
   "execution_count": null,
   "id": "16bc603a",
   "metadata": {},
   "outputs": [],
   "source": [
    "meuse %>% bbox"
   ]
  },
  {
   "cell_type": "code",
   "execution_count": null,
   "id": "d51a62f4",
   "metadata": {},
   "outputs": [],
   "source": [
    "meuse_df <- cbind( attr(meuse, \"data\"), meuse@coords) # just coerce to df"
   ]
  },
  {
   "cell_type": "code",
   "execution_count": null,
   "id": "8b736127",
   "metadata": {},
   "outputs": [],
   "source": [
    "meuse %>% as.data.frame %>% \n",
    "  ggplot(aes(x, y)) + geom_point(aes(size=zinc), color=\"blue\", alpha=3/4) + \n",
    "  ggtitle(\"Zinc Concentration (ppm)\") + coord_equal() + theme_bw()"
   ]
  },
  {
   "cell_type": "code",
   "execution_count": null,
   "id": "ddf59314",
   "metadata": {},
   "outputs": [],
   "source": [
    "data(meuse.grid)\n",
    "summary(meuse.grid)\n",
    "meuse.grid %>% str\n",
    "meuse.grid %>% class\n",
    "meuse.grid %>% as.data.frame %>% \n",
    "  ggplot(aes(x, y)) + geom_point(size=1) + coord_equal()"
   ]
  },
  {
   "cell_type": "code",
   "execution_count": null,
   "id": "b4006a72",
   "metadata": {},
   "outputs": [],
   "source": [
    "meuse %>% as.data.frame %>% \n",
    "  ggplot(aes(x, y)) + geom_point(size=1) + coord_equal()"
   ]
  },
  {
   "cell_type": "code",
   "execution_count": null,
   "id": "1d8563e5",
   "metadata": {},
   "outputs": [],
   "source": [
    "coordinates(meuse.grid) = ~x+y\n",
    "gridded(meuse.grid) = TRUE\n",
    "meuse.grid %>% class"
   ]
  },
  {
   "cell_type": "code",
   "execution_count": null,
   "id": "29476b0c",
   "metadata": {},
   "outputs": [],
   "source": [
    "meuse.grid %>% as.data.frame %>%\n",
    "  ggplot(aes(x, y)) + geom_tile(aes(fill=dist)) + \n",
    "  scale_fill_gradient(low = \"red\", high=\"yellow\") + coord_equal() + theme_bw() + \n",
    "  ggtitle(\"Distance to River\")"
   ]
  },
  {
   "cell_type": "code",
   "execution_count": null,
   "id": "89d6cf49",
   "metadata": {},
   "outputs": [],
   "source": [
    "zinc.idw <- idw(zinc~1, meuse, meuse.grid)"
   ]
  },
  {
   "cell_type": "code",
   "execution_count": null,
   "id": "d9a380bf",
   "metadata": {},
   "outputs": [],
   "source": [
    "zinc.idw %>% as.data.frame %>% \n",
    "  ggplot(aes(x=x, y=y, fill=var1.pred)) + geom_tile() + theme_bw() + \n",
    "  coord_equal() + scale_fill_gradient(low = \"red\", high=\"yellow\") + \n",
    "  ggtitle(\"zinc inverse distance weighted interpolations\") + \n",
    "  scale_x_continuous(labels=comma) + scale_y_continuous(labels=comma) "
   ]
  },
  {
   "cell_type": "markdown",
   "id": "ea2f8d9b",
   "metadata": {},
   "source": [
    "### Semivariograma"
   ]
  },
  {
   "cell_type": "code",
   "execution_count": null,
   "id": "4e015d16",
   "metadata": {},
   "outputs": [],
   "source": [
    "# inspect variation of log(zinc) by distance (i.e., from the river)\n",
    "lzn.vgm <- variogram(log(zinc)~1, meuse) # calculates sample variogram values\n",
    "\n",
    "plot(lzn.vgm, plot.numbers = TRUE, xlab = \"distance h [m]\",\n",
    "     ylab = expression(gamma(h)),\n",
    "     xlim = c(0, 1.055 * max(lzn.vgm$dist)))"
   ]
  },
  {
   "cell_type": "code",
   "execution_count": null,
   "id": "b11a1c56",
   "metadata": {},
   "outputs": [],
   "source": [
    "v0 <- variogram(log(zinc)~1, meuse, cutoff = 3000, width = 2000)\n",
    "\n",
    "plot(v0, plot.numbers = TRUE, xlab = \"distance h [m]\",\n",
    "     ylab = expression(gamma(h)),\n",
    "     xlim = c(0, 1.055 * max(v0$dist)))"
   ]
  },
  {
   "cell_type": "code",
   "execution_count": null,
   "id": "26c53c85",
   "metadata": {},
   "outputs": [],
   "source": [
    "lzn.fit <- fit.variogram(lzn.vgm, model=vgm(1, \"Exp\", 900, 1)) # fit model\n",
    "plot(lzn.vgm, lzn.fit) # plot the sample values, along with the fit model"
   ]
  },
  {
   "cell_type": "code",
   "execution_count": null,
   "id": "6237ae26",
   "metadata": {},
   "outputs": [],
   "source": [
    "lzn.vgm"
   ]
  },
  {
   "cell_type": "markdown",
   "id": "2ae627ae",
   "metadata": {},
   "source": [
    "La primera columna, `np`, indica cuántos pares de puntos estaban dentro de la distancia \"dist\" (si esos números parecen muchos, recuerda que aunque meuse solo tiene 155 filas, hay 155 \\* 154 / 2 = 11,935 pares de puntos; ve la gráfica anterior con los puntos representados). Si graficamos este objeto en sí mismo, solo obtenemos el variograma de muestra, sin ningún ajuste (¡inténtalo!).\n",
    "\n",
    "Para realizar un ajuste, llamamos a la función `fit.variogram` y le pasamos dos parámetros: un objeto variograma y un modelo al que queremos ajustar los datos. Con el modelo especificado, la función encontrará los parámetros óptimos (en algún sentido) para que ese modelo se ajuste a los datos.\n",
    "\n",
    "Pero puede que no nos guste ese modelo. Así que podríamos intentar ver cómo varía el log(zinc) con la raíz cuadrada de la distancia. Esta vez, probaremos un modelo exponencial. Por lo demás, todo es prácticamente lo mismo que antes:"
   ]
  },
  {
   "cell_type": "code",
   "execution_count": null,
   "id": "b15fd3e8",
   "metadata": {},
   "outputs": [],
   "source": [
    "# inspect variation of log(zinc) by square root of distance \n",
    "lznr.vgm <- variogram(log(zinc) ~ sqrt(dist), meuse)\n",
    "lznr.fit <- fit.variogram(lznr.vgm, model=vgm(1, \"Exp\", 300, 1))\n",
    "plot(lznr.vgm, lznr.fit)"
   ]
  },
  {
   "cell_type": "markdown",
   "id": "b7281dd5",
   "metadata": {},
   "source": [
    "## Kriging"
   ]
  },
  {
   "cell_type": "code",
   "execution_count": null,
   "id": "03db8dc5",
   "metadata": {},
   "outputs": [],
   "source": [
    "lzn.kriged <- krige(log(zinc) ~ 1, meuse, meuse.grid, model=lzn.fit)"
   ]
  },
  {
   "cell_type": "code",
   "execution_count": null,
   "id": "848094e0",
   "metadata": {},
   "outputs": [],
   "source": [
    "# kriging results in ggplot\n",
    "lzn.kriged %>% as.data.frame %>% \n",
    "  ggplot(aes(x=x, y=y)) + geom_tile(aes(fill=var1.pred)) + \n",
    "  coord_equal() + scale_fill_gradient(low = \"red\", high=\"yellow\") + \n",
    "  scale_x_continuous(labels=comma) + scale_y_continuous(labels=comma) + \n",
    "  theme_bw() "
   ]
  },
  {
   "cell_type": "markdown",
   "id": "eb4fdfc5",
   "metadata": {},
   "source": [
    "### Simulación condicionada"
   ]
  },
  {
   "cell_type": "code",
   "execution_count": null,
   "id": "e9f8d36a",
   "metadata": {},
   "outputs": [],
   "source": [
    "lzn.condsim <- krige(log(zinc)~1, meuse, meuse.grid, model=lzn.fit, \n",
    "                     nmax=30, nsim=4)"
   ]
  },
  {
   "cell_type": "code",
   "execution_count": null,
   "id": "2691b1b5",
   "metadata": {},
   "outputs": [],
   "source": [
    "lzn.condsim %>% as.data.frame %>% \n",
    "  gather(sim, value, sim1:sim4) %>% \n",
    "  ggplot(aes(x=x, y=y)) + geom_tile(aes(fill=value)) + \n",
    "  facet_grid(.~sim) + coord_fixed(ratio = 1) + \n",
    "  scale_x_continuous(labels=comma) + scale_y_continuous(labels=comma) + \n",
    "  scale_fill_gradient(low = \"red\", high=\"yellow\") + \n",
    "  ggtitle(\"Conditional simulations\") + theme_bw()\n"
   ]
  },
  {
   "cell_type": "markdown",
   "id": "5d60c39b",
   "metadata": {},
   "source": [
    "## Universal kriging"
   ]
  },
  {
   "cell_type": "code",
   "execution_count": null,
   "id": "795b326e",
   "metadata": {},
   "outputs": [],
   "source": [
    "vr <- variogram(log(zinc)~dist, meuse)\n",
    "vr.m <- fit.variogram(vr, vgm(1, \"Exp\", 50000, 1))\n",
    "plot(vr, vr.m, plot.numbers = TRUE)"
   ]
  },
  {
   "cell_type": "code",
   "execution_count": null,
   "id": "f5fb2620",
   "metadata": {},
   "outputs": [],
   "source": [
    "kr <- krige(log(zinc)~dist, meuse, meuse.grid, model=vr.m)"
   ]
  },
  {
   "cell_type": "code",
   "execution_count": null,
   "id": "5668b1ab",
   "metadata": {},
   "outputs": [],
   "source": [
    "kr %>% as.data.frame %>% \n",
    "  ggplot(aes(x=x, y=y)) + geom_tile(aes(fill=var1.pred)) + \n",
    "  coord_equal() + scale_fill_gradient(low = \"red\", high=\"yellow\") + \n",
    "  scale_x_continuous(labels=comma) + scale_y_continuous(labels=comma) + \n",
    "  theme_bw() "
   ]
  }
 ],
 "metadata": {
  "jupytext": {
   "cell_metadata_filter": "-all",
   "main_language": "R",
   "notebook_metadata_filter": "-all",
   "text_representation": {
    "extension": ".Rmd",
    "format_name": "rmarkdown"
   }
  },
  "language_info": {
   "codemirror_mode": {
    "name": "ipython",
    "version": 3
   },
   "file_extension": ".py",
   "mimetype": "text/x-python",
   "name": "python",
   "nbconvert_exporter": "python",
   "pygments_lexer": "ipython3",
   "version": "3.11.4"
  }
 },
 "nbformat": 4,
 "nbformat_minor": 5
}