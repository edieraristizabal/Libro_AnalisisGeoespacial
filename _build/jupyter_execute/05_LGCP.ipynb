{
 "cells": [
  {
   "cell_type": "markdown",
   "id": "b8e45b5f",
   "metadata": {},
   "source": [
    "<p style=\"font-size:11px;\"><em><strong>Créditos</strong>: El contenido de este cuaderno ha sido tomado de varias fuentes, pero especialmente de <a href=\"https://www.paulamoraga.com/book-spatial/point-process-modeling.html\">Spatial Statistics for Data Science: Theory and Practice with R</a>. El compilador se disculpa por cualquier omisión involuntaria y estaría encantado de agregar un reconocimiento.</em></p>"
   ]
  },
  {
   "cell_type": "markdown",
   "id": "8852f5f3",
   "metadata": {},
   "source": [
    "# Modelo GLM de Poisson no-homogéneo\n",
    "\n",
    "Los modelos GLM de Poisson no'homogeneo, también llamados Log-Gaussianos Cox (LGCPs), se refieren a que la intensidad $\\lambda(s)$ varía en el espacio. \n",
    "Un LGCP es un proceso de Poisson con una intensidad variable. Dada un area $A$, la probabilidad de observar un \n",
    "cierto número de puntos en dicha área sigue una distribución de Poisson con intensidad (valor esperado):\n",
    "\n",
    "$$\n",
    "\\lambda_A=\\int{\\lambda(s)ds}\n",
    "$$\n",
    "\n",
    "La parte gaussiana de LGCP viene de la modelación $log(\\lambda(s))$ como un Gaussiano latente (condicionado a un conjunto de parámetros), \n",
    "en un marco típico de GLM or GAM.\n",
    "\n",
    "El proceso de Cox log-Gaussiano (LGCP) es un modelo probabilístico de patrones de puntos que se observan típicamente en el espacio o el tiempo. \n",
    "Tiene dos componentes principales. Primero, un campo de *intensidad* subyacente $\\lambda(s)$ de valores reales positivos se modela sobre todo el \n",
    "dominio $X$ utilizando un proceso Gaussiano transformado exponencialmente, lo que obliga a que $\\lambda$ sea positivo. Luego, este campo de intensidad \n",
    "se utiliza para parametrizar un proceso de puntos de Poisson, que representa un mecanismo estocástico para colocar puntos en el espacio. \n",
    "Algunos fenómenos que pueden representarse con este modelo incluyen la incidencia de casos de cáncer en un condado o las ubicaciones espaciotemporales \n",
    "de eventos delictivos en una ciudad. Tanto las dimensiones espaciales como temporales se pueden manejar de manera equivalente dentro de este marco, \n",
    "aunque este tutorial solo aborda datos en dos dimensiones espaciales.\n",
    "\n",
    "En términos más formales, si tenemos un espacio $X$ y $A\\subseteq X$, la distribución sobre el número de puntos $Y_A$ que ocurren dentro del \n",
    "subconjunto $A$ se define como:\n",
    "\n",
    "$$Y_A \\sim Poisson\\left(\\int_A \\lambda(s) ds\\right)$$\n",
    "\n",
    "y el campo de intensidad se define como\n",
    "\n",
    "$$\\log \\lambda(s) \\sim GP(\\mu(s), K(s,s'))$$\n",
    "\n",
    "donde $GP(\\mu(s), K(s,s'))$ denota un proceso Gaussiano con función de media $\\mu(s)$ y núcleo de covarianza $K(s,s')$ para una ubicación $s \\in X$. \n",
    "\n",
    "Un LGCP es un proceso estocástico que tambien puede expresarce de la forma:\n",
    "\n",
    "$\\lambda_s = e^{Z(s)}$,\n",
    "\n",
    "donde Z = {Z(s) : s ∈ R²} es un proceso Gaussiano. Entonces, condicionado a $\\lambda(s)$, el proceso de puntos es un proceso de Poisson no-homogéneo \n",
    "con intensidad $\\lambda(s)$. Esto implica que el número de eventos en cualquier región A se distribuye según una Poisson con media $\\int_A \\lambda(s)$ \n",
    "ds, y las ubicaciones de los eventos son una muestra aleatoria independiente de la distribución en A con una densidad de probabilidad proporcional \n",
    "a $\\lambda(s)$. Un modelo LGCP también puede incluir variables explicativas espaciales, proporcionando un enfoque flexible para describir y \n",
    "predecir una amplia gama de fenómenos espaciales.\n",
    "\n",
    "### Ejemplo 1\n",
    "\n",
    "En este notebook, asumimos que hemos observado un patrón espacial de puntos de ubicaciones de eventos {x_i : i = 1, ..., n} que ha sido generado como una realización de un LGCP, y mostramos cómo ajustar un modelo LGCP a los datos utilizando los enfoques INLA y SPDE. El Capítulo 15 introdujo el enfoque SPDE y describió su implementación en el contexto de la geoestadística basada en modelos utilizando un ejemplo de predicción de contaminación del aire. Aquí, describimos cómo usar SPDE para ajustar un modelo LGCP a un patrón de puntos de especies de plantas para estimar la intensidad del proceso."
   ]
  },
  {
   "cell_type": "code",
   "execution_count": 1,
   "id": "6d1897e1",
   "metadata": {},
   "outputs": [
    {
     "ename": "NameError",
     "evalue": "name 'library' is not defined",
     "output_type": "error",
     "traceback": [
      "\u001b[1;31m---------------------------------------------------------------------------\u001b[0m",
      "\u001b[1;31mNameError\u001b[0m                                 Traceback (most recent call last)",
      "Cell \u001b[1;32mIn[1], line 1\u001b[0m\n\u001b[1;32m----> 1\u001b[0m \u001b[43mlibrary\u001b[49m(\u001b[38;5;124m\"\u001b[39m\u001b[38;5;124msf\u001b[39m\u001b[38;5;124m\"\u001b[39m)\n\u001b[0;32m      2\u001b[0m library(\u001b[38;5;124m\"\u001b[39m\u001b[38;5;124mspocc\u001b[39m\u001b[38;5;124m\"\u001b[39m)\n\u001b[0;32m      3\u001b[0m library(\u001b[38;5;124m\"\u001b[39m\u001b[38;5;124mggplot2\u001b[39m\u001b[38;5;124m\"\u001b[39m)\n",
      "\u001b[1;31mNameError\u001b[0m: name 'library' is not defined"
     ]
    }
   ],
   "source": [
    "library(\"sf\")\n",
    "library(\"spocc\")\n",
    "library(\"ggplot2\")\n",
    "library(sf)\n",
    "library(terra)\n",
    "library(rnaturalearth)\n",
    "library(INLA)\n",
    "library(rgeos)"
   ]
  },
  {
   "cell_type": "code",
   "execution_count": null,
   "id": "c658a959",
   "metadata": {},
   "outputs": [],
   "source": [
    "devtools::install_github(\"cran/rgeos\")"
   ]
  },
  {
   "cell_type": "markdown",
   "id": "6612c8f4",
   "metadata": {},
   "source": [
    "En este ejemplo, estimamos la intensidad de las especies de plantas de Solanum en Bolivia desde enero de 2015 hasta diciembre de 2022, obtenidas de \n",
    "la base de datos Global Biodiversity Information Facility (GBIF) con el paquete `spocc`. Recuperamos los datos utilizando la función `occ()`, \n",
    "especificando el nombre científico de la especie de planta, la fuente de datos, las fechas y el código del país. También especificamos \n",
    "`has_coords = TRUE` para devolver solo las ocurrencias que tienen coordenadas, y `limit = 1000` para establecer el límite en el número de registros. \n",
    "Aquí, mostramos cómo formular y ajustar un modelo LGCP para las especies de plantas de Solanum en Bolivia utilizando un campo aleatorio Gaussiano \n",
    "continuo con INLA y SPDE. El modelo nos permite estimar la intensidad del proceso que genera las ubicaciones."
   ]
  },
  {
   "cell_type": "code",
   "execution_count": null,
   "id": "5d30cf2a",
   "metadata": {},
   "outputs": [],
   "source": [
    "df <- occ(query = \"solanum\", from = \"gbif\",\n",
    "          date = c(\"2015-01-01\", \"2022-12-31\"),\n",
    "          gbifopts = list(country = \"BO\"),\n",
    "          has_coords = TRUE, limit = 1000)\n",
    "d <- occ2df(df)"
   ]
  },
  {
   "cell_type": "markdown",
   "id": "0a487a40",
   "metadata": {},
   "source": [
    "Utilizamos la función `st_as_sf()` para crear un objeto `sf` llamado `d` que contiene las nrow(d) = 263 ubicaciones recuperadas. Establecemos el \n",
    "sistema de referencia de coordenadas (CRS) al código EPSG 4326 ya que las coordenadas de las ubicaciones están dadas por valores de longitud y \n",
    "latitud."
   ]
  },
  {
   "cell_type": "code",
   "execution_count": null,
   "id": "b0d2dd7b",
   "metadata": {},
   "outputs": [],
   "source": [
    "d <- st_as_sf(d[, 2:3], coords = c(\"longitude\", \"latitude\"))\n",
    "st_crs(d) <- \"EPSG:4326\""
   ]
  },
  {
   "cell_type": "markdown",
   "id": "d88d42af",
   "metadata": {},
   "source": [
    "Para trabajar con kilómetros en lugar de grados, proyectamos los datos a UTM 19S correspondiente al código EPSG 5356 con kilómetros como unidades. \n",
    "Para hacerlo, obtenemos `st_crs(\"EPSG:5356\")$proj4string` y cambiamos `+units=m` por `+units=km`."
   ]
  },
  {
   "cell_type": "code",
   "execution_count": null,
   "id": "63308f87",
   "metadata": {},
   "outputs": [],
   "source": [
    "st_crs(\"EPSG:5356\")$proj4string\n",
    "projUTM <- \"+proj=utm +zone=19 +south +ellps=GRS80\n",
    "+towgs84=0,0,0,0,0,0,0 +units=km +no_defs\"\n",
    "d <- st_transform(d, crs = projUTM)"
   ]
  },
  {
   "cell_type": "markdown",
   "id": "85b584dd",
   "metadata": {},
   "source": [
    "También obtenemos el mapa de Bolivia con el paquete `rnaturalearth` y lo proyectamos a UTM 19S con kilómetros como unidades."
   ]
  },
  {
   "cell_type": "code",
   "execution_count": null,
   "id": "36064d2e",
   "metadata": {},
   "outputs": [],
   "source": [
    "\n",
    "map <- ne_countries(type = \"countries\", country = \"Bolivia\",\n",
    "                    scale = \"medium\", returnclass = \"sf\")\n",
    "map <- st_transform(map, crs = projUTM)"
   ]
  },
  {
   "cell_type": "code",
   "execution_count": null,
   "id": "61e7276b",
   "metadata": {},
   "outputs": [],
   "source": [
    "ggplot() + geom_sf(data = map) +\n",
    "  geom_sf(data = d) + coord_sf(datum = projUTM)"
   ]
  },
  {
   "cell_type": "markdown",
   "id": "c713014d",
   "metadata": {},
   "source": [
    "Finalmente, creamos un data frame llamado `coo` con las ubicaciones de los eventos."
   ]
  },
  {
   "cell_type": "code",
   "execution_count": null,
   "id": "946fe2b0",
   "metadata": {},
   "outputs": [],
   "source": [
    "coo <- st_coordinates(d)"
   ]
  },
  {
   "cell_type": "markdown",
   "id": "e5268f83",
   "metadata": {},
   "source": [
    "Ahora, construimos una matriz con las ubicaciones `coop` donde queremos predecir la intensidad del proceso puntual. Para hacerlo, primero creamos un \n",
    "raster que cubra el mapa utilizando la función `rast()` del paquete `terra`. Luego, recuperamos las coordenadas de las celdas con la función \n",
    "`xyFromCell()` del paquete `terra`."
   ]
  },
  {
   "cell_type": "code",
   "execution_count": null,
   "id": "b847deec",
   "metadata": {},
   "outputs": [],
   "source": [
    "# raster grid covering map\n",
    "grid <- terra::rast(map, nrows = 100, ncols = 100)\n",
    "# coordinates of all cells\n",
    "xy <- terra::xyFromCell(grid, 1:ncell(grid))"
   ]
  },
  {
   "cell_type": "markdown",
   "id": "f5853e2a",
   "metadata": {},
   "source": [
    "Creamos un objeto `sf` llamado `dp` con las ubicaciones de predicción utilizando `st_as_sf()`, y usamos `st_filter()` para conservar las \n",
    "ubicaciones de predicción que se encuentran dentro del mapa. También recuperamos los índices de los puntos dentro del mapa utilizando \n",
    "`st_intersects()`, configurando `sparse = FALSE`."
   ]
  },
  {
   "cell_type": "code",
   "execution_count": null,
   "id": "fd5a91bf",
   "metadata": {},
   "outputs": [],
   "source": [
    "# transform points to a sf object\n",
    "dp <- st_as_sf(as.data.frame(xy), coords = c(\"x\", \"y\"),\n",
    "               crs = st_crs(map))\n",
    "\n",
    "# indices points within the map\n",
    "indicespointswithin <- which(st_intersects(dp, map,\n",
    "                                           sparse = FALSE))\n",
    "\n",
    "# points within the map\n",
    "dp <- st_filter(dp, map)"
   ]
  },
  {
   "cell_type": "code",
   "execution_count": null,
   "id": "43131a8c",
   "metadata": {},
   "outputs": [],
   "source": [
    "ggplot() + geom_sf(data = map) +\n",
    "  geom_sf(data = dp) + coord_sf(datum = projUTM)"
   ]
  },
  {
   "cell_type": "code",
   "execution_count": null,
   "id": "5283e07b",
   "metadata": {},
   "outputs": [],
   "source": [
    "coop <- st_coordinates(dp)"
   ]
  },
  {
   "cell_type": "markdown",
   "id": "5046705b",
   "metadata": {},
   "source": [
    "Utilizamos un LGCP para modelar el patrón de puntos de las especies de plantas. Así, asumimos que el proceso que origina las ubicaciones de las \n",
    "especies de plantas es un proceso de Poisson con una intensidad variable expresada como:\n",
    "\n",
    "$log(Λ(s)) = β₀ + Z(s),$\n",
    "\n",
    "donde β₀ es el intercepto y Z(⋅) es un proceso espacial gaussiano de media cero con función de covarianza Matérn.\n",
    "\n",
    "Para ajustar el modelo utilizando INLA y SPDE, primero construimos una malla. En el análisis de patrones de puntos, generalmente no empleamos \n",
    "las ubicaciones como vértices de la malla. Construimos una malla que cubre la región de estudio utilizando la función `inla.mesh.2d()`, \n",
    "estableciendo `loc.domain` igual a una matriz con las ubicaciones de los puntos en el límite de la región. Los otros argumentos son los \n",
    "siguientes: `max.edge` denota las longitudes máximas permitidas de los bordes de los triángulos en la región interior y la extensión. `offset` \n",
    "especifica el tamaño de las extensiones interior y exterior alrededor de las ubicaciones de los datos. `cutoff` es la distancia mínima permitida \n",
    "entre puntos que utilizamos para evitar construir muchos triángulos pequeños alrededor de ubicaciones agrupadas."
   ]
  },
  {
   "cell_type": "code",
   "execution_count": null,
   "id": "6b512c4c",
   "metadata": {},
   "outputs": [],
   "source": [
    "\n",
    "summary(dist(coo)) # summary of distances between event locations"
   ]
  },
  {
   "cell_type": "code",
   "execution_count": null,
   "id": "b452f5a7",
   "metadata": {},
   "outputs": [],
   "source": [
    "loc.d <- cbind(st_coordinates(map)[, 1], st_coordinates(map)[, 2])\n",
    "\n",
    "mesh <- inla.mesh.2d(loc.domain = loc.d, max.edge = c(50, 100), offset = c(50, 100), cutoff = 1)"
   ]
  },
  {
   "cell_type": "code",
   "execution_count": null,
   "id": "788c3b5c",
   "metadata": {},
   "outputs": [],
   "source": [
    "plot(mesh)\n",
    "points(coo, col = \"red\")\n",
    "axis(1)\n",
    "axis(2)"
   ]
  },
  {
   "cell_type": "markdown",
   "id": "dafb073b",
   "metadata": {},
   "source": [
    "También creamos las variables `nv` con el número de vértices de la malla y la variable `n` con el número de eventos del patrón de puntos. \n",
    "Más adelante, utilizaremos estas variables para construir las pilas de datos."
   ]
  },
  {
   "cell_type": "code",
   "execution_count": null,
   "id": "6fadc98f",
   "metadata": {},
   "outputs": [],
   "source": [
    "(nv <- mesh$n)"
   ]
  },
  {
   "cell_type": "code",
   "execution_count": null,
   "id": "112fecaf",
   "metadata": {},
   "outputs": [],
   "source": [
    "(n <- nrow(coo))"
   ]
  },
  {
   "cell_type": "code",
   "execution_count": null,
   "id": "e48772fc",
   "metadata": {},
   "outputs": [],
   "source": [
    "spde <- inla.spde2.matern(mesh = mesh, alpha = 2, constr = TRUE)"
   ]
  },
  {
   "cell_type": "markdown",
   "id": "3581f0b6",
   "metadata": {},
   "source": [
    "Utilizamos la función `inla.spde2.matern()` para construir el modelo SPDE en la malla."
   ]
  },
  {
   "cell_type": "code",
   "execution_count": null,
   "id": "fc0eb57f",
   "metadata": {},
   "outputs": [],
   "source": [
    "book.mesh.dual <- function(mesh) {\n",
    "    if (mesh$manifold=='R2') {\n",
    "        ce <- t(sapply(1:nrow(mesh$graph$tv), function(i)\n",
    "            colMeans(mesh$loc[mesh$graph$tv[i, ], 1:2])))\n",
    "        library(parallel)\n",
    "        pls <- mclapply(1:mesh$n, function(i) {\n",
    "            p <- unique(Reduce('rbind', lapply(1:3, function(k) {\n",
    "            j <- which(mesh$graph$tv[,k]==i)\n",
    "            if (length(j)>0) \n",
    "            return(rbind(ce[j, , drop=FALSE],\n",
    "            cbind(mesh$loc[mesh$graph$tv[j, k], 1] +\n",
    "            mesh$loc[mesh$graph$tv[j, c(2:3,1)[k]], 1], \n",
    "            mesh$loc[mesh$graph$tv[j, k], 2] +\n",
    "            mesh$loc[mesh$graph$tv[j, c(2:3,1)[k]], 2])/2))\n",
    "            else return(ce[j, , drop=FALSE])\n",
    "            })))\n",
    "            j1 <- which(mesh$segm$bnd$idx[,1]==i)\n",
    "            j2 <- which(mesh$segm$bnd$idx[,2]==i)\n",
    "            if ((length(j1)>0) | (length(j2)>0)) {\n",
    "            p <- unique(rbind(mesh$loc[i, 1:2], p,\n",
    "            mesh$loc[mesh$segm$bnd$idx[j1, 1], 1:2]/2 +\n",
    "            mesh$loc[mesh$segm$bnd$idx[j1, 2], 1:2]/2, \n",
    "            mesh$loc[mesh$segm$bnd$idx[j2, 1], 1:2]/2 +\n",
    "            mesh$loc[mesh$segm$bnd$idx[j2, 2], 1:2]/2))\n",
    "            yy <- p[,2]-mean(p[,2])/2-mesh$loc[i, 2]/2\n",
    "            xx <- p[,1]-mean(p[,1])/2-mesh$loc[i, 1]/2\n",
    "            }\n",
    "            else {\n",
    "            yy <- p[,2]-mesh$loc[i, 2]\n",
    "            xx <- p[,1]-mesh$loc[i, 1]\n",
    "            }\n",
    "            Polygon(p[order(atan2(yy,xx)), ])\n",
    "        })\n",
    "        return(SpatialPolygons(lapply(1:mesh$n, function(i)\n",
    "            Polygons(list(pls[[i]]), i))))\n",
    "    }\n",
    "    else stop(\"It only works for R2!\")\n",
    "}"
   ]
  },
  {
   "cell_type": "markdown",
   "id": "26474edb",
   "metadata": {},
   "source": [
    "Aquí, creamos los vectores con el número observado y esperado de eventos. Primero, creamos la malla dual que consiste en un conjunto de polígonos \n",
    "alrededor de cada vértice de la malla original. Podemos crear la malla dual utilizando la función `book.mesh.dual()` que se proporciona en \n",
    "Krainski et al. (2019)."
   ]
  },
  {
   "cell_type": "code",
   "execution_count": null,
   "id": "037f4928",
   "metadata": {},
   "outputs": [],
   "source": [
    "dmesh <- book.mesh.dual(mesh)\n",
    "plot(dmesh)\n",
    "axis(1)\n",
    "axis(2)"
   ]
  },
  {
   "cell_type": "markdown",
   "id": "b10eb319",
   "metadata": {},
   "source": [
    "Para ajustar el LGCP, los vértices de la malla se consideran como puntos de integración. Los valores esperados correspondientes a los vértices de \n",
    "la malla son proporcionales a las áreas alrededor de los vértices de la malla, es decir, las áreas de los polígonos de la malla dual. Calculamos \n",
    "un vector de pesos llamado `w` con las áreas de la intersección entre cada polígono de la malla dual y la región de estudio utilizando el siguiente \n",
    "código."
   ]
  },
  {
   "cell_type": "code",
   "execution_count": null,
   "id": "83abf97e",
   "metadata": {},
   "outputs": [],
   "source": [
    "# Domain polygon is converted into a SpatialPolygons\n",
    "domain.polys <- Polygons(list(Polygon(loc.d)), '0')\n",
    "domainSP <- SpatialPolygons(list(domain.polys))\n",
    "\n",
    "# Because the mesh is larger than the study area, we need to\n",
    "# compute the intersection between each polygon\n",
    "# in the dual mesh and the study area\n",
    "\n",
    "w <- sapply(1:length(dmesh), function(i) {\n",
    "  if (gIntersects(dmesh[i, ], domainSP))\n",
    "    return(gArea(gIntersection(dmesh[i, ], domainSP)))\n",
    "  else return(0)\n",
    "})"
   ]
  },
  {
   "cell_type": "code",
   "execution_count": null,
   "id": "dffed5dc",
   "metadata": {},
   "outputs": [],
   "source": [
    "sum(w) # sum weights"
   ]
  },
  {
   "cell_type": "code",
   "execution_count": null,
   "id": "134d64a5",
   "metadata": {},
   "outputs": [],
   "source": [
    "st_area(map) # area of the study region"
   ]
  },
  {
   "cell_type": "code",
   "execution_count": null,
   "id": "03daac3c",
   "metadata": {},
   "outputs": [],
   "source": [
    "plot(mesh)\n",
    "points(mesh$loc[which(w > 0), 1:2], col = \"black\", pch = 20)\n",
    "points(mesh$loc[which(w == 0), 1:2], col = \"red\", pch = 20)"
   ]
  },
  {
   "cell_type": "markdown",
   "id": "04a3750c",
   "metadata": {},
   "source": [
    "Luego, creamos vectores de los conjuntos de datos aumentados con los valores observados y esperados. Los valores observados se especificarán en la \n",
    "fórmula del modelo como respuesta. Los valores esperados se especificarán en la fórmula del modelo como el componente `E` de la media para la \n",
    "verosimilitud de Poisson definida como\n",
    "\n",
    "$E_i = \\exp(\\eta_i)$\n",
    "\n",
    "donde $\\eta_i$ es el predictor lineal.\n",
    "\n",
    "El vector `y.pp` contiene la variable de respuesta. Los primeros `nv` elementos son ceros correspondientes a los vértices de la malla. Los últimos `n` \n",
    "elementos son unos correspondientes a los eventos observados.\n",
    "\n",
    "El vector `e.pp` contiene los valores esperados. Los primeros `nv` elementos son los pesos `w` que representan la intersección entre las áreas \n",
    "alrededor de cada uno de los vértices de la malla y la región de estudio. Los siguientes `n` elementos son ceros correspondientes a los eventos \n",
    "puntuales."
   ]
  },
  {
   "cell_type": "code",
   "execution_count": null,
   "id": "87ae9444",
   "metadata": {},
   "outputs": [],
   "source": [
    "y.pp <- rep(0:1, c(nv, n))\n",
    "e.pp <- c(w, rep(0, n))"
   ]
  },
  {
   "cell_type": "code",
   "execution_count": null,
   "id": "6f6d7d33",
   "metadata": {},
   "outputs": [],
   "source": [
    "head(cbind(y.pp, e.pp))"
   ]
  },
  {
   "cell_type": "code",
   "execution_count": null,
   "id": "c3da58e7",
   "metadata": {},
   "outputs": [],
   "source": [
    "tail(cbind(y.pp, e.pp))"
   ]
  },
  {
   "cell_type": "markdown",
   "id": "a90a1574",
   "metadata": {},
   "source": [
    "Construimos la matriz de proyección `A.pp` para proyectar el campo aleatorio Gaussiano desde las observaciones a los vértices de la triangulación. \n",
    "Esta matriz se construye utilizando la matriz de proyección para los vértices de la malla, que es una matriz diagonal (`A.int`), y la matriz de \n",
    "proyección para las ubicaciones de eventos (`A.y`)."
   ]
  },
  {
   "cell_type": "code",
   "execution_count": null,
   "id": "6c600a73",
   "metadata": {},
   "outputs": [],
   "source": [
    "# Projection matrix for the integration points (mesh vertices)\n",
    "A.int <- Diagonal(nv, rep(1, nv))\n",
    "# Projection matrix for observed points (event locations)\n",
    "A.y <- inla.spde.make.A(mesh = mesh, loc = coo)\n",
    "# Projection matrix for mesh vertices and event locations\n",
    "A.pp <- rbind(A.int, A.y)"
   ]
  },
  {
   "cell_type": "markdown",
   "id": "0c3de553",
   "metadata": {},
   "source": [
    "También creamos la matriz de proyección `Ap.pp` para las ubicaciones de predicción."
   ]
  },
  {
   "cell_type": "code",
   "execution_count": null,
   "id": "cdd78018",
   "metadata": {},
   "outputs": [],
   "source": [
    "Ap.pp <- inla.spde.make.A(mesh = mesh, loc = coop)"
   ]
  },
  {
   "cell_type": "markdown",
   "id": "cb3f9398",
   "metadata": {},
   "source": [
    "Ahora usamos la función `inla.stack()` para construir pilas para estimación y predicción que organizan los datos, efectos y matrices de proyección. \n",
    "En los argumentos de `inla.stack()`, `data` es una lista con los valores observados (`y`) y esperados (`e`). El argumento `A` contiene las matrices \n",
    "de proyección, y el argumento `effects` es una lista con los efectos fijos y aleatorios. Luego, las pilas de estimación y predicción se combinan en \n",
    "una pila completa."
   ]
  },
  {
   "cell_type": "code",
   "execution_count": null,
   "id": "d885268e",
   "metadata": {},
   "outputs": [],
   "source": [
    "# stack for estimation\n",
    "stk.e.pp <- inla.stack(tag = \"est.pp\",\n",
    "data = list(y = y.pp, e = e.pp), \n",
    "A = list(1, A.pp),\n",
    "effects = list(list(b0 = rep(1, nv + n)), list(s = 1:nv)))\n",
    "\n",
    "# stack for prediction stk.p\n",
    "stk.p.pp <- inla.stack(tag = \"pred.pp\",\n",
    "data = list(y = rep(NA, nrow(coop)), e = rep(0, nrow(coop))),\n",
    "A = list(1, Ap.pp),\n",
    "effects = list(data.frame(b0 = rep(1, nrow(coop))),\n",
    "               list(s = 1:nv)))\n",
    "\n",
    "# stk.full has stk.e and stk.p\n",
    "stk.full.pp <- inla.stack(stk.e.pp, stk.p.pp)"
   ]
  },
  {
   "cell_type": "markdown",
   "id": "def08f2a",
   "metadata": {},
   "source": [
    "La fórmula se especifica incluyendo la variable de respuesta en el lado izquierdo y los efectos aleatorios en el lado derecho."
   ]
  },
  {
   "cell_type": "code",
   "execution_count": null,
   "id": "265688ac",
   "metadata": {},
   "outputs": [],
   "source": [
    "formula <- y ~ 0 + b0 + f(s, model = spde)"
   ]
  },
  {
   "cell_type": "markdown",
   "id": "096e5bed",
   "metadata": {},
   "source": [
    "Ajustamos el modelo llamando a `inla()`. En la función, especificamos `link = 1` para calcular los valores ajustados que se encuentran en \n",
    "`res$summary.fitted.values` y `res$marginals.fitted.values` con la misma función de enlace que la familia especificada en el modelo."
   ]
  },
  {
   "cell_type": "code",
   "execution_count": null,
   "id": "0df948ac",
   "metadata": {},
   "outputs": [],
   "source": [
    "res <- inla(formula,  family = 'poisson',\n",
    "data = inla.stack.data(stk.full.pp),\n",
    "control.predictor = list(compute = TRUE, link = 1,\n",
    "                         A = inla.stack.A(stk.full.pp)),\n",
    "E = inla.stack.data(stk.full.pp)$e)"
   ]
  },
  {
   "cell_type": "markdown",
   "id": "96e41536",
   "metadata": {},
   "source": [
    "Un resumen de los resultados se puede inspeccionar escribiendo `summary(res)`. El marco de datos `res$summary.fitted.values` contiene los valores \n",
    "ajustados. Los índices de las filas correspondientes a las predicciones se pueden obtener con `inla.stack.index()` especificando la etiqueta \"pred.pp\" \n",
    "del stack de predicción."
   ]
  },
  {
   "cell_type": "code",
   "execution_count": null,
   "id": "f4201ac1",
   "metadata": {},
   "outputs": [],
   "source": [
    "index <- inla.stack.index(stk.full.pp, tag = \"pred.pp\")$data\n",
    "pred_mean <- res$summary.fitted.values[index, \"mean\"]\n",
    "pred_ll <- res$summary.fitted.values[index, \"0.025quant\"]\n",
    "pred_ul <- res$summary.fitted.values[index, \"0.975quant\"]"
   ]
  },
  {
   "cell_type": "markdown",
   "id": "b31cb535",
   "metadata": {},
   "source": [
    "Luego, añadimos capas a la cuadrícula raster con la media posterior y los percentiles 2.5 y 97.5 en las celdas que están dentro del mapa."
   ]
  },
  {
   "cell_type": "code",
   "execution_count": null,
   "id": "44574e5c",
   "metadata": {},
   "outputs": [],
   "source": [
    "grid$mean <- NA\n",
    "grid$ll <- NA\n",
    "grid$ul <- NA\n",
    "\n",
    "grid$mean[indicespointswithin] <- pred_mean\n",
    "grid$ll[indicespointswithin] <- pred_ll\n",
    "grid$ul[indicespointswithin] <- pred_ul"
   ]
  },
  {
   "cell_type": "markdown",
   "id": "0d25f0be",
   "metadata": {},
   "source": [
    "Finalmente, creamos mapas de la media posterior y los límites inferior y superior de los intervalos creíbles del 95% de la intensidad del proceso \n",
    "puntual de especies en Bolivia (Figura 23.4). Para ello, utilizamos la función `levelplot()` del paquete `rasterVis`, especificando `names.attr` \n",
    "con el nombre de cada panel y `layout` con el número de columnas y filas."
   ]
  },
  {
   "cell_type": "code",
   "execution_count": null,
   "id": "80a55c54",
   "metadata": {},
   "outputs": [],
   "source": [
    "library(rasterVis)\n",
    "levelplot(raster::brick(grid), layout = c(3, 1),\n",
    "names.attr = c(\"Mean\", \"2.5 percentile\", \"97.5 percentile\"))"
   ]
  },
  {
   "cell_type": "markdown",
   "id": "216e6951",
   "metadata": {},
   "source": [
    "En general, observamos una baja intensidad de especies, con mayor intensidad en la parte centro-occidental de Bolivia. Cabe destacar que hemos \n",
    "modelado los datos de ocurrencia de especies recuperados de GBIF asumiendo que el patrón puntual espacial observado es una realización del proceso \n",
    "subyacente que genera las ubicaciones de las especies. En aplicaciones reales, es importante entender cómo se recolectaron los datos y evaluar \n",
    "posibles sesgos en los datos, como la sobrerepresentación de ciertas áreas, que pueden invalidar los resultados. Además, es importante incorporar \n",
    "el conocimiento de expertos para crear modelos que incluyan covariables relevantes y efectos aleatorios para tener en cuenta diversos tipos de \n",
    "variabilidad, lo que permite una comprensión más completa de la variable en investigación.\n",
    "\n",
    "### Ejemplo 2\n",
    "\n",
    "Un patrón de puntos registra la ocurrencia de eventos en una región de estudio. Ejemplos típicos incluyen la ubicación de árboles en un bosque o \n",
    "las coordenadas GPS de casos de enfermedades en una región. Las ubicaciones de los eventos observados dependen de un proceso espacial subyacente, \n",
    "que a menudo se modela utilizando una función de intensidad $\\lambda(s)$. La función de intensidad mide el número promedio de eventos por unidad de \n",
    "espacio, y puede ser modelada para depender de covariables y otros efectos.\n",
    "\n",
    "Bajo el supuesto del modelo de proceso de puntos log-Cox, modelamos la log-intensidad del proceso de Cox con un predictor lineal Gaussiano. En este \n",
    "caso, el proceso log-Cox se conoce como un proceso Cox log-Gaussiano (LGCP, Møller, Syversveen y Waagepetersen 1998), y la inferencia se puede \n",
    "realizar utilizando INLA. Un proceso de Cox es simplemente un nombre para un proceso de Poisson con intensidad variable; por lo tanto, utilizamos \n",
    "la verosimilitud de Poisson. El enfoque original utilizado para ajustar estos modelos en INLA (y en otro software) divide la región de estudio en \n",
    "celdas, que forman una cuadrícula, y cuenta el número de puntos en cada una (Møller y Waagepetersen 2003). Estos conteos pueden modelarse utilizando \n",
    "una verosimilitud de Poisson condicionada a un predictor lineal Gaussiano, y se puede usar INLA para ajustar el modelo (Illian, Sørbye y Rue 2012).\n",
    "\n",
    "En este capítulo nos enfocamos en un nuevo enfoque que considera modelos Stochastic Partial Differential Equation (SPDE) directamente, desarrollado \n",
    "en Simpson et al. (2016). Este enfoque tiene una buena justificación teórica y considera una aproximación directa de la verosimilitud del modelo de \n",
    "proceso de puntos log-Cox. Las observaciones se modelan considerando su ubicación exacta en lugar de agruparlas en celdas. Junto con la flexibilidad \n",
    "para definir una malla, este enfoque puede manejar áreas no rectangulares sin desperdiciar esfuerzo computacional en un área rectangular grande."
   ]
  },
  {
   "cell_type": "code",
   "execution_count": null,
   "id": "81599f13",
   "metadata": {},
   "outputs": [],
   "source": [
    "library(spatstat)\n",
    "library(RandomFields)\n",
    "library(rgeos)"
   ]
  },
  {
   "cell_type": "markdown",
   "id": "5d33fba0",
   "metadata": {},
   "source": [
    "La función `rLGCP` utiliza la función `GaussRF()` del paquete **RandomFields** (Schlather et al. 2015) para simular desde el campo espacial sobre una cuadrícula. Hay un parámetro interno para controlar la resolución de la cuadrícula, que especificamos para dar 300 píxeles en cada dirección:"
   ]
  },
  {
   "cell_type": "code",
   "execution_count": null,
   "id": "3fe1df6e",
   "metadata": {},
   "outputs": [],
   "source": [
    "win <- owin(c(0, 3), c(0, 3))\n"
   ]
  },
  {
   "cell_type": "markdown",
   "id": "cbcbb0f9",
   "metadata": {},
   "source": [
    "Modelamos la intensidad como\n",
    "\n",
    "$$\n",
    "\\log(\\lambda(s)) = \\beta_0 + S(s),\n",
    "$$\n",
    "\n",
    "donde $\\beta_0$ es un valor fijo y $S(s)$ es un proceso espacial Gaussiano con covarianza de Matérn y media cero. El parámetro $\\beta_0$ puede \n",
    "considerarse como un nivel medio global para la log-intensidad; es decir, la log-intensidad fluctúa alrededor de este valor según el proceso \n",
    "espacial $S(s)$.\n",
    "\n",
    "Si no hay campo espacial, el número esperado de puntos es $e^{\\beta_0}$ multiplicado por el área de la ventana. Esto significa que el número \n",
    "esperado de puntos es:"
   ]
  },
  {
   "cell_type": "code",
   "execution_count": null,
   "id": "74546dfe",
   "metadata": {},
   "outputs": [],
   "source": [
    "beta0 <- 3\n",
    "exp(beta0) * diff(range(win$x)) * diff(range(win$y))"
   ]
  },
  {
   "cell_type": "markdown",
   "id": "9fcaa38e",
   "metadata": {},
   "source": [
    "Por lo tanto, este valor de $\\beta_0$ producirá un número razonable de puntos en las siguientes simulaciones. Si establecemos $\\beta_0$ demasiado bajo,\n",
    " obtendremos casi ningún punto, y no seremos capaces de producir resultados razonables. También es posible utilizar una función en varias covariables, \n",
    " por ejemplo, un GLM.\n",
    "\n",
    "En este taller, utilizamos una función de covarianza de Matérn con $\\nu = 1$. Los otros parámetros son la varianza y la escala. Los siguientes valores \n",
    "para estos parámetros producirán una intensidad suave del proceso puntual:"
   ]
  },
  {
   "cell_type": "code",
   "execution_count": null,
   "id": "98c7ec55",
   "metadata": {},
   "outputs": [],
   "source": [
    "sigma2x <- 0.2\n",
    "range <- 1.2\n",
    "nu <- 1"
   ]
  },
  {
   "cell_type": "markdown",
   "id": "d3811c7d",
   "metadata": {},
   "source": [
    "El valor de $\\sigma^2_x$ se establece para hacer que la log-intensidad varíe un poco alrededor de la media, pero siempre dentro de un rango razonable \n",
    "de valores. Además, con estos parámetros $\\nu = 1$ y el rango del proceso espacial $S(s)$ es (aproximadamente) 2, lo que produce cambios suaves en la \n",
    "ventana de estudio actual. Valores más pequeños del rango práctico producirán un proceso espacial $S(s)$ (y, a su vez, la intensidad del proceso \n",
    "espacial) que cambia rápidamente en la ventana de estudio. De manera similar, valores muy grandes del rango práctico producirán un proceso espacial \n",
    "casi constante $S(s)$, de modo que la log-intensidad estará muy cerca de $\\beta_0$ en todos los puntos de la ventana de estudio.\n",
    "\n",
    "Los puntos del proceso puntual se simulan de la siguiente manera:"
   ]
  },
  {
   "cell_type": "code",
   "execution_count": null,
   "id": "163ebf00",
   "metadata": {},
   "outputs": [],
   "source": [
    "set.seed(1)\n",
    "lg.s <- rLGCP('matern', beta0, var = sigma2x,scale = range / sqrt(8), nu = nu, win = win)"
   ]
  },
  {
   "cell_type": "markdown",
   "id": "dff2996d",
   "metadata": {},
   "source": [
    "Tanto el campo espacial como el patrón de puntos son devueltos. Las coordenadas de los eventos observados del patrón de puntos se pueden obtener \n",
    "de la siguiente manera:"
   ]
  },
  {
   "cell_type": "code",
   "execution_count": null,
   "id": "979af2dd",
   "metadata": {},
   "outputs": [],
   "source": [
    "xy <- cbind(lg.s$x, lg.s$y)[, 2:1]"
   ]
  },
  {
   "cell_type": "markdown",
   "id": "3bb0a479",
   "metadata": {},
   "source": [
    "El numero de puntos simulados es:"
   ]
  },
  {
   "cell_type": "code",
   "execution_count": null,
   "id": "41c2dca3",
   "metadata": {},
   "outputs": [],
   "source": [
    "(n <- nrow(xy))"
   ]
  },
  {
   "cell_type": "markdown",
   "id": "486f1226",
   "metadata": {},
   "source": [
    "La exponencial de los valores simulados del campo espacial se devuelve como el atributo Lambda del objeto. A continuación, extraemos los valores \n",
    "de λ(s) y resumimos el log(λ(s))."
   ]
  },
  {
   "cell_type": "code",
   "execution_count": null,
   "id": "a63675f9",
   "metadata": {},
   "outputs": [],
   "source": [
    "Lam <- attr(lg.s, 'Lambda')\n",
    "rf.s <- log(Lam$v)\n",
    "summary(as.vector(rf.s))"
   ]
  },
  {
   "cell_type": "markdown",
   "id": "dfdf02b2",
   "metadata": {},
   "source": [
    "Siguiendo a Simpson et al. (2016), los parámetros del modelo de proceso puntual de Cox log-Gaussiano pueden estimarse con INLA.\n",
    "\n",
    "INLA es un paquete que permite ajustar una amplia gama de modelos. Utiliza la aproximación de Laplace para ajustar modelos bayesianos de manera mucho \n",
    "más rápida que algoritmos como MCMC (Cadena de Markov Monte Carlo). INLA permite ajustar modelos geoestadísticos a través de ecuaciones diferenciales parciales estocásticas (EDPE). Puedes encontrar más información sobre esto en estos dos Gitbooks:\n",
    "\n",
    "-   spde-gitbook [<https://becarioprecario.bitbucket.io/spde-gitbook>]\n",
    "-   inla-gitbook [<https://becarioprecario.bitbucket.io/inla-gitbook>]\n",
    "\n",
    "Ajustar un modelo espacial en INLA requiere un conjunto específico de pasos:\n",
    "\n",
    "1.  **Crear una malla:** Se crea una malla para aproximar el efecto espacial. Esta malla discretiza el espacio de estudio en pequeñas unidades \n",
    "(píxeles o celdas) que permiten modelar la variación espacial continua.\n",
    "\n",
    "2.  **Crear una matriz de proyección:** Esta matriz vincula las observaciones puntuales a la malla creada. Básicamente, indica a qué celda de \n",
    "la malla pertenece cada observación.\n",
    "\n",
    "3.  **Definir la ecuación diferencial parcial estocástica (EDPE):** La EDPE describe la relación espacial entre las variables del modelo. \n",
    "Diferentes tipos de EDPE capturan diferentes patrones de dependencia espacial.\n",
    "\n",
    "4.  **Especificar opcionalmente un conjunto de datos para predicciones:** Si deseas realizar predicciones en ubicaciones no observadas, puedes \n",
    "especificar un conjunto de datos adicional que contenga las coordenadas de los puntos de predicción.\n",
    "\n",
    "5.  **Apilar los objetos en un objeto stack:** INLA trabaja con un objeto especial llamado \"stack\" que combina la información de la malla, la \n",
    "matriz de proyección, la EDPE y cualquier otro dato relevante para el modelo.\n",
    "\n",
    "6.  **Ajustar el modelo:** Una vez creado el objeto stack, se utiliza la función `inla()` del paquete INLA para ajustar el modelo y obtener los \n",
    "resultados de la inferencia bayesiana."
   ]
  },
  {
   "cell_type": "code",
   "execution_count": null,
   "id": "a88fe464",
   "metadata": {},
   "outputs": [],
   "source": [
    "library(\"devtools\")\n",
    "devtools::install_github(repo = \"https://github.com/hrue/r-inla\", ref = \"stable\", subdir = \"rinla\", build = FALSE)"
   ]
  },
  {
   "cell_type": "code",
   "execution_count": null,
   "id": "633d6812",
   "metadata": {},
   "outputs": [],
   "source": [
    "inla.upgrade() # for the stable version"
   ]
  },
  {
   "cell_type": "code",
   "execution_count": null,
   "id": "6cb8505f",
   "metadata": {},
   "outputs": [],
   "source": [
    "library(INLA)"
   ]
  },
  {
   "cell_type": "markdown",
   "id": "d33cb191",
   "metadata": {},
   "source": [
    "En términos simplificados, construiremos un conjunto de datos ampliado y ejecutaremos una regresión de Poisson con INLA. El conjunto de datos ampliado \n",
    "se compone de una respuesta binaria, con 1 para los puntos observados y 0 para algunas observaciones ficticias. Tanto las observaciones reales como \n",
    "las ficticias tendrán valores \"esperados\" o pesos asociados que se incluirán en la regresión de Poisson. Esto se explicará paso a paso en las \n",
    "siguientes secciones.\n",
    "\n",
    "Para una inferencia adecuada con el LGCP, debemos tener cuidado al construir la malla. En el caso particular del análisis de patrones de puntos, \n",
    "generalmente no usamos los puntos de ubicación como nodos de la malla. Necesitamos una malla que cubra la región de estudio; para esto utilizamos\n",
    " `loc.domain` para construir la malla. Además, solo usamos una pequeña primera extensión exterior, pero no una segunda extensión exterior."
   ]
  },
  {
   "cell_type": "code",
   "execution_count": null,
   "id": "a452edb1",
   "metadata": {},
   "outputs": [],
   "source": [
    "loc.d <- 3 * cbind(c(0, 1, 1, 0, 0), c(0, 0, 1, 1, 0))\n",
    "mesh <- inla.mesh.2d(loc.domain = loc.d, offset = c(0.3, 1), \n",
    "  max.edge = c(0.3, 0.7), cutoff = 0.05)\n",
    "nv <- mesh$n"
   ]
  },
  {
   "cell_type": "markdown",
   "id": "766f18af",
   "metadata": {},
   "source": [
    "El modelo SPDE se definirá considerando los PC-priors derivados en Fuglstad et al. (2018) para los parámetros del modelo: rango y desviación estándar \n",
    "marginal. Estos se definen de la siguiente manera:"
   ]
  },
  {
   "cell_type": "code",
   "execution_count": null,
   "id": "9127d084",
   "metadata": {},
   "outputs": [],
   "source": [
    "spde <- inla.spde2.pcmatern(mesh = mesh,\n",
    "  # PC-prior on range: P(practic.range < 0.05) = 0.01\n",
    "  prior.range = c(0.05, 0.01),\n",
    "  # PC-prior on sigma: P(sigma > 1) = 0.01\n",
    "  prior.sigma = c(1, 0.01)) "
   ]
  },
  {
   "cell_type": "markdown",
   "id": "b3ac73f2",
   "metadata": {},
   "source": [
    "El enfoque SPDE para el análisis de patrones puntuales define el modelo en los nodos de la malla. Para ajustar el modelo de proceso puntual de \n",
    "log-Cox, estos puntos se consideran como puntos de integración. El método en Simpson et al. (2016) define que el número esperado de eventos es \n",
    "proporcional al área alrededor del nodo (las áreas de los polígonos en la malla dual). Esto significa que en los nodos de la malla con triángulos \n",
    "más grandes, también hay valores esperados más grandes. El comando `inla.mesh.fem(mesh)$va` proporciona este valor para cada nodo de la malla. \n",
    "Estos valores para los nodos en el dominio interno se pueden usar para calcular la intersección entre los polígonos de la malla dual y el polígono \n",
    "del dominio de estudio. Para ello, utilizamos la función `book.mesh.dual()`:"
   ]
  },
  {
   "cell_type": "code",
   "execution_count": null,
   "id": "2e1d31f9",
   "metadata": {},
   "outputs": [],
   "source": [
    "dmesh <- book.mesh.dual(mesh)"
   ]
  },
  {
   "cell_type": "markdown",
   "id": "b0b0a7da",
   "metadata": {},
   "source": [
    "Esta función está disponible en el archivo `spde-book-functions.R` y devuelve la malla dual en un objeto de la clase `SpatialPolygons`. El polígono \n",
    "del dominio se puede convertir en una clase `SpatialPolygons` de la siguiente manera:"
   ]
  },
  {
   "cell_type": "code",
   "execution_count": null,
   "id": "3a5ec884",
   "metadata": {},
   "outputs": [],
   "source": [
    "domain.polys <- Polygons(list(Polygon(loc.d)), '0')\n",
    "domainSP <- SpatialPolygons(list(domain.polys))"
   ]
  },
  {
   "cell_type": "markdown",
   "id": "93c7a74a",
   "metadata": {},
   "source": [
    "El vector de pesos que hemos calculado es exactamente lo que necesitamos usar como exposición (E) en la verosimilitud de Poisson en INLA (con la \n",
    "pequeña modificación de que log(E) se define como cero si E=0. Aumentamos el vector de unos para las observaciones (que representan los puntos) \n",
    "con una secuencia de ceros (que representan los nodos de la malla):"
   ]
  },
  {
   "cell_type": "code",
   "execution_count": null,
   "id": "6190cbfd",
   "metadata": {},
   "outputs": [],
   "source": [
    "w <- sapply(1:length(dmesh), function(i) {\n",
    "  if (gIntersects(dmesh[i, ], domainSP))\n",
    "    return(gArea(gIntersection(dmesh[i, ], domainSP)))\n",
    "  else return(0)\n",
    "})"
   ]
  },
  {
   "cell_type": "markdown",
   "id": "146466c5",
   "metadata": {},
   "source": [
    "El vector de exposición y la matriz de proyección se definen. Para los puntos de integración, esta es simplemente una matriz diagonal porque \n",
    "estos lugares son solo los vértices de la malla. La matriz de proyección completa es:"
   ]
  },
  {
   "cell_type": "code",
   "execution_count": null,
   "id": "6a4c4cae",
   "metadata": {},
   "outputs": [],
   "source": [
    "y.pp <- rep(0:1, c(nv, n))\n",
    "e.pp <- c(w, rep(0, n)) \n",
    "imat <- Diagonal(nv, rep(1, nv))\n",
    "lmat <- inla.spde.make.A(mesh, xy)\n",
    "A.pp <- rbind(imat, lmat)"
   ]
  },
  {
   "cell_type": "markdown",
   "id": "1657ce0c",
   "metadata": {},
   "source": [
    "Configuramos el conjunto de datos de la siguiente manera:"
   ]
  },
  {
   "cell_type": "code",
   "execution_count": null,
   "id": "776134de",
   "metadata": {},
   "outputs": [],
   "source": [
    "stk.pp <- inla.stack(\n",
    "  data = list(y = y.pp, e = e.pp), \n",
    "  A = list(1, A.pp),\n",
    "  effects = list(list(b0 = rep(1, nv + n)), list(i = 1:nv)),\n",
    "  tag = 'pp')"
   ]
  },
  {
   "cell_type": "markdown",
   "id": "3c220e75",
   "metadata": {},
   "source": [
    "Las marginales posteriores para todos los parámetros del modelo se obtienen ajustando el modelo con INLA:"
   ]
  },
  {
   "cell_type": "code",
   "execution_count": null,
   "id": "e709bada",
   "metadata": {},
   "outputs": [],
   "source": [
    "pp.res <- inla(y ~ 0 + b0 + f(i, model = spde), \n",
    "  family = 'poisson', data = inla.stack.data(stk.pp), \n",
    "  control.predictor = list(A = inla.stack.A(stk.pp)), \n",
    "  E = inla.stack.data(stk.pp)$e)\n",
    "\n",
    "pp.res$summary.hyperpar"
   ]
  }
 ],
 "metadata": {
  "jupytext": {
   "cell_metadata_filter": "-all",
   "main_language": "R",
   "notebook_metadata_filter": "-all",
   "text_representation": {
    "extension": ".Rmd",
    "format_name": "rmarkdown"
   }
  },
  "language_info": {
   "codemirror_mode": {
    "name": "ipython",
    "version": 3
   },
   "file_extension": ".py",
   "mimetype": "text/x-python",
   "name": "python",
   "nbconvert_exporter": "python",
   "pygments_lexer": "ipython3",
   "version": "3.11.4"
  }
 },
 "nbformat": 4,
 "nbformat_minor": 5
}