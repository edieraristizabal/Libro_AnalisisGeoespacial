{
 "cells": [
  {
   "cell_type": "markdown",
   "id": "c9f91ee8",
   "metadata": {},
   "source": [
    "<p style=\"font-size:11px;\"><em><strong>Créditos</strong>: El contenido de este cuaderno ha sido tomado de varias fuentes, pero especialmente de <a href=\"https://datascienceplus.com/spatial-regression-in-r-part-2-inla/\">Lionel Hertzog</a>, <a href=\"https://www.paulamoraga.com/book-spatial/sec-geostatisticaldataSPDE.html\">Spatial Statistics for Data Science: Theory and Practice with R</a>. El compilador se disculpa por cualquier omisión involuntaria y estaría encantado de agregar un reconocimiento.</em></p>\n",
    "\n",
    "# Procesos Gaussianos con R\n",
    "\n",
    "La geoestadística basada en modelos puede utilizarse para analizar datos espaciales relacionados con un fenómeno subyacente continuo en el espacio que se ha recolectado en un conjunto finito de ubicaciones. La geoestadística basada en modelos emplea modelos estadísticos para capturar la estructura de correlación espacial en los datos, lo que permite realizar inferencias estadísticas rigurosas y facilita la producción de predicciones espaciales junto con medidas de incertidumbre del fenómeno de interés (Diggle, Tawn y Moyeed 1998).\n",
    "\n",
    "Asumiendo datos gaussianos observados en un conjunto de $n$ ubicaciones, ${Y₁, …, Yₙ}$, podemos considerar el siguiente modelo para obtener predicciones en ubicaciones no muestreadas:\n",
    "\n",
    "$Yᵢ | S(sᵢ) ∼ N(μ + S(sᵢ), τ²), i = 1, …, n.$\n",
    "\n",
    "Aquí, $μ$ es un efecto medio constante, y $S(⋅)$ es un campo gaussiano espacial de media cero. Este modelo puede extenderse a situaciones en las que la variación estocástica en los datos no sea gaussiana, así como para incluir covariables y otros efectos aleatorios para tener en cuenta otros tipos de variabilidad.\n",
    "\n",
    "La inferencia en la geoestadística basada en modelos puede realizarse utilizando los enfoques INLA y la ecuación diferencial parcial estocástica (SPDE), los cuales proporcionan una alternativa computacionalmente eficiente a los métodos MCMC (Lindgren y Rue 2015). En resumen, esto implica resolver una SPDE en una malla discreta de puntos e interpolar para obtener una solución continua a lo largo del dominio espacial (Krainski et al. 2019), que se calcula utilizando INLA (Rue, Martino y Chopin 2009)."
   ]
  },
  {
   "cell_type": "code",
   "execution_count": 1,
   "id": "5e7fb3b5",
   "metadata": {},
   "outputs": [
    {
     "ename": "NameError",
     "evalue": "name 'library' is not defined",
     "output_type": "error",
     "traceback": [
      "\u001b[1;31m---------------------------------------------------------------------------\u001b[0m",
      "\u001b[1;31mNameError\u001b[0m                                 Traceback (most recent call last)",
      "Cell \u001b[1;32mIn[1], line 1\u001b[0m\n\u001b[1;32m----> 1\u001b[0m \u001b[43mlibrary\u001b[49m(geoR)\n\u001b[0;32m      2\u001b[0m library(ggplot2)\n\u001b[0;32m      3\u001b[0m library(tidyverse)\n",
      "\u001b[1;31mNameError\u001b[0m: name 'library' is not defined"
     ]
    }
   ],
   "source": [
    "library(geoR)\n",
    "library(ggplot2)\n",
    "library(tidyverse)\n",
    "library(INLA)"
   ]
  },
  {
   "cell_type": "code",
   "execution_count": null,
   "id": "50ef4d18",
   "metadata": {},
   "outputs": [],
   "source": [
    "# the ca20 dataset\n",
    "# load the example dataset,\n",
    "# calcium content in soil samples in Brazil\n",
    "data(ca20)\n",
    "# put this in a data frame\n",
    "dat <- data.frame(x = ca20$coords[,1],y = ca20$coords[,2],calcium = ca20$data, \n",
    "                  elevation = ca20$covariate[,1], \n",
    "                  region = factor(ca20$covariate[,2]))"
   ]
  },
  {
   "cell_type": "code",
   "execution_count": null,
   "id": "181afcd7",
   "metadata": {},
   "outputs": [],
   "source": [
    "# meshes in 2D space can be created as follow:\n",
    "mesh <- inla.mesh.2d(loc = dat[,c(\"x\", \"y\")], max.edge = c(50, 5000))"
   ]
  },
  {
   "cell_type": "markdown",
   "id": "484a411e",
   "metadata": {},
   "source": [
    "La función `inla.mesh.2d` del paquete INLA se utiliza para crear una malla para el modelado espacial. Esta malla aproxima el efecto espacial en sus datos y juega un papel crucial en la captura de la dependencia espacial.\n",
    "\n",
    "Aquí un desglose de los puntos clave:\n",
    "\n",
    "-   **Función:** `inla.mesh.2d`\n",
    "-   **Propósito:** Crea una malla bidimensional para el análisis espacial en modelos INLA.\n",
    "-   **Argumentos:**\n",
    "    -   `loc`: Esto especifica la ubicación de sus muestras. Suele ser un marco de datos con columnas para latitud y longitud (u otras coordenadas espaciales).\n",
    "    -   `max.edge`: Controla la precisión de la malla. Define la distancia máxima permitida entre dos nodos conectados en la malla. Un valor más bajo (por ejemplo, 50 metros) crea una malla más fina con más detalles, pero requiere más recursos computacionales. Por el contrario, un valor más alto (por ejemplo, 5000 metros) crea una malla más gruesa que es computacionalmente más rápida pero puede pasar por alto variaciones espaciales más finas.\n",
    "\n",
    "**Compromiso entre precisión y cómputo:**\n",
    "\n",
    "Existe una compensación entre la precisión de la malla y el tiempo de cómputo. Una malla más precisa (`max.edge` más pequeño) conduce a una predicción más suave que captura patrones espaciales sutiles, pero tarda más en calcularse. Una malla más gruesa (`max.edge` más grande) es computacionalmente más rápida pero puede pasar por alto detalles espaciales importantes.\n",
    "\n",
    "**Exploración interactiva con meshbuilder:**\n",
    "\n",
    "El paquete INLA también proporciona la función `meshbuilder` para la exploración interactiva de la creación de mallas. Esto le permite visualizar diferentes opciones de malla basadas en su configuración `max.edge` y elegir la que mejor equilibre la precisión y la viabilidad computacional para su análisis específico.\n",
    "\n",
    "En resumen, `inla.mesh.2d` es una herramienta esencial para crear mallas en el modelado espacial de INLA. Al considerar cuidadosamente la compensación entre precisión y cómputo, y potencialmente usar `meshbuilder` para la exploración, puede crear una malla adecuada para capturar los efectos espaciales en sus datos."
   ]
  },
  {
   "cell_type": "code",
   "execution_count": null,
   "id": "dff45ceb",
   "metadata": {},
   "outputs": [],
   "source": [
    "Amat <- inla.spde.make.A(mesh, loc = as.matrix(dat[,c(\"x\", \"y\")]))"
   ]
  },
  {
   "cell_type": "markdown",
   "id": "f4104740",
   "metadata": {},
   "source": [
    "### Efecto espacial en INLA con ecuaciones diferenciales parciales estocásticas (EDPE)\n",
    "\n",
    "INLA estima el efecto espacial utilizando una herramienta matemática compleja llamada ecuación diferencial parcial estocástica (EDPE). La idea básica es que podemos estimar un efecto espacial continuo utilizando un conjunto de puntos discretos (los nodos definidos en la malla) y funciones base, similar a las splines de regresión. Esto facilita mucho la estimación de los campos espaciales.\n",
    "\n",
    "El enfoque de la ecuación diferencial parcial estocástica (SPDE) implementado en el paquete R-INLA proporciona una forma flexible y computacionalmente eficiente de modelar datos geoestadísticos y realizar predicciones en ubicaciones no muestreadas (Lindgren y Rue 2015). Suponemos que, subyacente a los datos observados, hay una variable continua en el espacio que puede modelarse utilizando un campo aleatorio gaussiano (GRF) con una función de covarianza de Matérn, que se define como:\n",
    "\n",
    "$Cov(x(sᵢ), x(sⱼ)) = (σ² / 2^(ν - 1)Γ(ν))(κ ||sᵢ - sⱼ||)^ν Kν(κ ||sᵢ - sⱼ||).$\n",
    "\n",
    "Aquí, $σ²$ denota la varianza marginal del campo espacial. $Kν(⋅)$ se refiere a la función de Bessel modificada de segunda especie y orden $ν > 0$. El valor entero de $ν$ determina la suavidad del campo y típicamente se fija, ya que es difícil de estimar en aplicaciones. $κ > 0$ está relacionado con el rango $ρ$, que representa la distancia a la cual la correlación entre dos puntos se vuelve aproximadamente 0. Específicamente, $ρ = √(8ν) / κ$, y a esta distancia la correlación espacial es cercana a 0.1 (Cameletti et al. 2013).\n",
    "\n",
    "Como se muestra en Whittle (1963), un GRF con una matriz de covarianza de Matérn puede representarse como la solución de la siguiente SPDE en dominio continuo:\n",
    "\n",
    "$(κ² − Δ)^(α/2)(τx(s)) = W(s).$\n",
    "\n",
    "Aquí, $x(s)$ representa un GRF, y $W(s)$ es un proceso de ruido blanco espacial gaussiano. El parámetro $α$ controla la suavidad exhibida por el GRF, $τ$ controla su varianza, y $κ > 0$ es un parámetro de escala. El laplaciano $Δ$ se define como $∑(dᵢ = 1 ∂² / ∂x²ᵢ)$, donde $d$ es la dimensión del dominio espacial.\n",
    "\n",
    "Los parámetros de la función de covarianza de Matérn y la SPDE están relacionados de la siguiente manera. El parámetro de suavidad $ν$ de la función de covarianza de Matérn se expresa como $ν = α − d/2$, y la varianza marginal $σ²$ está relacionada con la SPDE mediante:\n",
    "\n",
    "$σ² = (Γ(ν) / Γ(α))(4π)^(d/2)κ^(−2ν)τ².$\n",
    "\n",
    "En el caso donde $d = 2$ y $ν = 1/2$, lo que corresponde a la función de covarianza exponencial, el parámetro $α = ν + d/2 = 1/2 + 1 = 3/2$. En el paquete R-INLA, el valor predeterminado es $α = 2$, aunque también están disponibles opciones dentro del rango $0 ≤ α < 2$.\n",
    "\n",
    "El método de elementos finitos puede usarse para encontrar una solución aproximada a la SPDE. Este método implica dividir el dominio espacial en un conjunto de triángulos no superpuestos, creando una malla triangulada con $n$ nodos y $n$ funciones base. Las funciones base, denotadas como $ψₖ(⋅$)\\$, son funciones lineales por partes en cada triángulo. Toman el valor de 1 en el vértice $k$, y 0 en todos los demás vértices.\n",
    "\n",
    "Luego, el campo gaussiano indexado de manera continua $x$ se representa como un campo aleatorio de Markov gaussiano indexado de manera discreta (GMRF) mediante una suma de funciones base definidas en la malla triangulada:\n",
    "\n",
    "$x(s) = ∑(nₖ = 1) ψₖ(s)xₖ,$\n",
    "\n",
    "donde $n$ es el número de vértices de la triangulación, $ψₖ(⋅)$ representa las funciones base lineales por partes, y ${xₖ}$ denotan pesos distribuidos de forma gaussiana con media cero.\n",
    "\n",
    "La distribución conjunta del vector de pesos se asigna a una distribución gaussiana representada como $x = (x₁, …, xₙ) ∼ N(0, Q^−1(τ, κ))$\n",
    "\n",
    "Esta distribución aproxima la solución $x(s)$ de la SPDE en los nodos de la malla. Las funciones base transforman la aproximación $x(s)$ desde los nodos de la malla a las otras ubicaciones espaciales de interés.\n",
    "\n",
    "Ahora bien, la parte complicada de configurar la EDPE es definir los previos para:\n",
    "\n",
    "-   **Alcance del efecto espacial (parámetro κ):** Este parámetro representa la distancia a partir de la cual dos puntos se pueden considerar espacialmente independientes. En otras palabras, ¿a qué distancia deben estar dos ubicaciones para que su efecto espacial sea prácticamente nulo? Un κ alto indica un efecto espacial de largo alcance (las ubicaciones distantes se influencian entre sí), mientras que un κ bajo indica un efecto de corto alcance (la influencia espacial se limita a las ubicaciones cercanas).\n",
    "-   **Variación del efecto espacial (parámetro δ):** Este parámetro representa la variabilidad del campo espacial de un punto a otro. Un δ alto indica un campo espacial con mucha variación (los valores del efecto espacial cambian drásticamente a lo largo del espacio), mientras que un δ bajo indica un campo espacial con poca variación (los valores del efecto espacial son relativamente similares en todo el espacio).\n",
    "\n",
    "Encontrar los valores óptimos para κ y δ es crucial para capturar adecuadamente el efecto espacial en su modelo. INLA permite especificar valores iniciales para estos parámetros, y luego estima sus valores finales durante el proceso de ajuste del modelo."
   ]
  },
  {
   "cell_type": "code",
   "execution_count": null,
   "id": "4a2f9a80",
   "metadata": {},
   "outputs": [],
   "source": [
    "spde <- inla.spde2.pcmatern(mesh, \n",
    "                            prior.range = c(500, 0.5),\n",
    "                            prior.sigma = c(2, 0.05))"
   ]
  },
  {
   "cell_type": "markdown",
   "id": "1e75e1b2",
   "metadata": {},
   "source": [
    "### Definiendo Priores para el Efecto Espacial en INLA: Alcance y Variación\n",
    "\n",
    "Establecer valores iniciales (priores) para el alcance y la variación del efecto espacial en INLA (representados por los parámetros κ y δ respectivamente) puede ser una tarea delicada, ya que estos valores tienen un gran impacto en el modelo ajustado. Afortunadamente, como el ajuste de modelos en INLA es relativamente rápido, es fácil realizar un análisis de sensibilidad para comprender qué configuraciones funcionan mejor.\n",
    "\n",
    "### Alcance del Efecto Espacial (parámetro κ)\n",
    "\n",
    "El prior para el alcance del efecto espacial corresponde con la siguiente fórmula:\n",
    "\n",
    "```         \n",
    "P(κ < κ₀) = p₀\n",
    "```\n",
    "\n",
    "-   κ: Representa el alcance del efecto espacial (distancia a partir de la cual se considera que dos puntos son independientes).\n",
    "-   κ₀: Valor inicial específico del alcance.\n",
    "-   p₀: Probabilidad asociada al valor inicial κ₀.\n",
    "\n",
    "Por ejemplo, si definimos:\n",
    "\n",
    "```         \n",
    "P(κ < 500) = 0.5\n",
    "```\n",
    "\n",
    "Significa que estamos estableciendo una probabilidad del 50% de que el alcance real del efecto espacial sea menor a 500 metros. En otras palabras, hay una posibilidad del 50% de que dos ubicaciones separadas por más de 500 metros tengan efectos espaciales independientes. A mayor valor de κ, mayor alcance del efecto espacial (las ubicaciones distantes se influencian entre sí).\n",
    "\n",
    "### Variación del Efecto Espacial (parámetro δ)\n",
    "\n",
    "De manera similar, el prior para la variación del efecto espacial se establece mediante la siguiente fórmula:\n",
    "\n",
    "```         \n",
    "P(δ > δ₀) = p₀\n",
    "```\n",
    "\n",
    "-   δ: Representa la variación del efecto espacial (cuánto cambia el efecto de un punto a otro).\n",
    "-   δ₀: Valor inicial específico de la variación.\n",
    "-   p₀: Probabilidad asociada al valor inicial δ₀.\n",
    "\n",
    "Por ejemplo:\n",
    "\n",
    "```         \n",
    "P(δ > 2) = 0.05\n",
    "```\n",
    "\n",
    "Indica que asignamos una probabilidad del 5% a la posibilidad de que la variación del efecto espacial sea mayor a 2. En otras palabras, hay una probabilidad del 95% de que la variación sea menor o igual a 2, lo que sugiere un campo espacial con una variación relativamente baja (los valores del efecto cambian poco en el espacio).\n",
    "\n",
    "**Recomendaciones:**\n",
    "\n",
    "-   Experimentar con diferentes valores de κ₀, δ₀ y p₀ para observar cómo afectan el modelo ajustado.\n",
    "-   Consultar fuentes adicionales para encontrar configuraciones apropiadas según el tipo de análisis que se esté realizando.\n",
    "-   Se recomienda establecer valores iniciales relativamente fuertes para δ (p₀ cercano a 0 y alejado de 0.5). Priores demasiado vagos (p₀ cercano a 0.5) pueden causar problemas en el modelo, especialmente en modelos complejos.\n",
    "\n",
    "Tenga en cuenta que INLA permite especificar estos valores iniciales y luego estima los valores finales durante el proceso de ajuste del modelo. El análisis de sensibilidad y la referencia a otras fuentes te ayudarán a encontrar una buena configuración inicial para tus modelos espaciales en INLA."
   ]
  },
  {
   "cell_type": "code",
   "execution_count": null,
   "id": "e8c42742",
   "metadata": {},
   "outputs": [],
   "source": [
    "# create the data stack\n",
    "dat_stack <- inla.stack(data = list(calcium = dat$calcium), # the response variable\n",
    "                        A = list(Amat, 1, 1, 1), # the projection matrix\n",
    "                        effects = list(i = 1:spde$n.spde, # the spatial effect\n",
    "                                       Intercept = rep(1, nrow(dat)), \n",
    "                                       elevation = dat$elevation,\n",
    "                                       region = factor(dat$region)))"
   ]
  },
  {
   "cell_type": "markdown",
   "id": "5709cca8",
   "metadata": {},
   "source": [
    "### La clave está en la proyección de los efectos\n",
    "\n",
    "El punto clave aquí es el argumento `A` donde especificamos la proyección de los diferentes efectos. El efecto espacial se denomina `i` (aunque podemos nombrarlo como queramos) y está indexado por el número de nodos de la malla. Recordemos que cuanto más fina sea la malla, más precisa será la estimación del efecto espacial. Este efecto espacial `i` está vinculado a los datos a través de la matriz de proyección `A_mat`.\n",
    "\n",
    "Los demás efectos se vinculan directamente a los datos, por lo que no necesitan matrices de proyección.\n",
    "\n",
    "Aquí desglosamos un poco más la terminología:\n",
    "\n",
    "-   **Efecto espacial (`i`)**: Representa la variación espacial que se estima a través de la EDPE. Se modela utilizando los nodos de la malla y las funciones base.\n",
    "-   **Matriz de proyección (`A_mat`)**: Esta matriz vincula el efecto espacial estimado en cada nodo de la malla con las observaciones puntuales. Básicamente, indica cómo contribuye el efecto espacial en cada nodo al valor de la variable respuesta en cada ubicación observada.\n",
    "-   **Efectos directos**: Estos efectos son covariables que se incluyen en el modelo además del efecto espacial. A diferencia del efecto espacial, se relacionan directamente con las observaciones puntuales sin necesidad de una matriz de proyección.\n",
    "\n",
    "## Predicción en Modelos Espaciales INLA\n",
    "\n",
    "En INLA, por lo general, es más sencillo obtener predicciones del modelo pasando directamente los nuevos datos que se quieren utilizar para predecir al ajuste del modelo. En otras palabras, necesitamos definir estos nuevos datos **antes** de ajustar el modelo.\n",
    "\n",
    "Aquí vamos a ver cómo predecir el efecto de la elevación y la región sobre la variable respuesta, teniendo en cuenta el efecto espacial:\n",
    "\n",
    "1.  **Datos para la predicción:**\n",
    "    -   Comenzaremos por definir un nuevo conjunto de datos que solo contenga las variables de elevación y región para las ubicaciones donde queremos predecir la variable respuesta.\n",
    "    -   Este nuevo conjunto de datos debe tener el mismo formato que las variables de elevación y región utilizadas en el modelo original.\n",
    "    -   Es importante asegurarse de que las ubicaciones para las que se desea predecir estén dentro del rango del área de estudio cubierta por el modelo original.\n",
    "2.  **Ajuste del modelo:**\n",
    "    -   Durante el ajuste del modelo en INLA, se incluirá este nuevo conjunto de datos junto con los datos originales utilizados para entrenar el modelo.\n",
    "    -   INLA utilizará los valores de elevación y región en los nuevos datos para predecir los valores de la variable respuesta en esas ubicaciones específicas.\n",
    "\n",
    "Al incluir los nuevos datos en el ajuste del modelo, INLA tendrá en cuenta tanto el efecto directo de la elevación y la región como el efecto espacial estimado en el modelo original. Esto permite obtener predicciones más precisas que consideren la dependencia espacial y las relaciones con las covariables de interés."
   ]
  },
  {
   "cell_type": "code",
   "execution_count": null,
   "id": "0f352e34",
   "metadata": {},
   "outputs": [],
   "source": [
    "# a newdata to get the predictions\n",
    "modmat <- expand.grid(elevation = seq(min(dat$elevation), \n",
    "                                      max(dat$elevation), \n",
    "                                      length.out = 10),\n",
    "                      region = unique(dat$region))\n",
    "\n",
    "# the stack for these predictions\n",
    "pred_stack_fixef <- inla.stack(data = list(calcium = NA),\n",
    "                               A = list(1, 1, 1),\n",
    "                               effects = list(Intercept = rep(1, nrow(modmat)),\n",
    "                                              elevation = modmat$elevation,\n",
    "                                              region = factor(modmat$region)),\n",
    "                               tag = \"prd_fixef\")"
   ]
  },
  {
   "cell_type": "markdown",
   "id": "3407baf3",
   "metadata": {},
   "source": [
    "### Puntos clave de la predicción en INLA\n",
    "\n",
    "Aquí hay un desglose de los puntos clave de la predicción en el modelo INLA que se acaba de describir:\n",
    "\n",
    "-   **Datos para la predicción**:\n",
    "    -   Se define un nuevo conjunto de datos que solo incluye las variables de elevación y región para las ubicaciones donde se desean las predicciones.\n",
    "    -   El modelo utilizará estos valores para predecir la variable respuesta en esas ubicaciones específicas.\n",
    "    -   Un aspecto crucial es que se establece `calcium=NA` en este conjunto de datos. Esto indica a INLA que estime los valores de calcio (`calcium`) basándose en los efectos (incluido el espacial) y los parámetros del modelo.\n",
    "    -   La etiqueta `prd_fixef` en el stack permite posteriormente extraer fácilmente los valores predichos.\n",
    "-   **Predicción espacial**:\n",
    "    -   Debido al modelado espacial, las predicciones también se pueden realizar a lo largo del espacio.\n",
    "    -   Una opción sería predecir solo en base al campo espacial, pero lo más interesante es tener en cuenta también las covariables (elevación y región) para obtener predicciones espaciales más precisas.\n",
    "    -   Obtener el stack de predicción para este escenario es un poco más complejo. Se necesitan valores de elevación y región no solo en las ubicaciones observadas, sino en todo el espacio de estudio.\n",
    "-   **Pasos adicionales**:\n",
    "    -   Se requieren algunos pasos previos a INLA que pueden parecer complicados.\n",
    "    -   El objetivo final es crear rásteres con información de elevación y región a partir de los datos disponibles. Estos rásteres se utilizarán luego para predecir la variable respuesta en todo el espacio de estudio.\n",
    "\n",
    "En resumen, la predicción en INLA para modelos espaciales implica definir datos para predicciones puntuales y, si se desea, generar predicciones espaciales teniendo en cuenta los efectos espaciales y las covariables. Los pasos adicionales previos a INLA pueden incluir la creación de rásteres a partir de los datos para cubrir todo el espacio de estudio."
   ]
  },
  {
   "cell_type": "code",
   "execution_count": null,
   "id": "8b089006",
   "metadata": {},
   "outputs": [],
   "source": [
    "library(raster)\n",
    "library(fields) # for Tps\n",
    "\n",
    "## first we define an empty raster to hold the coordinates of the predictions\n",
    "r <- raster(xmn = min(dat$x), xmx = max(dat$x),\n",
    "            ymn = min(dat$y), ymx = max(dat$y),\n",
    "            resolution = 25)\n",
    "\n",
    "## the we use thin-plate spline to derive elevation across the data\n",
    "elev_m <- Tps(dat[,c(\"x\",\"y\")], dat$elevation)"
   ]
  },
  {
   "cell_type": "code",
   "execution_count": null,
   "id": "65f6fd83",
   "metadata": {},
   "outputs": [],
   "source": [
    "## put this into a raster\n",
    "elev <- interpolate(r, elev_m)\n",
    "\n",
    "## for the region info we create a SpatialPolygons \n",
    "## based on the coordinates given in the ca20 object\n",
    "pp <- SpatialPolygons(list(Polygons(list(Polygon(ca20[[5]])), ID = \"reg1\"),\n",
    "                           Polygons(list(Polygon(ca20[[6]])), ID = \"reg2\"),\n",
    "                           Polygons(list(Polygon(ca20[[7]])), ID = \"reg3\")))\n",
    "# turn the SpatialPolygon into a raster object\n",
    "region <- rasterize(pp, r)\n",
    "\n",
    "# the new data frame with coordinates from the raster\n",
    "# plus elevation and region information\n",
    "newdat <- as.data.frame(xyFromCell(r, cell = 1:ncell(r)))\n",
    "newdat$elevation <- values(elev)\n",
    "newdat$region <- factor(values(region))\n",
    "# remove NAs\n",
    "newdat <- na.omit(newdat)\n",
    "\n",
    "# create a new projection matrix for the points\n",
    "Apred <- inla.spde.make.A(mesh,\n",
    "                          loc = as.matrix(newdat[,c(\"x\", \"y\")]))\n",
    "\n",
    "# put this in a new stack\n",
    "pred_stack_alleff <- inla.stack(data = list(calcium = NA),\n",
    "                               A = list(Apred, 1, 1, 1),\n",
    "                               effects = list(i = 1:spde$n.spde,\n",
    "                                              Intercept = rep(1, nrow(newdat)),\n",
    "                                              elevation = newdat$elevation,\n",
    "                                              region = factor(newdat$region)),\n",
    "                               tag = \"prd_alleff\")"
   ]
  },
  {
   "cell_type": "markdown",
   "id": "f53d6db0",
   "metadata": {},
   "source": [
    "### Obteniendo predicciones espaciales con covariables en INLA\n",
    "\n",
    "Aquí detallamos el proceso para obtener predicciones espaciales teniendo en cuenta las covariables (elevación y región) en un modelo INLA:\n",
    "\n",
    "1.  **Información espacial de rásteres:**\n",
    "    -   Se parte de un ráster que representa la región de interés. Este ráster debe contener información sobre las variables de elevación y región.\n",
    "2.  **Datos para la predicción (newdat):**\n",
    "    -   Se crea un nuevo objeto de datos (`newdat`) que contiene los valores de elevación y región extraídos del ráster para las ubicaciones donde se desean las predicciones.\n",
    "    -   Es importante asegurarse de que la extensión del ráster cubra el área de interés para las predicciones.\n",
    "    -   Al igual que en el caso anterior, se establece `calcium=NA` en este conjunto de datos para indicar que INLA debe estimar los valores de la variable respuesta (calcio) a partir de los efectos y parámetros del modelo.\n",
    "3.  **Matriz de proyección:**\n",
    "    -   Se define una nueva matriz de proyección que refleje cómo contribuyen el efecto espacial estimado (campo espacial), la elevación y la región a las predicciones en cada ubicación.\n",
    "    -   Esta matriz de proyección es más compleja que la utilizada para predicciones puntuales porque tiene que tener en cuenta todos los efectos que se utilizan para la predicción.\n",
    "4.  **Nueva pila (stack) de predicción:**\n",
    "    -   Se crea una nueva pila de predicción en INLA que incluya:\n",
    "        -   El objeto `newdat` que contiene los valores de elevación y región para las predicciones.\n",
    "        -   La matriz de proyección recién definida.\n",
    "        -   Una etiqueta única para identificar esta pila de predicción (por ejemplo, \"prediccion_espacial\")."
   ]
  },
  {
   "cell_type": "code",
   "execution_count": null,
   "id": "ac0286eb",
   "metadata": {},
   "outputs": [],
   "source": [
    "# put all the stacks together\n",
    "all_stack <- inla.stack(dat_stack, pred_stack_fixef,\n",
    "                      pred_stack_alleff)"
   ]
  },
  {
   "cell_type": "code",
   "execution_count": null,
   "id": "23a0b167",
   "metadata": {},
   "outputs": [],
   "source": [
    "# fit the model\n",
    "m_inla <- inla(calcium ~ -1 + Intercept + elevation + region + f(i, model = spde),\n",
    "            data = inla.stack.data(all_stack),\n",
    "            control.predictor = list(A = inla.stack.A(all_stack), compute = TRUE),\n",
    "            quantiles = NULL)"
   ]
  },
  {
   "cell_type": "markdown",
   "id": "17a88c79",
   "metadata": {},
   "source": [
    "### Ejecutando el modelo INLA para predicción espacial\n",
    "\n",
    "Se estima que la ejecución del modelo dure alrededor de 30 segundos. Aquí desglosamos los pasos principales del código que acabaste de mencionar:\n",
    "\n",
    "**1. Ajuste del modelo:**\n",
    "\n",
    "-   **fórmula del modelo:** El primer argumento define la fórmula del modelo. Se utiliza `-1` para eliminar la intercepción interna y ajustarla por separado.\n",
    "-   **efecto espacial aleatorio (f()):** La función `f()` se utiliza para especificar un efecto aleatorio (`i`) que sigue el modelo de EDPE definido anteriormente.\n",
    "-   **datos y matriz de proyección:** Se pasan los datos de predicción (`newdat`) y la matriz de proyección recién creada.\n",
    "-   **estimación de valores (compute=TRUE):** Se configura `compute=TRUE` para indicar a INLA que estime los valores de la variable respuesta (calcio) que se proporcionaron como `NA` en `newdat`.\n",
    "\n",
    "**2. Resumen del modelo:**\n",
    "\n",
    "Una vez ajustado el modelo, se puede obtener su resumen utilizando las funciones de INLA para ver información como:\n",
    "\n",
    "-   Efectos fijos (coeficientes estimados para elevación y región)\n",
    "-   Parámetros de correlación espacial (nu y rho)\n",
    "-   Valores p y otros indicadores de significación estadística"
   ]
  },
  {
   "cell_type": "code",
   "execution_count": null,
   "id": "b9210730",
   "metadata": {},
   "outputs": [],
   "source": [
    "summary(m_inla)"
   ]
  },
  {
   "cell_type": "markdown",
   "id": "e4b3da30",
   "metadata": {},
   "source": [
    "### Examinando las predicciones del modelo INLA\n",
    "\n",
    "Una vez ajustado el modelo INLA para las predicciones espaciales, podemos analizar los resultados de diferentes maneras:\n",
    "\n",
    "**1. Predicciones basadas solo en efectos fijos:**\n",
    "\n",
    "Ahora que lo mencionas, podemos comenzar por observar las predicciones que solo tienen en cuenta los efectos fijos (elevación y región). Esto implica promediar las variaciones espaciales para ver el impacto general de estas covariables en la variable respuesta:\n",
    "\n",
    "-   INLA proporciona funciones para extraer las predicciones basadas únicamente en los efectos fijos.\n",
    "-   Al analizar estas predicciones, podemos evaluar cómo cambian los valores predichos en función de la elevación y la región, promediando el efecto espacial.\n",
    "\n",
    "**2. Predicciones espaciales completas:**\n",
    "\n",
    "Además de los efectos fijos, las predicciones espaciales completas también incorporan el efecto espacial estimado en el modelo.\n",
    "\n",
    "-   INLA permite extraer las predicciones espaciales totales, que reflejan la variación de la variable respuesta en todo el espacio de estudio.\n",
    "-   Estas predicciones considerarán tanto la influencia de las covariables (elevación y región) como la dependencia espacial.\n",
    "\n",
    "**3. Visualización de las predicciones:**\n",
    "\n",
    "Una vez extraídas las predicciones, ya sean de efectos fijos o espaciales completas, podemos visualizarlas para comprender mejor los patrones espaciales y la relación con las covariables:\n",
    "\n",
    "-   Podemos utilizar herramientas de representación geográfica (por ejemplo, mapas) para mostrar las predicciones espaciales en el contexto del área de estudio.\n",
    "-   La visualización de las predicciones en relación con los valores observados de la variable respuesta permite evaluar la precisión del modelo."
   ]
  },
  {
   "cell_type": "code",
   "execution_count": null,
   "id": "622865fd",
   "metadata": {},
   "outputs": [],
   "source": [
    "## first we create an index to easily find these \n",
    "## prediction within the fitted model\n",
    "id_fixef <- inla.stack.index(all_stack, \"prd_fixef\")$data\n",
    "\n",
    "## add to modmat the prediction and their sd\n",
    "modmat$calcium <- m_inla$summary.fitted.values[id_fixef, \"mean\"]\n",
    "modmat$sd <- m_inla$summary.fitted.values[id_fixef, \"sd\"]\n",
    "\n",
    "## a plot with the original data\n",
    "ggplot(dat, aes(x = elevation, y = calcium)) +\n",
    "  geom_ribbon(data = modmat, aes(ymin = calcium - 2 * sd,\n",
    "                                 ymax = calcium + 2 * sd,\n",
    "                                 fill = region),\n",
    "              alpha = 0.2) +\n",
    "  geom_line(data = modmat, aes(color = region)) +\n",
    "  geom_point(aes(color = region))"
   ]
  },
  {
   "cell_type": "markdown",
   "id": "34860bd0",
   "metadata": {},
   "source": [
    "### Visualizando las predicciones de efectos fijos en INLA\n",
    "\n",
    "Ahora que hemos visto la teoría, veamos cómo visualizar las predicciones basadas únicamente en los efectos fijos (elevación y región) en tu modelo INLA:\n",
    "\n",
    "**1. Extraer predicciones de efectos fijos:**\n",
    "\n",
    "Como mencionaste anteriormente, utilizaste una etiqueta específica (por ejemplo, \"prediccion_efectos_fijos\") al definir la pila de predicción. Esto nos permite extraer fácilmente las predicciones relevantes del objeto del modelo.\n",
    "\n",
    "En INLA, el resumen del modelo (`summary`) contiene un marco de datos llamado `summary.fitted.values`. Este marco de datos almacena información sobre las predicciones, y podemos filtrarlo utilizando la etiqueta definida anteriormente.\n",
    "\n",
    "**2. Obtener media y desviación estándar:**\n",
    "\n",
    "Una vez filtradas las predicciones de efectos fijos, podemos calcular la media y la desviación estándar. Estas métricas resumen el impacto general de las covariables (elevación y región) en la variable respuesta, promediando la variación espacial.\n",
    "\n",
    "**3. Representación gráfica:**\n",
    "\n",
    "Finalmente, podemos representar gráficamente la media y la desviación estándar junto con los datos originales. Esto te permitirá:\n",
    "\n",
    "-   Visualizar cómo cambian los valores predichos en función de la elevación y la región.\n",
    "-   Comparar las predicciones de efectos fijos con los datos observados para evaluar la capacidad del modelo para capturar las tendencias generales.\n",
    "\n",
    "**4. El mapa genial:**\n",
    "\n",
    "¡Y ahora viene la parte emocionante: el mapa! Una vez que tengas las predicciones espaciales completas (que incluyen el efecto espacial), podrás visualizarlas en un mapa. Esto te permitirá ver la variación de la variable respuesta en todo el espacio de estudio, teniendo en cuenta tanto las covariables como la dependencia espacial.\n",
    "\n",
    "**Herramientas de visualización:**\n",
    "\n",
    "Existen varias herramientas de software y bibliotecas que puedes utilizar para crear mapas a partir de tus predicciones espaciales INLA. Algunos ejemplos populares incluyen:\n",
    "\n",
    "-   `ggplot2` (en R)\n",
    "-   `folium` (en Python)\n",
    "-   ArcGIS Pro\n",
    "-   QGIS"
   ]
  },
  {
   "cell_type": "code",
   "execution_count": null,
   "id": "ea44d134",
   "metadata": {},
   "outputs": [],
   "source": [
    "# again get the correct indices\n",
    "id_alleff <- inla.stack.index(all_stack, \"prd_alleff\")$data\n",
    "\n",
    "# now add the model predictions\n",
    "newdat$pred <- m_inla$summary.fitted.values[id_alleff, \"mean\"]\n",
    "newdat$sd <- m_inla$summary.fitted.values[id_alleff, \"sd\"]\n",
    "# get lower and upper confidence interval\n",
    "newdat$lower_ci <- with(newdat, pred - 2 * sd)\n",
    "newdat$upper_ci <- with(newdat, pred + 2 * sd)\n",
    "\n",
    "# some data wraggling\n",
    "nn <- pivot_longer(newdat, cols = c(\"pred\", \"lower_ci\", \"upper_ci\"))\n",
    "\n",
    "ggplot(nn, aes(x=x, y=y, fill=value)) +\n",
    "  geom_raster() +\n",
    "  facet_wrap(~name) +\n",
    "  scale_fill_continuous(type = \"viridis\")"
   ]
  },
  {
   "cell_type": "markdown",
   "id": "6d1c9e25",
   "metadata": {},
   "source": [
    "## Ejemplo con INLA"
   ]
  },
  {
   "cell_type": "code",
   "execution_count": null,
   "id": "fff6dfec",
   "metadata": {},
   "outputs": [],
   "source": [
    "library(sf)\n",
    "library(rnaturalearth)\n",
    "library(sf)\n",
    "library(terra)\n",
    "library(geodata)\n",
    "library(INLA)\n",
    "library(rasterVis)"
   ]
  },
  {
   "cell_type": "markdown",
   "id": "3f4e0f77",
   "metadata": {},
   "source": [
    "Los promedios anuales de los niveles de concentración de PM2.5 registrados en 1429 estaciones de monitoreo de la Agencia de Protección Ambiental de los Estados Unidos en 2022 se encuentran en el archivo PM25USA2022.csv, que se puede descargar desde este sitio web. Usamos la función `read.csv()` para leer los datos, que contienen los valores de longitud y latitud de las estaciones de monitoreo, y los valores registrados de PM2.5 en microgramos por metro cúbico. Luego, usamos la función `st_as_sf()` para transformar el data.frame obtenido en un objeto `sf` con CRS geográfico dado por el código EPSG 4326."
   ]
  },
  {
   "cell_type": "code",
   "execution_count": null,
   "id": "c020692b",
   "metadata": {},
   "outputs": [],
   "source": [
    "\n",
    "f <- file.path(\"https://www.paulamoraga.com/book-spatial/\", \"data/PM25USA2022.csv\")\n",
    "d <- read.csv(f)\n",
    "d <- st_as_sf(d, coords = c(\"longitude\", \"latitude\"))\n",
    "st_crs(d) <- \"EPSG:4326\""
   ]
  },
  {
   "cell_type": "markdown",
   "id": "fc58b924",
   "metadata": {},
   "source": [
    "Luego, obtenemos el mapa de los EE. UU. con la función `ne_countries()` de `rnaturalearth`. Usamos `st_crop()` para eliminar Alaska y otras áreas que están fuera de la región comprendida por los valores de longitud (–130, 60) y los valores de latitud (18, 72)."
   ]
  },
  {
   "cell_type": "code",
   "execution_count": null,
   "id": "65375b1e",
   "metadata": {},
   "outputs": [],
   "source": [
    "map <- ne_countries(type = \"countries\",\n",
    "                    country = \"United States of America\",\n",
    "                    scale = \"medium\", returnclass = \"sf\")\n",
    "map <- st_crop(map, xmin = -130, xmax = -60, ymin = 18, ymax = 72)"
   ]
  },
  {
   "cell_type": "code",
   "execution_count": null,
   "id": "30b39075",
   "metadata": {},
   "outputs": [],
   "source": [
    "d <- st_filter(d, map)\n",
    "nrow(d)"
   ]
  },
  {
   "cell_type": "code",
   "execution_count": null,
   "id": "ba106f94",
   "metadata": {},
   "outputs": [],
   "source": [
    "library(ggplot2)\n",
    "library(viridis)\n",
    "ggplot() + geom_sf(data = map) +\n",
    "  geom_sf(data = d, aes(col = value)) +\n",
    "  scale_color_viridis()"
   ]
  },
  {
   "cell_type": "markdown",
   "id": "5facb7b1",
   "metadata": {},
   "source": [
    "Aquí, construimos una matriz `coop` con las ubicaciones donde se predecirán los niveles de contaminación del aire. Primero, creamos una cuadrícula ráster de 100 × 100 celdas que cubre el mapa usando la función `rast()` de `terra`. Luego, obtenemos las coordenadas de las celdas con la función `xyfromCell()` de `terra`."
   ]
  },
  {
   "cell_type": "code",
   "execution_count": null,
   "id": "7c2f220a",
   "metadata": {},
   "outputs": [],
   "source": [
    "# raster grid covering map\n",
    "grid <- terra::rast(map, nrows = 100, ncols = 100)\n",
    "# coordinates of all cells\n",
    "xy <- terra::xyFromCell(grid, 1:ncell(grid))"
   ]
  },
  {
   "cell_type": "markdown",
   "id": "0cee325f",
   "metadata": {},
   "source": [
    "Luego, usamos la función `st_as_sf()` para crear un objeto `sf` con las coordenadas de las ubicaciones de predicción, especificando las coordenadas como un data frame, el nombre de las coordenadas y el CRS. Obtenemos los índices de las coordenadas de los puntos que están dentro del mapa con `st_intersects()` configurando `sparse = FALSE`. Luego usaremos estos índices para identificar las ubicaciones de predicción. También obtenemos las coordenadas de los puntos que están dentro del mapa con `sf_filter()`. La Figura muestra las ubicaciones de predicción."
   ]
  },
  {
   "cell_type": "code",
   "execution_count": null,
   "id": "1558b5b9",
   "metadata": {},
   "outputs": [],
   "source": [
    "# transform points to a sf object\n",
    "dp <- st_as_sf(as.data.frame(xy), coords = c(\"x\", \"y\"),\n",
    "                 crs = st_crs(map))\n",
    "\n",
    "# indices points within the map\n",
    "indicespointswithin <- which(st_intersects(dp, map,\n",
    "                                           sparse = FALSE))\n",
    "\n",
    "# points within the map\n",
    "dp <- st_filter(dp, map)\n",
    "\n",
    "# plot\n",
    "ggplot() + geom_sf(data = map) +\n",
    "  geom_sf(data = dp)"
   ]
  },
  {
   "cell_type": "markdown",
   "id": "af88afcd",
   "metadata": {},
   "source": [
    "En nuestro modelo, utilizamos la temperatura promedio y la precipitación como covariables. Los valores mensuales de estas variables a nivel global pueden obtenerse con la función `worldclim_global()` de `geodata`."
   ]
  },
  {
   "cell_type": "code",
   "execution_count": null,
   "id": "7b4a419b",
   "metadata": {},
   "outputs": [],
   "source": [
    "covtemp <- worldclim_global(var = \"tavg\", res = 10,\n",
    "                            path = tempdir())\n",
    "covprec <- worldclim_global(var = \"prec\", res = 10,\n",
    "                            path = tempdir())"
   ]
  },
  {
   "cell_type": "markdown",
   "id": "82058f59",
   "metadata": {},
   "source": [
    "Después de descargar los datos, calculamos los promedios mensuales y extraemos los valores en las ubicaciones de observación y predicción con la función `extract()` de `terra`."
   ]
  },
  {
   "cell_type": "code",
   "execution_count": null,
   "id": "c5d6b3db",
   "metadata": {},
   "outputs": [],
   "source": [
    "# Extract at observed locations\n",
    "d$covtemp <- extract(mean(covtemp), st_coordinates(d))[, 1]\n",
    "d$covprec <- extract(mean(covprec), st_coordinates(d))[, 1]\n",
    "# Extract at prediction locations\n",
    "dp$covtemp <- extract(mean(covtemp), st_coordinates(dp))[, 1]\n",
    "dp$covprec <- extract(mean(covprec), st_coordinates(dp))[, 1]"
   ]
  },
  {
   "cell_type": "code",
   "execution_count": null,
   "id": "a27b9b6c",
   "metadata": {},
   "outputs": [],
   "source": [
    "library(\"patchwork\")\n",
    "p1 <- ggplot() + geom_sf(data = map) +\n",
    "  geom_sf(data = d, aes(col = covtemp)) +\n",
    "  scale_color_viridis()\n",
    "p2 <- ggplot() + geom_sf(data = map) +\n",
    "  geom_sf(data = d, aes(col = covprec)) +\n",
    "  scale_color_viridis()\n",
    "p1/p2\n"
   ]
  },
  {
   "cell_type": "markdown",
   "id": "8bbe6644",
   "metadata": {},
   "source": [
    "Los datos con los que estamos trabajando tienen un CRS geográfico que referencia ubicaciones utilizando valores de longitud y latitud. Para trabajar con kilómetros en lugar de grados, usamos `st_transform()` para transformar el CRS de los objetos `sf` con los datos correspondientes a las ubicaciones observadas (d) y las ubicaciones de predicción (dp) de geográfico a un CRS proyectado. Específicamente, utilizamos la proyección de Mercator dada por el código EPSG 3857 y usamos kilómetros como unidades. Para ello, usamos la proyección dada por `st_crs(\"EPSG:3857\")$proj4string`, reemplazando `+units=m` por `+units=km`."
   ]
  },
  {
   "cell_type": "code",
   "execution_count": null,
   "id": "276f9da8",
   "metadata": {},
   "outputs": [],
   "source": [
    "st_crs(\"EPSG:3857\")$proj4string\n",
    "projMercator<-\"+proj=merc +a=6378137 +b=6378137 +lat_ts=0 +lon_0=0\n",
    "+x_0=0 +y_0=0 +k=1 +units=km +nadgrids=@null +wktext +no_defs\"\n",
    "d <- st_transform(d, crs = projMercator)\n",
    "dp <- st_transform(dp, crs = projMercator)"
   ]
  },
  {
   "cell_type": "code",
   "execution_count": null,
   "id": "e98b8472",
   "metadata": {},
   "outputs": [],
   "source": [
    "# Observed coordinates\n",
    "coo <- st_coordinates(d)\n",
    "\n",
    "# Predicted coordinates\n",
    "coop <- st_coordinates(dp)"
   ]
  },
  {
   "cell_type": "markdown",
   "id": "67620d6a",
   "metadata": {},
   "source": [
    "Ahora especificamos el modelo que utilizamos para predecir los valores de PM2.5 en ubicaciones no muestreadas. Suponemos que $Yᵢ$, los valores de PM2.5 medidos en las ubicaciones $i = 1, …, n$, pueden modelarse como\n",
    "\n",
    "$Yᵢ ∼ N(μᵢ, σ²)$,\n",
    "\n",
    "$μᵢ = β₀ + β₁ × tempᵢ + β₂ × precᵢ + S(x$ᵢ),\n",
    "\n",
    "donde $β₀$ es la intersección, y $β₁$ $β₂$ son, respectivamente, los coeficientes de temperatura y precipitación. $S(⋅)$ es un efecto aleatorio espacial que se modela como un proceso gaussiano de media cero con función de covarianza de Matérn."
   ]
  },
  {
   "cell_type": "code",
   "execution_count": null,
   "id": "77791353",
   "metadata": {},
   "outputs": [],
   "source": [
    "summary(dist(coo)) # summary of distances between locations"
   ]
  },
  {
   "cell_type": "markdown",
   "id": "6de8d76c",
   "metadata": {},
   "source": [
    "Para ajustar el modelo utilizando el enfoque SPDE, primero creamos una malla triangulada que cubre la región de estudio donde aproximamos el campo aleatorio gaussiano como un campo aleatorio de Markov gaussiano. INLA produce buenas aproximaciones utilizando una malla fina compuesta por triángulos muy pequeños y con una gran distancia de separación entre las ubicaciones y el borde de la malla para evitar efectos de borde que aumentan la varianza cerca del límite. En algunas aplicaciones, el uso de una malla tan fina podría ser computacionalmente intensivo, y normalmente trabajamos con mallas que aún producen buenas aproximaciones consistentes en una región interna con triángulos pequeños donde se necesita precisión, y una extensión externa con triángulos más grandes donde no se necesitan aproximaciones precisas.\n",
    "\n",
    "Aquí, creamos la malla con la función `inla.mesh.2d()` de R-INLA. Pasamos como argumentos `loc = coo` con las coordenadas de ubicación, y `max.edge = c(200, 500)` con las longitudes máximas permitidas de los bordes de los triángulos en la región y la extensión para tener triángulos más pequeños dentro de la región que en la extensión. También especificamos `cutoff = 1` con la distancia mínima permitida entre puntos para evitar la construcción de muchos triángulos pequeños en áreas donde las ubicaciones están cerca unas de otras (Figura 15.4). El número de vértices de la malla se puede obtener con `mesh$n`, y la malla se puede graficar de la siguiente manera."
   ]
  },
  {
   "cell_type": "code",
   "execution_count": null,
   "id": "83f51476",
   "metadata": {},
   "outputs": [],
   "source": [
    "mesh <- inla.mesh.2d(loc = coo, max.edge = c(200, 500),\n",
    "                     cutoff = 1)\n",
    "mesh$n"
   ]
  },
  {
   "cell_type": "code",
   "execution_count": null,
   "id": "8924f08e",
   "metadata": {},
   "outputs": [],
   "source": [
    "plot(mesh)\n",
    "points(coo, col = \"red\")\n",
    "axis(1)\n",
    "axis(2)"
   ]
  },
  {
   "cell_type": "markdown",
   "id": "b6d6380f",
   "metadata": {},
   "source": [
    "Luego, usamos la función `inla.spde2.matern()` para construir el modelo SPDE. Esta función tiene parámetros `mesh` con la malla triangulada construida y `constr = TRUE` para imponer una restricción de integración a cero. Además, establecemos el parámetro de suavidad $ν$ igual a 1. En el caso espacial $d = 2$ y $α = ν + d / 2 = 2$."
   ]
  },
  {
   "cell_type": "code",
   "execution_count": null,
   "id": "301f3762",
   "metadata": {},
   "outputs": [],
   "source": [
    "spde <- inla.spde2.matern(mesh = mesh, alpha = 2, constr = TRUE)"
   ]
  },
  {
   "cell_type": "markdown",
   "id": "e4527f53",
   "metadata": {},
   "source": [
    "Luego, creamos un conjunto de índices para el modelo SPDE usando la función `inla.spde.make.index()`, donde proporcionamos el nombre del efecto (`s`) y el número de vértices en el modelo SPDE (`spde$n.spde`). Esta función genera una lista con el vector `s` que va del 1 al `spde$n.spde`. Además, crea dos vectores, `s.group` y `s.repl`, que contienen todos los elementos establecidos en 1 y longitudes iguales al número de vértices de la malla."
   ]
  },
  {
   "cell_type": "code",
   "execution_count": null,
   "id": "becab21e",
   "metadata": {},
   "outputs": [],
   "source": [
    "indexs <- inla.spde.make.index(\"s\", spde$n.spde)\n",
    "lengths(indexs)"
   ]
  },
  {
   "cell_type": "markdown",
   "id": "a89b3f05",
   "metadata": {},
   "source": [
    "Usamos la función `inla.spde.make.A()` de R-INLA, pasando la malla (`mesh`) y las coordenadas (`coo`) para construir fácilmente una matriz de proyección A que proyecta el campo aleatorio gaussiano espacialmente continuo desde las observaciones hasta los nodos de la malla."
   ]
  },
  {
   "cell_type": "code",
   "execution_count": null,
   "id": "6f61d5ce",
   "metadata": {},
   "outputs": [],
   "source": [
    "A <- inla.spde.make.A(mesh = mesh, loc = coo)"
   ]
  },
  {
   "cell_type": "markdown",
   "id": "e2374d90",
   "metadata": {},
   "source": [
    "Podemos ver que la matriz de proyección $A$ tiene un número de filas igual al número de observaciones y un número de columnas igual al número de vértices de la malla. También observamos que los elementos de cada fila de $A$ suman 1."
   ]
  },
  {
   "cell_type": "code",
   "execution_count": null,
   "id": "3c45419e",
   "metadata": {},
   "outputs": [],
   "source": [
    "# dimension of the projection matrix\n",
    "dim(A)"
   ]
  },
  {
   "cell_type": "markdown",
   "id": "e0bfeba6",
   "metadata": {},
   "source": [
    "También creamos una matriz de proyección para las ubicaciones de predicción."
   ]
  },
  {
   "cell_type": "code",
   "execution_count": null,
   "id": "11e8a431",
   "metadata": {},
   "outputs": [],
   "source": [
    "Ap <- inla.spde.make.A(mesh = mesh, loc = coop)"
   ]
  },
  {
   "cell_type": "markdown",
   "id": "28342096",
   "metadata": {},
   "source": [
    "Ahora creamos un stack con los datos para estimación y predicción que organiza datos, efectos y matrices de proyección. Creamos stacks para estimación (`stk.e`) y predicción (`stk.p`) usando `tag` para identificar el tipo de datos, `data` con la lista de vectores de datos, `A` con las matrices de proyección, y `effects` con una lista de efectos fijos y aleatorios. Primero, creamos un stack llamado `stk.e` que contiene los datos para estimación, el cual está etiquetado con la cadena \"est\". En `data`, especificamos el vector de respuesta con los valores observados de PM2.5. La matriz de proyección se da en el argumento `A`, que es una lista donde el segundo elemento es la matriz de proyección para los efectos aleatorios (A) y el primer elemento se establece en 1 para indicar que los efectos fijos se mapean directamente uno a uno a la respuesta. Para definir los efectos, pasamos una lista que contiene los efectos fijos y aleatorios. Los efectos fijos son un `data.frame` que consta de una intersección (b0) y covariables de temperatura (covtemp) y precipitación (covprec). El efecto aleatorio está representado por el campo aleatorio gaussiano espacial `s` que contiene una lista con los índices del objeto SPDE (`indexs`). Además, construimos otro stack llamado `stk.p` para predicción, que está etiquetado con la etiqueta \"pred\". Los datos, la matriz de proyección y los efectos se especifican para las ubicaciones de predicción. El vector de respuesta en el argumento `data` de este stack se establece en una lista con `NA` porque estos son los valores que queremos predecir. Finalmente, combinamos `stk.e` y `stk.p` en un solo stack completo llamado `stk.full`."
   ]
  },
  {
   "cell_type": "code",
   "execution_count": null,
   "id": "8e57ec5e",
   "metadata": {},
   "outputs": [],
   "source": [
    "# stack for estimation stk.e\n",
    "stk.e <- inla.stack(tag = \"est\",\n",
    "data = list(y = d$value), A = list(1, A),\n",
    "effects = list(data.frame(b0 = rep(1, nrow(A)),\n",
    "covtemp = d$covtemp, covprec = d$covprec),\n",
    "s = indexs))\n",
    "\n",
    "# stack for prediction stk.p\n",
    "stk.p <- inla.stack(tag = \"pred\",\n",
    "data = list(y = NA), A = list(1, Ap),\n",
    "effects = list(data.frame(b0 = rep(1, nrow(Ap)),\n",
    "covtemp = dp$covtemp, covprec = dp$covprec),\n",
    "s = indexs))\n",
    "\n",
    "# stk.full has stk.e and stk.p\n",
    "stk.full <- inla.stack(stk.e, stk.p)"
   ]
  },
  {
   "cell_type": "markdown",
   "id": "fa745ea3",
   "metadata": {},
   "source": [
    "Luego, especificamos la fórmula incluyendo la variable de respuesta, el símbolo \\~ y los efectos fijos y aleatorios. En la fórmula, eliminamos la intersección añadiendo 0 e incluimos la intersección como un término de covariable añadiendo `b0`. Este paso asegura que todos los términos de covariable se capturen adecuadamente dentro de la matriz de proyección."
   ]
  },
  {
   "cell_type": "code",
   "execution_count": null,
   "id": "31d3b404",
   "metadata": {},
   "outputs": [],
   "source": [
    "formula <- y ~ 0 + b0 + covtemp + covprec + f(s, model = spde)"
   ]
  },
  {
   "cell_type": "markdown",
   "id": "e2556a9a",
   "metadata": {},
   "source": [
    "Finalmente, llamamos a `inla()` especificando la fórmula, la familia, el stack con los datos y las opciones. Establecemos `control.predictor = list(compute = TRUE)` y `control.compute = list(return.marginals.predictor = TRUE)` para calcular y devolver las marginales para el predictor lineal."
   ]
  },
  {
   "cell_type": "code",
   "execution_count": null,
   "id": "a6588df4",
   "metadata": {},
   "outputs": [],
   "source": [
    "res <- inla(formula, family = \"gaussian\",\n",
    "       data = inla.stack.data(stk.full),\n",
    "       control.predictor = list(compute = TRUE,\n",
    "                                A = inla.stack.A(stk.full)),\n",
    "       control.compute = list(return.marginals.predictor = TRUE))"
   ]
  },
  {
   "cell_type": "code",
   "execution_count": null,
   "id": "669544af",
   "metadata": {},
   "outputs": [],
   "source": [
    "res$summary.fixed"
   ]
  },
  {
   "cell_type": "markdown",
   "id": "c7657b54",
   "metadata": {},
   "source": [
    "Observamos que el coeficiente de temperatura es $^β₁ = 0.239$ con un intervalo creíble del 95% igual a (0.201, 0.28). El coeficiente de precipitación es $^β₂ = 0.003$ con un intervalo creíble del 95% igual a (–0.003, 0.009). Así, la temperatura está significativamente asociada con PM2.5, mientras que la precipitación no es significativa.\n",
    "\n",
    "El objeto `res$summary.fitted.values` contiene la media posterior y los cuantiles de los valores ajustados. Podemos obtener los índices correspondientes a las ubicaciones de predicción utilizando la función `inla.stack.index()` pasando el stack completo y `tag = \"pred\"`. Luego, recuperamos la columna \"mean\" con la media posterior, y las columnas \"0.025quant\" y \"0.975quant\" con los límites inferior y superior de los intervalos creíbles del 95% que denotan la incertidumbre de las predicciones."
   ]
  },
  {
   "cell_type": "code",
   "execution_count": null,
   "id": "ef617be4",
   "metadata": {},
   "outputs": [],
   "source": [
    "index <- inla.stack.index(stack = stk.full, tag = \"pred\")$data\n",
    "pred_mean <- res$summary.fitted.values[index, \"mean\"]\n",
    "pred_ll <- res$summary.fitted.values[index, \"0.025quant\"]\n",
    "pred_ul <- res$summary.fitted.values[index, \"0.975quant\"]"
   ]
  },
  {
   "cell_type": "markdown",
   "id": "a2367dc9",
   "metadata": {},
   "source": [
    "Asignamos los valores predichos a sus celdas correspondientes dentro del mapa que están en el objeto `grid` que contiene las ubicaciones de predicción."
   ]
  },
  {
   "cell_type": "code",
   "execution_count": null,
   "id": "e3082f44",
   "metadata": {},
   "outputs": [],
   "source": [
    "grid$mean <- NA\n",
    "grid$ll <- NA\n",
    "grid$ul <- NA\n",
    "\n",
    "grid$mean[indicespointswithin] <- pred_mean\n",
    "grid$ll[indicespointswithin] <- pred_ll\n",
    "grid$ul[indicespointswithin] <- pred_ul\n",
    "\n",
    "summary(grid) # negative values for the lower limit"
   ]
  },
  {
   "cell_type": "markdown",
   "id": "0bb337c7",
   "metadata": {},
   "source": [
    "Luego, graficamos la media posterior y los intervalos creíbles del 95% de los valores predichos de PM2.5 con la función `levelplot()` del paquete `rasterVis`. La Figura 15.5 muestra mapas con el patrón espacial de los niveles predichos de PM2.5 así como su incertidumbre asociada."
   ]
  },
  {
   "cell_type": "code",
   "execution_count": null,
   "id": "f8bf9037",
   "metadata": {},
   "outputs": [],
   "source": [
    "\n",
    "levelplot(grid, layout = c(1, 3),\n",
    "names.attr = c(\"Mean\", \"2.5 percentile\", \"97.5 percentile\"))"
   ]
  },
  {
   "cell_type": "markdown",
   "id": "232941c9",
   "metadata": {},
   "source": [
    "También podemos obtener probabilidades de que PM2.5 supere un umbral específico con la función `inla.pmarginal()`. Específicamente, calculamos las probabilidades de que los niveles de PM2.5 superen los 10 microgramos por metro cúbico. Es decir, P(PM2.5 \\> 10) = 1 – P(PM2.5 ≤ 10)."
   ]
  },
  {
   "cell_type": "code",
   "execution_count": null,
   "id": "8af2aa04",
   "metadata": {},
   "outputs": [],
   "source": [
    "excprob <- sapply(res$marginals.fitted.values[index],\n",
    "FUN = function(marg){1-inla.pmarginal(q = 10, marginal = marg)})"
   ]
  },
  {
   "cell_type": "markdown",
   "id": "5fb4f525",
   "metadata": {},
   "source": [
    "Luego, añadimos las probabilidades de excedencia como una capa en `grid`, y las graficamos con `levelplot()`. En `levelplot()`, establecemos `margin = FALSE` para ocultar los gráficos marginales de los resúmenes de columnas y filas del objeto raster. La Figura muestra las probabilidades de que los niveles de PM2.5 superen los 10 microgramos por metro cúbico. Observamos altas probabilidades en la costa oeste y en la parte sur del país."
   ]
  },
  {
   "cell_type": "code",
   "execution_count": null,
   "id": "6f7c4c04",
   "metadata": {},
   "outputs": [],
   "source": [
    "grid$excprob <- NA\n",
    "grid$excprob[indicespointswithin] <- excprob\n",
    "\n",
    "levelplot(grid$excprob, margin = FALSE)"
   ]
  }
 ],
 "metadata": {
  "jupytext": {
   "cell_metadata_filter": "-all",
   "main_language": "R",
   "notebook_metadata_filter": "-all",
   "text_representation": {
    "extension": ".Rmd",
    "format_name": "rmarkdown"
   }
  },
  "language_info": {
   "codemirror_mode": {
    "name": "ipython",
    "version": 3
   },
   "file_extension": ".py",
   "mimetype": "text/x-python",
   "name": "python",
   "nbconvert_exporter": "python",
   "pygments_lexer": "ipython3",
   "version": "3.11.4"
  }
 },
 "nbformat": 4,
 "nbformat_minor": 5
}