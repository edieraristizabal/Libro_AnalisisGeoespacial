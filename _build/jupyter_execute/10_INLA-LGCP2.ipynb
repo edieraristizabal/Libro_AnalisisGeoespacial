{
 "cells": [
  {
   "cell_type": "markdown",
   "id": "fe324420",
   "metadata": {},
   "source": [
    "**CURSO**: Análisis Geoespacial, Departamento de Geociencias y Medio Ambiente, Universidad Nacional de Colombia - sede Medellín\\\n",
    "**Profesor**: Edier Aristizábal ([evaristizabalg\\@unal.edu.co](mailto:evaristizabalg@unal.edu.co){.email})\\\n",
    "**Credits**: The content of this notebook is based on [Spatial Statistics for Data Science: Theory and Practice with R](https://www.paulamoraga.com/book-spatial/point-process-modeling.html).\n",
    "\n",
    "# log-Gaussian Cox process (LGCP)\n",
    "\n",
    "Los Procesos de Cox Log-Gaussianos (LGCPs) se utilizan típicamente para modelar fenómenos impulsados por el medio ambiente (Diggle et al. 2013). Un LGCP es un proceso de Poisson con una intensidad variable, que a su vez es un proceso estocástico de la forma\n",
    "\n",
    "Λ(s) = exp(Z(s)),\n",
    "\n",
    "donde Z = {Z(s) : s ∈ R²} es un proceso Gaussiano. Entonces, condicionado a Λ(⋅), el proceso de puntos es un proceso de Poisson inhomogéneo con intensidad Λ(⋅). Esto implica que el número de eventos en cualquier región A se distribuye según una Poisson con media ∫A Λ(s) ds, y las ubicaciones de los eventos son una muestra aleatoria independiente de la distribución en A con una densidad de probabilidad proporcional a Λ(⋅). Un modelo LGCP también puede incluir variables explicativas espaciales, proporcionando un enfoque flexible para describir y predecir una amplia gama de fenómenos espaciales.\n",
    "\n",
    "En este capítulo, asumimos que hemos observado un patrón espacial de puntos de ubicaciones de eventos {x_i : i = 1, ..., n} que ha sido generado como una realización de un LGCP, y mostramos cómo ajustar un modelo LGCP a los datos utilizando los enfoques INLA y SPDE. El Capítulo 15 introdujo el enfoque SPDE y describió su implementación en el contexto de la geoestadística basada en modelos utilizando un ejemplo de predicción de contaminación del aire. Aquí, describimos cómo usar SPDE para ajustar un modelo LGCP a un patrón de puntos de especies de plantas para estimar la intensidad del proceso."
   ]
  },
  {
   "cell_type": "code",
   "execution_count": 1,
   "id": "d411af3b",
   "metadata": {},
   "outputs": [
    {
     "ename": "NameError",
     "evalue": "name 'library' is not defined",
     "output_type": "error",
     "traceback": [
      "\u001b[1;31m---------------------------------------------------------------------------\u001b[0m",
      "\u001b[1;31mNameError\u001b[0m                                 Traceback (most recent call last)",
      "Cell \u001b[1;32mIn[1], line 1\u001b[0m\n\u001b[1;32m----> 1\u001b[0m \u001b[43mlibrary\u001b[49m(\u001b[38;5;124m\"\u001b[39m\u001b[38;5;124msf\u001b[39m\u001b[38;5;124m\"\u001b[39m)\n\u001b[0;32m      2\u001b[0m library(\u001b[38;5;124m\"\u001b[39m\u001b[38;5;124mspocc\u001b[39m\u001b[38;5;124m\"\u001b[39m)\n\u001b[0;32m      3\u001b[0m library(\u001b[38;5;124m\"\u001b[39m\u001b[38;5;124mggplot2\u001b[39m\u001b[38;5;124m\"\u001b[39m)\n",
      "\u001b[1;31mNameError\u001b[0m: name 'library' is not defined"
     ]
    }
   ],
   "source": [
    "library(\"sf\")\n",
    "library(\"spocc\")\n",
    "library(\"ggplot2\")\n",
    "library(sf)\n",
    "library(terra)\n",
    "library(rnaturalearth)\n",
    "library(INLA)\n",
    "library(rgeos)"
   ]
  },
  {
   "cell_type": "code",
   "execution_count": null,
   "id": "4792f3e5",
   "metadata": {},
   "outputs": [],
   "source": [
    "devtools::install_github(\"cran/rgeos\")"
   ]
  },
  {
   "cell_type": "markdown",
   "id": "542f5dc0",
   "metadata": {},
   "source": [
    "En este ejemplo, estimamos la intensidad de las especies de plantas de Solanum en Bolivia desde enero de 2015 hasta diciembre de 2022, obtenidas de la base de datos Global Biodiversity Information Facility (GBIF) con el paquete `spocc`. Recuperamos los datos utilizando la función `occ()`, especificando el nombre científico de la especie de planta, la fuente de datos, las fechas y el código del país. También especificamos `has_coords = TRUE` para devolver solo las ocurrencias que tienen coordenadas, y `limit = 1000` para establecer el límite en el número de registros. Aquí, mostramos cómo formular y ajustar un modelo LGCP para las especies de plantas de Solanum en Bolivia utilizando un campo aleatorio Gaussiano continuo con INLA y SPDE. El modelo nos permite estimar la intensidad del proceso que genera las ubicaciones."
   ]
  },
  {
   "cell_type": "code",
   "execution_count": null,
   "id": "c6775e9e",
   "metadata": {},
   "outputs": [],
   "source": [
    "df <- occ(query = \"solanum\", from = \"gbif\",\n",
    "          date = c(\"2015-01-01\", \"2022-12-31\"),\n",
    "          gbifopts = list(country = \"BO\"),\n",
    "          has_coords = TRUE, limit = 1000)\n",
    "d <- occ2df(df)"
   ]
  },
  {
   "cell_type": "markdown",
   "id": "6c35ae92",
   "metadata": {},
   "source": [
    "Utilizamos la función `st_as_sf()` para crear un objeto `sf` llamado `d` que contiene las nrow(d) = 263 ubicaciones recuperadas. Establecemos el sistema de referencia de coordenadas (CRS) al código EPSG 4326 ya que las coordenadas de las ubicaciones están dadas por valores de longitud y latitud."
   ]
  },
  {
   "cell_type": "code",
   "execution_count": null,
   "id": "8d60a01c",
   "metadata": {},
   "outputs": [],
   "source": [
    "d <- st_as_sf(d[, 2:3], coords = c(\"longitude\", \"latitude\"))\n",
    "st_crs(d) <- \"EPSG:4326\""
   ]
  },
  {
   "cell_type": "markdown",
   "id": "54733d7b",
   "metadata": {},
   "source": [
    "Para trabajar con kilómetros en lugar de grados, proyectamos los datos a UTM 19S correspondiente al código EPSG 5356 con kilómetros como unidades. Para hacerlo, obtenemos `st_crs(\"EPSG:5356\")$proj4string` y cambiamos `+units=m` por `+units=km`."
   ]
  },
  {
   "cell_type": "code",
   "execution_count": null,
   "id": "ed47d14f",
   "metadata": {},
   "outputs": [],
   "source": [
    "st_crs(\"EPSG:5356\")$proj4string\n",
    "projUTM <- \"+proj=utm +zone=19 +south +ellps=GRS80\n",
    "+towgs84=0,0,0,0,0,0,0 +units=km +no_defs\"\n",
    "d <- st_transform(d, crs = projUTM)"
   ]
  },
  {
   "cell_type": "markdown",
   "id": "380ff0e2",
   "metadata": {},
   "source": [
    "También obtenemos el mapa de Bolivia con el paquete `rnaturalearth` y lo proyectamos a UTM 19S con kilómetros como unidades."
   ]
  },
  {
   "cell_type": "code",
   "execution_count": null,
   "id": "81fa4d4f",
   "metadata": {},
   "outputs": [],
   "source": [
    "\n",
    "map <- ne_countries(type = \"countries\", country = \"Bolivia\",\n",
    "                    scale = \"medium\", returnclass = \"sf\")\n",
    "map <- st_transform(map, crs = projUTM)"
   ]
  },
  {
   "cell_type": "code",
   "execution_count": null,
   "id": "e2da05d7",
   "metadata": {},
   "outputs": [],
   "source": [
    "ggplot() + geom_sf(data = map) +\n",
    "  geom_sf(data = d) + coord_sf(datum = projUTM)"
   ]
  },
  {
   "cell_type": "markdown",
   "id": "c862bef2",
   "metadata": {},
   "source": [
    "Finalmente, creamos un data frame llamado `coo` con las ubicaciones de los eventos."
   ]
  },
  {
   "cell_type": "code",
   "execution_count": null,
   "id": "d760da53",
   "metadata": {},
   "outputs": [],
   "source": [
    "coo <- st_coordinates(d)"
   ]
  },
  {
   "cell_type": "markdown",
   "id": "772c40ca",
   "metadata": {},
   "source": [
    "Ahora, construimos una matriz con las ubicaciones `coop` donde queremos predecir la intensidad del proceso puntual. Para hacerlo, primero creamos un raster que cubra el mapa utilizando la función `rast()` del paquete `terra`. Luego, recuperamos las coordenadas de las celdas con la función `xyFromCell()` del paquete `terra`."
   ]
  },
  {
   "cell_type": "code",
   "execution_count": null,
   "id": "ca8c9e1e",
   "metadata": {},
   "outputs": [],
   "source": [
    "# raster grid covering map\n",
    "grid <- terra::rast(map, nrows = 100, ncols = 100)\n",
    "# coordinates of all cells\n",
    "xy <- terra::xyFromCell(grid, 1:ncell(grid))"
   ]
  },
  {
   "cell_type": "markdown",
   "id": "8f87b2b3",
   "metadata": {},
   "source": [
    "Creamos un objeto `sf` llamado `dp` con las ubicaciones de predicción utilizando `st_as_sf()`, y usamos `st_filter()` para conservar las ubicaciones de predicción que se encuentran dentro del mapa. También recuperamos los índices de los puntos dentro del mapa utilizando `st_intersects()`, configurando `sparse = FALSE`."
   ]
  },
  {
   "cell_type": "code",
   "execution_count": null,
   "id": "4329cec9",
   "metadata": {},
   "outputs": [],
   "source": [
    "# transform points to a sf object\n",
    "dp <- st_as_sf(as.data.frame(xy), coords = c(\"x\", \"y\"),\n",
    "               crs = st_crs(map))\n",
    "\n",
    "# indices points within the map\n",
    "indicespointswithin <- which(st_intersects(dp, map,\n",
    "                                           sparse = FALSE))\n",
    "\n",
    "# points within the map\n",
    "dp <- st_filter(dp, map)"
   ]
  },
  {
   "cell_type": "code",
   "execution_count": null,
   "id": "92bf431f",
   "metadata": {},
   "outputs": [],
   "source": [
    "ggplot() + geom_sf(data = map) +\n",
    "  geom_sf(data = dp) + coord_sf(datum = projUTM)"
   ]
  },
  {
   "cell_type": "code",
   "execution_count": null,
   "id": "aa791e13",
   "metadata": {},
   "outputs": [],
   "source": [
    "coop <- st_coordinates(dp)"
   ]
  },
  {
   "cell_type": "markdown",
   "id": "436acd43",
   "metadata": {},
   "source": [
    "Utilizamos un LGCP para modelar el patrón de puntos de las especies de plantas. Así, asumimos que el proceso que origina las ubicaciones de las especies de plantas es un proceso de Poisson con una intensidad variable expresada como\n",
    "\n",
    "$log(Λ(s)) = β₀ + Z(s),$\n",
    "\n",
    "donde β₀ es el intercepto y Z(⋅) es un proceso espacial gaussiano de media cero con función de covarianza Matérn.\n",
    "\n",
    "Para ajustar el modelo utilizando INLA y SPDE, primero construimos una malla. En el análisis de patrones de puntos, generalmente no empleamos las ubicaciones como vértices de la malla. Construimos una malla que cubre la región de estudio utilizando la función `inla.mesh.2d()`, estableciendo `loc.domain` igual a una matriz con las ubicaciones de los puntos en el límite de la región. Los otros argumentos son los siguientes: `max.edge` denota las longitudes máximas permitidas de los bordes de los triángulos en la región interior y la extensión. `offset` especifica el tamaño de las extensiones interior y exterior alrededor de las ubicaciones de los datos. `cutoff` es la distancia mínima permitida entre puntos que utilizamos para evitar construir muchos triángulos pequeños alrededor de ubicaciones agrupadas."
   ]
  },
  {
   "cell_type": "code",
   "execution_count": null,
   "id": "a43053cd",
   "metadata": {},
   "outputs": [],
   "source": [
    "\n",
    "summary(dist(coo)) # summary of distances between event locations"
   ]
  },
  {
   "cell_type": "code",
   "execution_count": null,
   "id": "8fb3612e",
   "metadata": {},
   "outputs": [],
   "source": [
    "loc.d <- cbind(st_coordinates(map)[, 1], st_coordinates(map)[, 2])\n",
    "\n",
    "mesh <- inla.mesh.2d(loc.domain = loc.d, max.edge = c(50, 100), offset = c(50, 100), cutoff = 1)"
   ]
  },
  {
   "cell_type": "code",
   "execution_count": null,
   "id": "5091ca47",
   "metadata": {},
   "outputs": [],
   "source": [
    "plot(mesh)\n",
    "points(coo, col = \"red\")\n",
    "axis(1)\n",
    "axis(2)"
   ]
  },
  {
   "cell_type": "markdown",
   "id": "59108907",
   "metadata": {},
   "source": [
    "También creamos las variables `nv` con el número de vértices de la malla y la variable `n` con el número de eventos del patrón de puntos. Más adelante, utilizaremos estas variables para construir las pilas de datos."
   ]
  },
  {
   "cell_type": "code",
   "execution_count": null,
   "id": "ded76fdf",
   "metadata": {},
   "outputs": [],
   "source": [
    "(nv <- mesh$n)"
   ]
  },
  {
   "cell_type": "code",
   "execution_count": null,
   "id": "79e2a583",
   "metadata": {},
   "outputs": [],
   "source": [
    "(n <- nrow(coo))"
   ]
  },
  {
   "cell_type": "code",
   "execution_count": null,
   "id": "4b6a11c9",
   "metadata": {},
   "outputs": [],
   "source": [
    "spde <- inla.spde2.matern(mesh = mesh, alpha = 2, constr = TRUE)"
   ]
  },
  {
   "cell_type": "markdown",
   "id": "e96597ff",
   "metadata": {},
   "source": [
    "Utilizamos la función `inla.spde2.matern()` para construir el modelo SPDE en la malla."
   ]
  },
  {
   "cell_type": "code",
   "execution_count": null,
   "id": "9ca3a148",
   "metadata": {},
   "outputs": [],
   "source": [
    "book.mesh.dual <- function(mesh) {\n",
    "    if (mesh$manifold=='R2') {\n",
    "        ce <- t(sapply(1:nrow(mesh$graph$tv), function(i)\n",
    "            colMeans(mesh$loc[mesh$graph$tv[i, ], 1:2])))\n",
    "        library(parallel)\n",
    "        pls <- mclapply(1:mesh$n, function(i) {\n",
    "            p <- unique(Reduce('rbind', lapply(1:3, function(k) {\n",
    "            j <- which(mesh$graph$tv[,k]==i)\n",
    "            if (length(j)>0) \n",
    "            return(rbind(ce[j, , drop=FALSE],\n",
    "            cbind(mesh$loc[mesh$graph$tv[j, k], 1] +\n",
    "            mesh$loc[mesh$graph$tv[j, c(2:3,1)[k]], 1], \n",
    "            mesh$loc[mesh$graph$tv[j, k], 2] +\n",
    "            mesh$loc[mesh$graph$tv[j, c(2:3,1)[k]], 2])/2))\n",
    "            else return(ce[j, , drop=FALSE])\n",
    "            })))\n",
    "            j1 <- which(mesh$segm$bnd$idx[,1]==i)\n",
    "            j2 <- which(mesh$segm$bnd$idx[,2]==i)\n",
    "            if ((length(j1)>0) | (length(j2)>0)) {\n",
    "            p <- unique(rbind(mesh$loc[i, 1:2], p,\n",
    "            mesh$loc[mesh$segm$bnd$idx[j1, 1], 1:2]/2 +\n",
    "            mesh$loc[mesh$segm$bnd$idx[j1, 2], 1:2]/2, \n",
    "            mesh$loc[mesh$segm$bnd$idx[j2, 1], 1:2]/2 +\n",
    "            mesh$loc[mesh$segm$bnd$idx[j2, 2], 1:2]/2))\n",
    "            yy <- p[,2]-mean(p[,2])/2-mesh$loc[i, 2]/2\n",
    "            xx <- p[,1]-mean(p[,1])/2-mesh$loc[i, 1]/2\n",
    "            }\n",
    "            else {\n",
    "            yy <- p[,2]-mesh$loc[i, 2]\n",
    "            xx <- p[,1]-mesh$loc[i, 1]\n",
    "            }\n",
    "            Polygon(p[order(atan2(yy,xx)), ])\n",
    "        })\n",
    "        return(SpatialPolygons(lapply(1:mesh$n, function(i)\n",
    "            Polygons(list(pls[[i]]), i))))\n",
    "    }\n",
    "    else stop(\"It only works for R2!\")\n",
    "}"
   ]
  },
  {
   "cell_type": "markdown",
   "id": "54b07cec",
   "metadata": {},
   "source": [
    "Aquí, creamos los vectores con el número observado y esperado de eventos. Primero, creamos la malla dual que consiste en un conjunto de polígonos alrededor de cada vértice de la malla original. Podemos crear la malla dual utilizando la función `book.mesh.dual()` que se proporciona en Krainski et al. (2019)."
   ]
  },
  {
   "cell_type": "code",
   "execution_count": null,
   "id": "e6a02a40",
   "metadata": {},
   "outputs": [],
   "source": [
    "dmesh <- book.mesh.dual(mesh)\n",
    "plot(dmesh)\n",
    "axis(1)\n",
    "axis(2)"
   ]
  },
  {
   "cell_type": "markdown",
   "id": "79d029ad",
   "metadata": {},
   "source": [
    "Para ajustar el LGCP, los vértices de la malla se consideran como puntos de integración. Los valores esperados correspondientes a los vértices de la malla son proporcionales a las áreas alrededor de los vértices de la malla, es decir, las áreas de los polígonos de la malla dual. Calculamos un vector de pesos llamado `w` con las áreas de la intersección entre cada polígono de la malla dual y la región de estudio utilizando el siguiente código."
   ]
  },
  {
   "cell_type": "code",
   "execution_count": null,
   "id": "cc24e368",
   "metadata": {},
   "outputs": [],
   "source": [
    "# Domain polygon is converted into a SpatialPolygons\n",
    "domain.polys <- Polygons(list(Polygon(loc.d)), '0')\n",
    "domainSP <- SpatialPolygons(list(domain.polys))\n",
    "\n",
    "# Because the mesh is larger than the study area, we need to\n",
    "# compute the intersection between each polygon\n",
    "# in the dual mesh and the study area\n",
    "\n",
    "w <- sapply(1:length(dmesh), function(i) {\n",
    "  if (gIntersects(dmesh[i, ], domainSP))\n",
    "    return(gArea(gIntersection(dmesh[i, ], domainSP)))\n",
    "  else return(0)\n",
    "})"
   ]
  },
  {
   "cell_type": "code",
   "execution_count": null,
   "id": "cd881221",
   "metadata": {},
   "outputs": [],
   "source": [
    "sum(w) # sum weights"
   ]
  },
  {
   "cell_type": "code",
   "execution_count": null,
   "id": "80821ea7",
   "metadata": {},
   "outputs": [],
   "source": [
    "st_area(map) # area of the study region"
   ]
  },
  {
   "cell_type": "code",
   "execution_count": null,
   "id": "3f8a7dc7",
   "metadata": {},
   "outputs": [],
   "source": [
    "plot(mesh)\n",
    "points(mesh$loc[which(w > 0), 1:2], col = \"black\", pch = 20)\n",
    "points(mesh$loc[which(w == 0), 1:2], col = \"red\", pch = 20)"
   ]
  },
  {
   "cell_type": "markdown",
   "id": "0a826008",
   "metadata": {},
   "source": [
    "Luego, creamos vectores de los conjuntos de datos aumentados con los valores observados y esperados. Los valores observados se especificarán en la fórmula del modelo como respuesta. Los valores esperados se especificarán en la fórmula del modelo como el componente `E` de la media para la verosimilitud de Poisson definida como\n",
    "\n",
    "$E_i = \\exp(\\eta_i)$\n",
    "\n",
    "donde $\\eta_i$ es el predictor lineal.\n",
    "\n",
    "El vector `y.pp` contiene la variable de respuesta. Los primeros `nv` elementos son ceros correspondientes a los vértices de la malla. Los últimos `n` elementos son unos correspondientes a los eventos observados.\n",
    "\n",
    "El vector `e.pp` contiene los valores esperados. Los primeros `nv` elementos son los pesos `w` que representan la intersección entre las áreas alrededor de cada uno de los vértices de la malla y la región de estudio. Los siguientes `n` elementos son ceros correspondientes a los eventos puntuales."
   ]
  },
  {
   "cell_type": "code",
   "execution_count": null,
   "id": "b1a4a1ec",
   "metadata": {},
   "outputs": [],
   "source": [
    "y.pp <- rep(0:1, c(nv, n))\n",
    "e.pp <- c(w, rep(0, n))"
   ]
  },
  {
   "cell_type": "code",
   "execution_count": null,
   "id": "18e17628",
   "metadata": {},
   "outputs": [],
   "source": [
    "head(cbind(y.pp, e.pp))"
   ]
  },
  {
   "cell_type": "code",
   "execution_count": null,
   "id": "05be7278",
   "metadata": {},
   "outputs": [],
   "source": [
    "tail(cbind(y.pp, e.pp))"
   ]
  },
  {
   "cell_type": "markdown",
   "id": "189512d5",
   "metadata": {},
   "source": [
    "Construimos la matriz de proyección `A.pp` para proyectar el campo aleatorio Gaussiano desde las observaciones a los vértices de la triangulación. Esta matriz se construye utilizando la matriz de proyección para los vértices de la malla, que es una matriz diagonal (`A.int`), y la matriz de proyección para las ubicaciones de eventos (`A.y`)."
   ]
  },
  {
   "cell_type": "code",
   "execution_count": null,
   "id": "e073be68",
   "metadata": {},
   "outputs": [],
   "source": [
    "# Projection matrix for the integration points (mesh vertices)\n",
    "A.int <- Diagonal(nv, rep(1, nv))\n",
    "# Projection matrix for observed points (event locations)\n",
    "A.y <- inla.spde.make.A(mesh = mesh, loc = coo)\n",
    "# Projection matrix for mesh vertices and event locations\n",
    "A.pp <- rbind(A.int, A.y)"
   ]
  },
  {
   "cell_type": "markdown",
   "id": "1510c0c5",
   "metadata": {},
   "source": [
    "También creamos la matriz de proyección `Ap.pp` para las ubicaciones de predicción."
   ]
  },
  {
   "cell_type": "code",
   "execution_count": null,
   "id": "de886a6e",
   "metadata": {},
   "outputs": [],
   "source": [
    "Ap.pp <- inla.spde.make.A(mesh = mesh, loc = coop)"
   ]
  },
  {
   "cell_type": "markdown",
   "id": "a592a4f0",
   "metadata": {},
   "source": [
    "Ahora usamos la función `inla.stack()` para construir pilas para estimación y predicción que organizan los datos, efectos y matrices de proyección. En los argumentos de `inla.stack()`, `data` es una lista con los valores observados (`y`) y esperados (`e`). El argumento `A` contiene las matrices de proyección, y el argumento `effects` es una lista con los efectos fijos y aleatorios. Luego, las pilas de estimación y predicción se combinan en una pila completa."
   ]
  },
  {
   "cell_type": "code",
   "execution_count": null,
   "id": "5d3922bf",
   "metadata": {},
   "outputs": [],
   "source": [
    "# stack for estimation\n",
    "stk.e.pp <- inla.stack(tag = \"est.pp\",\n",
    "data = list(y = y.pp, e = e.pp), \n",
    "A = list(1, A.pp),\n",
    "effects = list(list(b0 = rep(1, nv + n)), list(s = 1:nv)))\n",
    "\n",
    "# stack for prediction stk.p\n",
    "stk.p.pp <- inla.stack(tag = \"pred.pp\",\n",
    "data = list(y = rep(NA, nrow(coop)), e = rep(0, nrow(coop))),\n",
    "A = list(1, Ap.pp),\n",
    "effects = list(data.frame(b0 = rep(1, nrow(coop))),\n",
    "               list(s = 1:nv)))\n",
    "\n",
    "# stk.full has stk.e and stk.p\n",
    "stk.full.pp <- inla.stack(stk.e.pp, stk.p.pp)"
   ]
  },
  {
   "cell_type": "markdown",
   "id": "87b6a042",
   "metadata": {},
   "source": [
    "La fórmula se especifica incluyendo la variable de respuesta en el lado izquierdo y los efectos aleatorios en el lado derecho."
   ]
  },
  {
   "cell_type": "code",
   "execution_count": null,
   "id": "74b2f898",
   "metadata": {},
   "outputs": [],
   "source": [
    "formula <- y ~ 0 + b0 + f(s, model = spde)"
   ]
  },
  {
   "cell_type": "markdown",
   "id": "b9981647",
   "metadata": {},
   "source": [
    "Ajustamos el modelo llamando a `inla()`. En la función, especificamos `link = 1` para calcular los valores ajustados que se encuentran en `res$summary.fitted.values` y `res$marginals.fitted.values` con la misma función de enlace que la familia especificada en el modelo."
   ]
  },
  {
   "cell_type": "code",
   "execution_count": null,
   "id": "bed45a70",
   "metadata": {},
   "outputs": [],
   "source": [
    "res <- inla(formula,  family = 'poisson',\n",
    "data = inla.stack.data(stk.full.pp),\n",
    "control.predictor = list(compute = TRUE, link = 1,\n",
    "                         A = inla.stack.A(stk.full.pp)),\n",
    "E = inla.stack.data(stk.full.pp)$e)"
   ]
  },
  {
   "cell_type": "markdown",
   "id": "a59556fa",
   "metadata": {},
   "source": [
    "Un resumen de los resultados se puede inspeccionar escribiendo `summary(res)`. El marco de datos `res$summary.fitted.values` contiene los valores ajustados. Los índices de las filas correspondientes a las predicciones se pueden obtener con `inla.stack.index()` especificando la etiqueta \"pred.pp\" del stack de predicción."
   ]
  },
  {
   "cell_type": "code",
   "execution_count": null,
   "id": "6355812a",
   "metadata": {},
   "outputs": [],
   "source": [
    "index <- inla.stack.index(stk.full.pp, tag = \"pred.pp\")$data\n",
    "pred_mean <- res$summary.fitted.values[index, \"mean\"]\n",
    "pred_ll <- res$summary.fitted.values[index, \"0.025quant\"]\n",
    "pred_ul <- res$summary.fitted.values[index, \"0.975quant\"]"
   ]
  },
  {
   "cell_type": "markdown",
   "id": "6ec7875b",
   "metadata": {},
   "source": [
    "Luego, añadimos capas a la cuadrícula raster con la media posterior y los percentiles 2.5 y 97.5 en las celdas que están dentro del mapa."
   ]
  },
  {
   "cell_type": "code",
   "execution_count": null,
   "id": "d77a2452",
   "metadata": {},
   "outputs": [],
   "source": [
    "grid$mean <- NA\n",
    "grid$ll <- NA\n",
    "grid$ul <- NA\n",
    "\n",
    "grid$mean[indicespointswithin] <- pred_mean\n",
    "grid$ll[indicespointswithin] <- pred_ll\n",
    "grid$ul[indicespointswithin] <- pred_ul"
   ]
  },
  {
   "cell_type": "markdown",
   "id": "07b41120",
   "metadata": {},
   "source": [
    "Finalmente, creamos mapas de la media posterior y los límites inferior y superior de los intervalos creíbles del 95% de la intensidad del proceso puntual de especies en Bolivia (Figura 23.4). Para ello, utilizamos la función `levelplot()` del paquete `rasterVis`, especificando `names.attr` con el nombre de cada panel y `layout` con el número de columnas y filas."
   ]
  },
  {
   "cell_type": "code",
   "execution_count": null,
   "id": "29f5e3f2",
   "metadata": {},
   "outputs": [],
   "source": [
    "library(rasterVis)\n",
    "levelplot(raster::brick(grid), layout = c(3, 1),\n",
    "names.attr = c(\"Mean\", \"2.5 percentile\", \"97.5 percentile\"))"
   ]
  },
  {
   "cell_type": "markdown",
   "id": "cd2e5ef4",
   "metadata": {},
   "source": [
    "En general, observamos una baja intensidad de especies, con mayor intensidad en la parte centro-occidental de Bolivia. Cabe destacar que hemos modelado los datos de ocurrencia de especies recuperados de GBIF asumiendo que el patrón puntual espacial observado es una realización del proceso subyacente que genera las ubicaciones de las especies. En aplicaciones reales, es importante entender cómo se recolectaron los datos y evaluar posibles sesgos en los datos, como la sobrerepresentación de ciertas áreas, que pueden invalidar los resultados. Además, es importante incorporar el conocimiento de expertos para crear modelos que incluyan covariables relevantes y efectos aleatorios para tener en cuenta diversos tipos de variabilidad, lo que permite una comprensión más completa de la variable en investigación."
   ]
  }
 ],
 "metadata": {
  "jupytext": {
   "cell_metadata_filter": "-all",
   "main_language": "R",
   "notebook_metadata_filter": "-all",
   "text_representation": {
    "extension": ".Rmd",
    "format_name": "rmarkdown"
   }
  },
  "language_info": {
   "codemirror_mode": {
    "name": "ipython",
    "version": 3
   },
   "file_extension": ".py",
   "mimetype": "text/x-python",
   "name": "python",
   "nbconvert_exporter": "python",
   "pygments_lexer": "ipython3",
   "version": "3.11.4"
  }
 },
 "nbformat": 4,
 "nbformat_minor": 5
}