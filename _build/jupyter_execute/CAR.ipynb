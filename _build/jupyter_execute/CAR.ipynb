{
 "cells": [
  {
   "cell_type": "markdown",
   "id": "c1863d48",
   "metadata": {},
   "source": [
    "\n",
    "\n",
    "\n",
    "\n",
    "\n",
    "\n",
    "\n",
    "\n",
    "\n",
    "\n",
    "\n",
    "\n",
    "\n",
    "\n"
   ]
  },
  {
   "cell_type": "markdown",
   "id": "bfd6f94e",
   "metadata": {},
   "source": [
    "## Modelos Multinivel"
   ]
  },
  {
   "cell_type": "code",
   "execution_count": 1,
   "id": "da6cf85e",
   "metadata": {},
   "outputs": [
    {
     "ename": "SyntaxError",
     "evalue": "illegal target for annotation (3895677557.py, line 2)",
     "output_type": "error",
     "traceback": [
      "\u001b[1;36m  Cell \u001b[1;32mIn[1], line 2\u001b[1;36m\u001b[0m\n\u001b[1;33m    x.easting <- 1:10\u001b[0m\n\u001b[1;37m    ^\u001b[0m\n\u001b[1;31mSyntaxError\u001b[0m\u001b[1;31m:\u001b[0m illegal target for annotation\n"
     ]
    }
   ],
   "source": [
    "#### Set up a square lattice region\n",
    "x.easting <- 1:10\n",
    "x.northing <- 1:10\n",
    "Grid <- expand.grid(x.easting, x.northing)\n",
    "K <- nrow(Grid)"
   ]
  },
  {
   "cell_type": "code",
   "execution_count": null,
   "id": "b33578c6",
   "metadata": {},
   "outputs": [],
   "source": [
    "#### set up distance and neighbourhood (W, based on sharing a common border) matrices\n",
    "distance <- as.matrix(dist(Grid))\n",
    "W <-array(0, c(K,K))\n",
    "W[distance==1] <-1 "
   ]
  },
  {
   "cell_type": "code",
   "execution_count": null,
   "id": "2b6000e0",
   "metadata": {},
   "outputs": [],
   "source": [
    "#### Generate the number of individuals per area and which individuals to which areas\n",
    "n <- sample(5:30, K, replace=TRUE)\n",
    "n.total <- sum(n)\n",
    "ind.area.temp <- rep(1:K, n)\n",
    "ind.area <- sample(ind.area.temp, n.total, replace=FALSE)"
   ]
  },
  {
   "cell_type": "code",
   "execution_count": null,
   "id": "3d071c2c",
   "metadata": {},
   "outputs": [],
   "source": [
    "#### Generate the covariates and response data\n",
    "x1 <- rnorm(n.total)\n",
    "x2 <- rnorm(n.total)\n",
    "phi <- mvrnorm(n=1, mu=rep(0,K), Sigma=0.4 * exp(-0.1 * distance))\n",
    "phi.extend <- phi[ind.area]\n",
    "logit <- x1 + x2 + phi.extend\n",
    "prob <- exp(logit) / (1 + exp(logit))\n",
    "trials <- rep(50,n.total)\n",
    "Y <- rbinom(n=n.total, size=trials, prob=prob)"
   ]
  },
  {
   "cell_type": "code",
   "execution_count": null,
   "id": "9de4bf6c",
   "metadata": {},
   "outputs": [],
   "source": [
    "#### Run the model\n",
    "formula <- Y ~ x1 + x2\n",
    "\n",
    "#### Toy example for checking\n",
    "model <- S.CARmultilevel(formula=formula, family=\"binomial\", ind.area=ind.area,\n",
    "                trials=trials, W=W, burnin=10, n.sample=50)\n",
    "\n",
    "model"
   ]
  },
  {
   "cell_type": "code",
   "execution_count": null,
   "id": "a5f57af9",
   "metadata": {},
   "outputs": [],
   "source": [
    "#### Set up a square lattice region\n",
    "x.easting <- 1:10\n",
    "x.northing <- 1:10\n",
    "Grid <- expand.grid(x.easting, x.northing)\n",
    "K <- nrow(Grid)\n",
    "\n",
    "#### set up distance and neighbourhood (W, based on sharing a common border) matrices\n",
    "distance <- as.matrix(dist(Grid))\n",
    "W <-array(0, c(K,K))\n",
    "W[distance==1] <-1 \t\n",
    "\t\n",
    "#### Generate the covariates and response data\n",
    "x1 <- rnorm(K)\n",
    "x2 <- rnorm(K)\n",
    "theta <- rnorm(K, sd=0.05)\n",
    "phi <- mvrnorm(n=1, mu=rep(0,K), Sigma=0.4 * exp(-0.1 * distance))\n",
    "logit <- x1 + x2 + theta + phi\n",
    "prob <- exp(logit) / (1 + exp(logit))\n",
    "trials <- rep(50,K)\n",
    "Y <- rbinom(n=K, size=trials, prob=prob)\n",
    "\n",
    "\n",
    "#### Run the BYM model\n",
    "formula <- Y ~ x1 + x2\n",
    "## Not run: model <- S.CARbym(formula=formula, family=\"binomial\", trials=trials,\n",
    "#W=W, burnin=20000, n.sample=100000)\n",
    "## End(Not run)\n",
    "\n",
    "#### Toy example for checking\n",
    "model <- S.CARbym(formula=formula, family=\"binomial\", trials=trials,\n",
    "W=W, burnin=20, n.sample=50)\n",
    "\n",
    "model"
   ]
  },
  {
   "cell_type": "markdown",
   "id": "53170b06",
   "metadata": {},
   "source": [
    "## Datos areales con INLA (Markov)\n",
    "\n",
    "Para ilustrar cómo se ajustan los modelos espaciales con INLA, se utilizará el conjunto de datos de leucemia de Nueva York. Éste ha sido ampliamente analizado en la literatura (ver, por ejemplo, Waller y Gotway, 2004) y está disponible en el paquete `DClusterm`. El conjunto de datos registra una serie de casos de leucemia en el norte del estado de Nueva York a nivel de distrito censal. Algunas de las variables en el conjunto de datos son:\n",
    "\n",
    "-   **Casos:** Número de casos de leucemia en el período 1978-1982.\n",
    "-   **POP8:** Población en 1980.\n",
    "-   **PCTOWNHOME:** Proporción de personas que son propietarias de su vivienda.\n",
    "-   **PCTAGE65P:** Proporción de personas de 65 años o más.\n",
    "-   **AVGIDIST:** Distancia inversa promedio al sitio de tricloroetileno (TCE) más cercano.\n",
    "\n",
    "Tenga en cuenta que el interés se centra en la exposición al TCE, utilizando AVGIDIST como un indicador de exposición. Las variables PCTOWNHOME y PCTAGE65P actuarán como posibles factores de confusión que deben incluirse en el modelo. Sin embargo, no lo haremos aquí porque queremos probar cómo los efectos espaciales latentes capturan la variación espacial residual.\n",
    "\n",
    "El conjunto de datos se puede cargar de la siguiente manera:"
   ]
  },
  {
   "cell_type": "code",
   "execution_count": null,
   "id": "9895c108",
   "metadata": {},
   "outputs": [],
   "source": [
    "library(spdep)\n",
    "library(DClusterm)\n",
    "data(NY8)"
   ]
  },
  {
   "cell_type": "markdown",
   "id": "cbb57b2d",
   "metadata": {},
   "source": [
    "Dado que el interés se centra en estudiar el riesgo de leucemia en el norte del estado de Nueva York, primero se calcula el número esperado de casos. Esto se hace calculando la tasa de mortalidad general (total de casos dividido por la población total) y multiplicándola por la población:"
   ]
  },
  {
   "cell_type": "code",
   "execution_count": null,
   "id": "b26dc125",
   "metadata": {},
   "outputs": [],
   "source": [
    "rate <- sum(NY8$Cases) / sum(NY8$POP8)\n",
    "NY8$Expected <- NY8$POP8 * rate"
   ]
  },
  {
   "cell_type": "markdown",
   "id": "400c4d7c",
   "metadata": {},
   "source": [
    "Una vez que se obtiene el número esperado de casos, se puede obtener una estimación aproximada del riesgo con la razón de mortalidad estandarizada (SMR), que se calcula como el número de casos observados dividido por el número de casos esperados."
   ]
  },
  {
   "cell_type": "code",
   "execution_count": null,
   "id": "e288254f",
   "metadata": {},
   "outputs": [],
   "source": [
    "NY8$SMR <- NY8$Cases / NY8$Expected"
   ]
  },
  {
   "cell_type": "markdown",
   "id": "a2e8f044",
   "metadata": {},
   "source": [
    "En epidemiología, es importante producir mapas para mostrar la distribución espacial del riesgo relativo. En este ejemplo, nos centraremos en la ciudad de Syracuse para reducir el tiempo de cómputo necesario para producir el mapa. Por lo tanto, creamos un índice con las áreas de la ciudad de Syracuse:"
   ]
  },
  {
   "cell_type": "code",
   "execution_count": null,
   "id": "666e3476",
   "metadata": {},
   "outputs": [],
   "source": [
    "# Subset Syracuse city\n",
    "syracuse <- which(NY8$AREANAME == \"Syracuse city\")"
   ]
  },
  {
   "cell_type": "markdown",
   "id": "88f94031",
   "metadata": {},
   "source": [
    "Un mapa de enfermedades se puede crear simplemente con la función `spplot` (del paquete `sp`):"
   ]
  },
  {
   "cell_type": "code",
   "execution_count": null,
   "id": "4736b5fc",
   "metadata": {},
   "outputs": [],
   "source": [
    "library(viridis)\n",
    "spplot(NY8[syracuse, ], \"SMR\", #at = c(0.6, 0.9801, 1.055, 1.087, 1.125, 13),\n",
    "   col.regions = rev(magma(16))) #gray.colors(16, 0.9, 0.4))"
   ]
  },
  {
   "cell_type": "markdown",
   "id": "82d134da",
   "metadata": {},
   "source": [
    "### Modelos mixtos lineales\n",
    "\n",
    "El primer modelo que consideraremos es un modelo Gausiano sin efectos aleatorios latentes, ya que proporcionará una línea base para comparar con otros modelos. Para ajustar el modelo con INLA, se utiliza la función `inla`:"
   ]
  },
  {
   "cell_type": "code",
   "execution_count": null,
   "id": "d2cf38d2",
   "metadata": {},
   "outputs": [],
   "source": [
    "library(INLA)\n"
   ]
  },
  {
   "cell_type": "code",
   "execution_count": null,
   "id": "fef73c07",
   "metadata": {},
   "outputs": [],
   "source": [
    "m1 <- inla(Cases ~ 1 + AVGIDIST,\n",
    "   data = as.data.frame(NY8),\n",
    "   family = \"Gaussian\",verbose=T,\n",
    "   E = NY8$Expected, control.predictor = list(compute = TRUE),\n",
    "   control.compute = list(dic = TRUE, waic = TRUE))\n",
    "\n",
    "summary(m1)\n",
    "NY8$FIXED.EFF <- m1$summary.fitted[, \"mean\"]"
   ]
  },
  {
   "cell_type": "markdown",
   "id": "66238287",
   "metadata": {},
   "source": [
    "### Regresión con efectos aleatorios\n",
    "\n",
    "Se pueden agregar efectos aleatorios latentes al modelo para tener en cuenta la sobredispersión incluyendo efectos aleatorios Gaussianos i.i.d. en el predictor lineal. Para ajustar el modelo con INLA, primero se crea un índice para identificar los efectos aleatorios (ID). Los efectos aleatorios latentes se especifican con la función `f` en INLA:"
   ]
  },
  {
   "cell_type": "code",
   "execution_count": null,
   "id": "dbabfee9",
   "metadata": {},
   "outputs": [],
   "source": [
    "NY8$ID <- 1:nrow(NY8)\n",
    "m2 <- inla(Cases ~ 1 + AVGIDIST + f(ID, model = \"iid\"),\n",
    "  data = as.data.frame(NY8), family = \"Gaussian\", \n",
    "  E = NY8$Expected,\n",
    "  control.predictor = list(compute = TRUE),\n",
    "  control.compute = list(dic = TRUE, waic = TRUE))\n",
    "\n",
    "summary(m2)\n",
    "NY8$IID.EFF <- m2$summary.fitted[, \"mean\"]"
   ]
  },
  {
   "cell_type": "code",
   "execution_count": null,
   "id": "25aa821e",
   "metadata": {},
   "outputs": [],
   "source": [
    "spplot(NY8[syracuse, ], c(\"SMR\", \"FIXED.EFF\", \"IID.EFF\"),\n",
    "  col.regions = rev(magma(16)))"
   ]
  },
  {
   "cell_type": "markdown",
   "id": "8c6722aa",
   "metadata": {},
   "source": [
    "### Modelos espaciales para datos tipo poligonos\n",
    "\n",
    "Los datos discretos (lattice o poligonos regulares o irregulares) involucran datos medidos en diferentes áreas, por ejemplo, vecindarios, ciudades, provincias, estados, etc. La dependencia espacial aparece porque las áreas vecinas mostrarán valores similares de la variable de interés.\n",
    "\n",
    "Tenemos observaciones $y = {y_i}_{i=1}^n$ donde n es el número de áreas. A y se le asigna una distribución multivariante que tiene en cuenta la dependencia espacial. Una forma común de describir la proximidad espacial en datos discretos es mediante una matriz de adyacencia W. El elemento $W_{i,j}$ es distinto de cero si las áreas i y j son vecinas. Por lo general, dos áreas son vecinas si comparten un límite común.\n",
    "\n",
    "La matriz de adyacencia se puede calcular utilizando la función `poly2nb` en el paquete `spdep`. Esta función considerará dos áreas como vecinas si sus bordes se tocan al menos en un punto (es decir, adyacencia de \"Queen\"):"
   ]
  },
  {
   "cell_type": "code",
   "execution_count": null,
   "id": "06b3e71c",
   "metadata": {},
   "outputs": [],
   "source": [
    "NY8.nb <- poly2nb(NY8)"
   ]
  },
  {
   "cell_type": "markdown",
   "id": "dae22bbb",
   "metadata": {},
   "source": [
    "Esto devolverá un objeto `nb` con la definición de la estructura del vecindario."
   ]
  },
  {
   "cell_type": "code",
   "execution_count": null,
   "id": "024aec50",
   "metadata": {},
   "outputs": [],
   "source": [
    "NY8.nb"
   ]
  },
  {
   "cell_type": "markdown",
   "id": "a430143d",
   "metadata": {},
   "source": [
    "Además, estos objetos creados con la función `nb` se pueden visualizar gráficamente cuando se conoce información adicional sobre las áreas, como la ubicación de su centro."
   ]
  },
  {
   "cell_type": "code",
   "execution_count": null,
   "id": "debc17b3",
   "metadata": {},
   "outputs": [],
   "source": [
    "plot(NY8) \n",
    "plot(NY8.nb, coordinates(NY8), add = TRUE, pch = \".\", col = \"gray\")"
   ]
  },
  {
   "cell_type": "markdown",
   "id": "582ca5b4",
   "metadata": {},
   "source": [
    "### Modelos de Regresión\n",
    "\n",
    "A menudo, además de $y_i$, tenemos una serie de covariables $X_i$. Por lo tanto, es posible que deseemos regresionar $y_i$ en $X_i$. Además de las covariables, es posible que queramos tener en cuenta la estructura espacial de los datos. Se pueden utilizar diferentes tipos de modelos de regresión para modelar datos de celosía:\n",
    "\n",
    "-   Modelos Lineales Generalizados (con efectos aleatorios espaciales)\n",
    "-   Modelos de econometría espacial\n",
    "-   Modelos Lineales Mixtos\n",
    "\n",
    "Un enfoque común (para datos Gaussianos) es usar una regresión lineal con efectos aleatorios:\n",
    "\n",
    "$Y = Xβ + Zu + ε$\n",
    "\n",
    "El vector de efectos aleatorios $u$ se modela como una distribución Normal multivariante:\n",
    "\n",
    "$u ∼ N(0, σ_u^2 Σ)$\n",
    "\n",
    "$Σ$ se define de manera que induzca una mayor correlación con las áreas adyacentes. Z es una matriz de diseño para los efectos aleatorios y $ε_i ∼ N(0, σ^2)$, i = 1, ..., n es un término de error.\n",
    "\n",
    "Los Modelos Lineales Mixtos Generalizados se pueden definir de manera similar utilizando una probabilidad diferente y vinculando el parámetro apropiado al predictor lineal.\n",
    "\n",
    "Hay muchas formas diferentes de incluir la dependencia espacial en $Σ$:\n",
    "\n",
    "-   Autoregresivo simultáneo (SAR):\n",
    "\n",
    "$Σ^{-1} = [(I - ρW)' (I - ρW)]$\n",
    "\n",
    "-   Autoregresivo condicional (CAR):\n",
    "\n",
    "$Σ^{-1} = (I - ρW)$\n",
    "\n",
    "-   CAR intrínseco (ICAR):\n",
    "\n",
    "$Σ^{-1} = diag(n_i) - W$\n",
    "\n",
    "$n_i$ es el número de vecinos del área i. $Σ_{i,j}$ depende de una función de d(i,j). Por ejemplo:\n",
    "\n",
    "$Σ_{i,j} = exp{-d(i,j) / φ}$\n",
    "\n",
    "-   \"Mezcla\" de matrices (modelo de Leroux et al.):\n",
    "\n",
    "$Σ = [(1 - λ)I_n + λM]^{-1}; λ ∈ (0,1)$\n",
    "\n",
    "M es la precisión de la especificación ICAR\n",
    "\n",
    "Las especificaciones CAR e ICAR se han propuesto dentro del campo de la Estadística, mientras que la especificación SAR se acuñó dentro de la Econometría Espacial. Independientemente de su origen, todas las especificaciones aquí presentadas pueden considerarse efectos latentes Gaussianos con una matriz de precisión particular.\n",
    "\n",
    "### Modelo ICAR\n",
    "\n",
    "El primer ejemplo se basará en la especificación ICAR. Tenga en cuenta que el efecto latente espacial se define usando la función f. Esto requerirá un índice para identificar los efectos aleatorios en cada área, el tipo de modelo y la matriz de adyacencia. Para ello, se utilizará una matriz dispersa."
   ]
  },
  {
   "cell_type": "code",
   "execution_count": null,
   "id": "b82f74b7",
   "metadata": {},
   "outputs": [],
   "source": [
    "# Create sparse adjacency matrix\n",
    "NY8.mat <- as(nb2mat(NY8.nb, style = \"B\"), \"Matrix\")\n",
    "# Fit model\n",
    "m.icar <- inla(Cases ~ 1 +  AVGIDIST + \n",
    "    f(ID, model = \"besag\", graph = NY8.mat),\n",
    "  data = as.data.frame(NY8), E = NY8$Expected, family =\"Gaussian\",\n",
    "  control.predictor = list(compute = TRUE),\n",
    "  control.compute = list(dic = TRUE, waic = TRUE))\n",
    "\n",
    "summary(m.icar)\n",
    "NY8$ICAR <- m.icar$summary.fitted.values[, \"mean\"]\n"
   ]
  },
  {
   "cell_type": "markdown",
   "id": "02214a2a",
   "metadata": {},
   "source": [
    "### Modelo BYM (Besag, York y Mollié)\n",
    "\n",
    "El modelo de Besag, York y Mollié incluye dos efectos aleatorios latentes: un efecto latente ICAR y un efecto latente Gaussiano i.i.d. No es necesario definir estos dos efectos latentes si se establece el argumento `model` como \"bym\" cuando se define el efecto aleatorio latente con la función `f`."
   ]
  },
  {
   "cell_type": "code",
   "execution_count": null,
   "id": "2e9ddbbc",
   "metadata": {},
   "outputs": [],
   "source": [
    "m.bym = inla(Cases ~ 1 +  AVGIDIST + \n",
    "    f(ID, model = \"bym\", graph = NY8.mat),\n",
    "  data = as.data.frame(NY8), E = NY8$Expected, family =\"Gaussian\",\n",
    "  control.predictor = list(compute = TRUE),\n",
    "  control.compute = list(dic = TRUE, waic = TRUE))\n",
    "\n",
    "summary(m.bym)\n",
    "NY8$BYM <- m.bym$summary.fitted.values[, \"mean\"]"
   ]
  },
  {
   "cell_type": "markdown",
   "id": "f37375bd",
   "metadata": {},
   "source": [
    "### Modelo de Leroux et al.\n",
    "\n",
    "Este modelo se define utilizando una \"mezcla\" de matrices (modelo de Leroux et al.) para definir la matriz de precisión del efecto latente. Este modelo se implementa utilizando el efecto latente `generic1`, que utiliza la siguiente matriz de precisión:\n",
    "\n",
    "$Σ^{-1} = 1 / τ (I_n - ρ * λ_max * C); ρ ∈ [0,1)$\n",
    "\n",
    "En esta ecuación, C es una matriz y λ_max su autovalor máximo.\n",
    "\n",
    "Para definir el modelo correcto, debemos tomar la matriz C de la siguiente manera:\n",
    "\n",
    "$C = I_n - M; M = diag(n_i) - W$\n",
    "\n",
    "Entonces, λ_max = 1 y:\n",
    "\n",
    "$Σ^{-1} = 1 / τ (I_n - ρ * λ_max * C) = 1 / τ (I_n - ρ * (I_n - M)) = 1 / τ ((1 - ρ)I_n + ρM)$\n",
    "\n",
    "Para ajustar el modelo, el primer paso es crear la matriz M."
   ]
  },
  {
   "cell_type": "code",
   "execution_count": null,
   "id": "686f5325",
   "metadata": {},
   "outputs": [],
   "source": [
    "ICARmatrix <- Diagonal(nrow(NY8.mat), apply(NY8.mat, 1, sum)) - NY8.mat\n",
    "Cmatrix <- Diagonal(nrow(NY8), 1) -  ICARmatrix"
   ]
  },
  {
   "cell_type": "markdown",
   "id": "1b91a638",
   "metadata": {},
   "source": [
    "El modelo se ajusta como de costumbre con la función `inla`. Tenga en cuenta que la matriz C se pasa a la función `f` usando el argumento `Cmatrix`:"
   ]
  },
  {
   "cell_type": "code",
   "execution_count": null,
   "id": "4dc72e68",
   "metadata": {},
   "outputs": [],
   "source": [
    "m.ler = inla(Cases ~ 1 +  AVGIDIST +\n",
    "    f(ID, model = \"generic1\", Cmatrix = Cmatrix),\n",
    "  data = as.data.frame(NY8), E = NY8$Expected, family =\"Gaussian\",\n",
    "  control.predictor = list(compute = TRUE),\n",
    "  control.compute = list(dic = TRUE, waic = TRUE))\n",
    "summary(m.ler)\n",
    "NY8$LEROUX <- m.ler$summary.fitted.values[, \"mean\"]\n"
   ]
  },
  {
   "cell_type": "markdown",
   "id": "4b21f611",
   "metadata": {},
   "source": [
    "### Spatial Lag Model (SLM)\n",
    "\n",
    "Este modelo incluye covariables y un proceso autoregresivo en la respuesta. R-INLA incluye un efecto latente experimental llamado `slm` para ajustar el siguiente modelo:\n",
    "\n",
    "$x = (In - ρW)^{-1} (Xβ + e)$\n",
    "\n",
    "Los elementos del modelo son:\n",
    "\n",
    "-   W: Matriz de adyacencia estandarizada por filas.\n",
    "-   ρ: Parámetro de autocorrelación espacial.\n",
    "-   X: Matriz de covariables, con coeficientes β.\n",
    "-   e: Errores i.i.d. Gaussianos con varianza σ\\^2.\n",
    "\n",
    "El efecto latente `slm` es experimental y se puede combinar con otros efectos en el predictor lineal. Para definir un modelo con el efecto latente `slm` se necesitan los siguientes elementos:\n",
    "\n",
    "-   **X:** Matriz de covariables. Esta matriz contiene los valores de las variables explicativas para cada unidad muestral.\n",
    "-   **W:** Matriz de adyacencia estandarizada por filas. Esta matriz describe la estructura espacial del modelo. Un elemento `W_ij` distinto de cero indica que las unidades muestrales `i` y `j` son vecinas, y su valor refleja la fuerza de la vecindad. La estandarización por filas garantiza que la suma de cada fila sea igual a 1.\n",
    "-   **Q:** Matriz de precisión de los coeficientes β. Esta matriz define la varianza previa de los coeficientes estimados para las variables explicativas en el modelo.\n",
    "-   **Rango de ρ:** Rango del parámetro de autocorrelación espacial `ρ`. Este parámetro controla la fuerza de la dependencia espacial en el modelo. A menudo, el rango de `ρ` se define en base a los autovalores de la matriz de adyacencia `W`."
   ]
  },
  {
   "cell_type": "code",
   "execution_count": null,
   "id": "0a5f64a4",
   "metadata": {},
   "outputs": [],
   "source": [
    "#X\n",
    "mmatrix <- model.matrix(Cases ~ 1 + AVGIDIST, NY8)\n",
    "\n",
    "#W\n",
    "W <- as(nb2mat(NY8.nb, style = \"W\"), \"Matrix\")\n",
    "\n",
    "#Q\n",
    "Q.beta = Diagonal(n = ncol(mmatrix), x = 0.001)\n",
    "\n",
    "#Range of rho\n",
    "rho.min<- -1\n",
    "rho.max<- 1"
   ]
  },
  {
   "cell_type": "markdown",
   "id": "3e32da77",
   "metadata": {},
   "source": [
    "Los argumentos del efecto latente `slm` se pasan a través del argumento `args.sm`. En este caso, hemos creado una lista con el mismo nombre para mantener juntos todos los valores requeridos:"
   ]
  },
  {
   "cell_type": "code",
   "execution_count": null,
   "id": "0cdbd3c4",
   "metadata": {},
   "outputs": [],
   "source": [
    "#Arguments for 'slm'\n",
    "args.slm = list(\n",
    "   rho.min = rho.min ,\n",
    "   rho.max = rho.max,\n",
    "   W = W,\n",
    "   X = mmatrix,\n",
    "   Q.beta = Q.beta\n",
    ")"
   ]
  },
  {
   "cell_type": "markdown",
   "id": "0a530cd2",
   "metadata": {},
   "source": [
    "Además, se deben establecer las funciones a priori para el parámetro de precisión τ y el parámetro de autocorrelación espacial ρ:"
   ]
  },
  {
   "cell_type": "code",
   "execution_count": null,
   "id": "787dbe2a",
   "metadata": {},
   "outputs": [],
   "source": [
    "#Prior on rho\n",
    "hyper.slm = list(\n",
    "   prec = list(\n",
    "      prior = \"loggamma\", param = c(0.01, 0.01)),\n",
    "      rho = list(initial=0, prior = \"logitbeta\", param = c(1,1))\n",
    ")"
   ]
  },
  {
   "cell_type": "markdown",
   "id": "2625fbc6",
   "metadata": {},
   "source": [
    "La definición de la función a priori utiliza una lista con nombre y diferentes argumentos. El argumento `prior` define la distribución a priori que se usará, y el argumento `param` define los parámetros de dicha distribución.\n",
    "\n",
    "En este caso:\n",
    "\n",
    "-   Se asigna una función a priori gamma a la precisión, con parámetros 0.01 y 0.01.\n",
    "-   Se asigna una función a priori beta al parámetro de autocorrelación espacial, con parámetros 1 y 1. Esto es equivalente a una distribución uniforme en el intervalo (1, 1)."
   ]
  },
  {
   "cell_type": "code",
   "execution_count": null,
   "id": "4f49793d",
   "metadata": {},
   "outputs": [],
   "source": [
    "#SLM model\n",
    "m.slm <- inla( Cases ~ -1 +\n",
    "     f(ID, model = \"slm\", args.slm = args.slm, hyper = hyper.slm),\n",
    "   data = as.data.frame(NY8), family = \"Gaussian\",\n",
    "   E = NY8$Expected,\n",
    "   control.predictor = list(compute = TRUE),\n",
    "   control.compute = list(dic = TRUE, waic = TRUE)\n",
    ")\n",
    "\n",
    "summary(m.slm)\n",
    "NY8$SLM <- m.slm$summary.fitted.values[, \"mean\"]\n"
   ]
  },
  {
   "cell_type": "markdown",
   "id": "18ee9c87",
   "metadata": {},
   "source": [
    "Los valores estimados de los coeficientes aparecen como parte de los efectos aleatorios."
   ]
  },
  {
   "cell_type": "code",
   "execution_count": null,
   "id": "d001e8d7",
   "metadata": {},
   "outputs": [],
   "source": [
    "round(m.slm$summary.random$ID[47:48,], 4)\n"
   ]
  },
  {
   "cell_type": "markdown",
   "id": "859a02d9",
   "metadata": {},
   "source": [
    "La autocorrelación espacial se informa en la escala interna (es decir, entre 0 y 1) y necesita ser reescalada."
   ]
  },
  {
   "cell_type": "code",
   "execution_count": null,
   "id": "22f46b08",
   "metadata": {},
   "outputs": [],
   "source": [
    "marg.rho.internal <- m.slm$marginals.hyperpar[[\"Rho for ID\"]]\n",
    "marg.rho <- inla.tmarginal( function(x) {\n",
    "  rho.min + x * (rho.max - rho.min)\n",
    "}, marg.rho.internal)\n",
    "\n",
    "inla.zmarginal(marg.rho, FALSE)"
   ]
  },
  {
   "cell_type": "code",
   "execution_count": null,
   "id": "ecbe3e0d",
   "metadata": {},
   "outputs": [],
   "source": [
    "plot(marg.rho, type = \"l\", main = \"Spatial autocorrelation\")\n"
   ]
  },
  {
   "cell_type": "markdown",
   "id": "429166a7",
   "metadata": {},
   "source": [
    "### Resultados"
   ]
  },
  {
   "cell_type": "code",
   "execution_count": null,
   "id": "c3ee85ce",
   "metadata": {},
   "outputs": [],
   "source": [
    "spplot(NY8[syracuse, ], \n",
    "  c(\"FIXED.EFF\", \"IID.EFF\", \"ICAR\", \"BYM\", \"LEROUX\", \"SLM\"),\n",
    "  col.regions = rev(magma(16))\n",
    ")"
   ]
  },
  {
   "cell_type": "markdown",
   "id": "abd42305",
   "metadata": {},
   "source": [
    "## Modelos espaciales con spaMM\n",
    "\n",
    "### Modelo no espacial\n",
    "\n",
    "A continuación se presenta un ejemplo donde incluso si hay un patrón espacial en los datos, esto no significa que deban usarse modelos de regresión espacial. En algunos casos, los patrones espaciales en la variable respuesta son generados por patrones espaciales presentes en las covariables, como el gradiente de temperatura, la elevación, etc. Una vez que tomamos en cuenta el efecto de estas covariables, los patrones espaciales en la variable respuesta desaparecen."
   ]
  },
  {
   "cell_type": "code",
   "execution_count": null,
   "id": "c424b86a",
   "metadata": {},
   "outputs": [],
   "source": [
    "# load libraries\n",
    "library(tidyverse)\n",
    "library(gridExtra)\n",
    "library(NLMR)\n",
    "library(DHARMa)\n",
    "\n",
    "# simulate a random temperature gradient\n",
    "temp <- nlm_distancegradient(ncol = 100, nrow = 100, origin = c(1,10,1,10), rescale = TRUE)\n",
    "\n",
    "# extract the temperature values at 100 random points\n",
    "dat <- data.frame(x = runif(100,0,100), y = runif(100,0,100))\n",
    "dat$temperature <- raster::extract(temp, dat)\n",
    "\n",
    "# simulate tree height\n",
    "dat$height <- 20 + 35 * dat$temperature + rnorm(100)\n",
    "\n",
    "# plot spatial pattern in tree height\n",
    "ggplot(dat, aes(x = x, y = y, size = height)) +\n",
    "  geom_point() +\n",
    "  scale_size_continuous(range = c(1,10))"
   ]
  },
  {
   "cell_type": "code",
   "execution_count": null,
   "id": "4f6594d0",
   "metadata": {},
   "outputs": [],
   "source": [
    "# fit a non-spatial model\n",
    "m_non <- lm(height ~ temperature, dat)"
   ]
  },
  {
   "cell_type": "code",
   "execution_count": null,
   "id": "8bc06f53",
   "metadata": {},
   "outputs": [],
   "source": [
    "# formal test\n",
    "sims <- simulateResiduals(m_non)\n",
    "testSpatialAutocorrelation(sims, x = dat$x, y = dat$y, plot = FALSE)"
   ]
  },
  {
   "cell_type": "markdown",
   "id": "36bd81b4",
   "metadata": {},
   "source": [
    "### Modelo espacial"
   ]
  },
  {
   "cell_type": "code",
   "execution_count": null,
   "id": "07403e0b",
   "metadata": {},
   "outputs": [],
   "source": [
    "library(geoR)\n",
    "library(viridis)\n",
    "data(ca20)\n",
    "# put this in a data frame\n",
    "dat <- data.frame(x = ca20$coords[,1], y = ca20$coords[,2], calcium = ca20$data, elevation = ca20$covariate[,1], region = factor(ca20$covariate[,2]))\n",
    "\n",
    "# plot the data\n",
    "ggplot(dat, aes(x=x, y = y, color =calcium, shape = region)) +\n",
    "  geom_point() +\n",
    "  scale_color_viridis(option = \"A\")"
   ]
  },
  {
   "cell_type": "code",
   "execution_count": null,
   "id": "79e4efd0",
   "metadata": {},
   "outputs": [],
   "source": [
    "# fit a no-spatial model\n",
    "m_lm <- lm(calcium ~ elevation + region, dat)\n",
    "# test for spatial autocorrelation\n",
    "sims <- simulateResiduals(m_lm)\n",
    "testSpatialAutocorrelation(sims, dat$x, dat$y, plot = FALSE)"
   ]
  },
  {
   "cell_type": "code",
   "execution_count": null,
   "id": "25e3d199",
   "metadata": {},
   "outputs": [],
   "source": [
    "library(spaMM)\n",
    "# fit the model\n",
    "m_spamm <- fitme(calcium ~ elevation + region + Matern(1 | x + y), data = dat, family = \"gaussian\") # this take a bit of time\n",
    "# model summary\n",
    "summary(m_spamm)"
   ]
  },
  {
   "cell_type": "markdown",
   "id": "574072af",
   "metadata": {},
   "source": [
    "Hay dos salidas principales de interés aquí: la primera son los **efectos fijos (beta)**, que son los parámetros de regresión estimados (pendientes). Luego, el parámetro de correlación **nu** y **rho** que representan la fuerza y la velocidad de decaimiento del efecto espacial. Podemos convertir esto en el efecto de correlación espacial real al graficar la correlación estimada entre dos ubicaciones en función de su distancia.\n",
    "\n",
    "Aquí desglosamos un poco más la terminología:\n",
    "\n",
    "-   **Efectos fijos (beta):** En este contexto, los efectos fijos se refieren a los coeficientes estimados en la regresión lineal. Representan el cambio promedio en la variable respuesta por unidad de cambio en una variable predictora, suponiendo que todas las demás variables permanecen constantes.\n",
    "-   **Parámetro de correlación nu (nu):** Nu es un parámetro que controla la fuerza de la autocorrelación espacial. Un valor de nu cercano a 1 indica una autocorrelación espacial fuerte, mientras que un valor cercano a 0 indica una autocorrelación espacial débil o inexistente.\n",
    "-   **Parámetro de correlación rho (rho):** Rho es otro parámetro que controla la autocorrelación espacial, pero también afecta la velocidad a la que la correlación decae con la distancia. Un valor de rho positivo indica una autocorrelación espacial positiva (ubicaciones cercanas tienen valores similares), mientras que un valor negativo indica una autocorrelación espacial negativa (ubicaciones cercanas tienen valores diferentes). El valor absoluto de rho determina la rapidez con que la correlación decae con la distancia. Un valor cercano a 1 indica un decaimiento lento, mientras que un valor cercano a 0 indica un decaimiento rápido.\n",
    "\n",
    "En resumen, el análisis proporciona información sobre la relación entre las variables predictoras y la variable respuesta, teniendo en cuenta la autocorrelación espacial. Los efectos fijos (beta) indican la fuerza de las relaciones lineales, mientras que los parámetros nu y rho cuantifican la autocorrelación espacial y su decaimiento con la distancia. Para visualizar completamente el efecto de correlación espacial, se recomienda graficar la correlación estimada entre dos ubicaciones en función de su distancia."
   ]
  },
  {
   "cell_type": "code",
   "execution_count": null,
   "id": "57436e92",
   "metadata": {},
   "outputs": [],
   "source": [
    "dd <- dist(dat[,c(\"x\",\"y\")])\n",
    "mm <- MaternCorr(dd, nu = 0.43, rho = 0.01)\n",
    "plot(as.numeric(dd), as.numeric(mm), xlab = \"Distance between pairs of location [in m]\", ylab = \"Estimated correlation\")"
   ]
  },
  {
   "cell_type": "code",
   "execution_count": null,
   "id": "36b4aae0",
   "metadata": {},
   "outputs": [],
   "source": [
    "sims <- simulateResiduals(m_spamm)\n",
    "plot(sims)"
   ]
  },
  {
   "cell_type": "code",
   "execution_count": null,
   "id": "6c429802",
   "metadata": {},
   "outputs": [],
   "source": [
    "# the effect of elevation\n",
    "newdat <- expand.grid(x = 5000, y = 5200, elevation = seq(3, 7, length.out = 10), region = factor(1, levels = c(1:3)))\n",
    "\n",
    "newdat$calcium <- as.numeric(predict(m_spamm, newdat, re.form = NA)) # re.form = NA used to remove spatial effects\n",
    "newdat$calcium <- newdat$calcium + mean(c(0,fixef(m_spamm)[3:4])) # to remove region effect\n",
    "# get 95% confidence intervals around predictions\n",
    "newdat <- cbind(newdat, get_intervals(m_spamm, newdata = newdat, intervals = \"fixefVar\", re.form = NA) + mean(c(0,fixef(m_spamm)[3:4])))\n",
    "\n",
    "\n",
    "gg1 <- ggplot(dat, aes(x = elevation, y = calcium)) +\n",
    "  geom_point() +\n",
    "  geom_path(data = newdat) +\n",
    "  geom_ribbon(data = newdat, aes(ymin = fixefVar_0.025, ymax = fixefVar_0.975), alpha = 0.2)\n",
    "\n",
    "# now for region effect\n",
    "newdat <- data.frame(x = 5000, y = 5200, elevation = mean(dat$elevation), region = factor(1:3)) # averaging out elevation effect\n",
    "newdat$calcium <- as.numeric(predict(m_spamm, newdat, re.form = NA))\n",
    "# get 95% CI\n",
    "newdat <- cbind(newdat,get_intervals(m_spamm, newdata = newdat, intervals = \"fixefVar\", re.form = NA))\n",
    "\n",
    "gg2 <- ggplot(dat, aes(x = region, y = calcium)) +\n",
    "  geom_jitter() +\n",
    "  geom_point(data = newdat, color = \"red\", size = 2) +\n",
    "  geom_linerange(data = newdat, aes(ymin = fixefVar_0.025, ymax = fixefVar_0.975), color = \"red\")\n",
    "\n",
    "# plot together\n",
    "grid.arrange(gg1, gg2, ncol = 2)"
   ]
  },
  {
   "cell_type": "markdown",
   "id": "6969b522",
   "metadata": {},
   "source": [
    "Ahora podemos predecir el efecto de la elevación y la región sobre la variable respuesta, teniendo en cuenta los efectos espaciales.\n",
    "\n",
    "Esto significa que podemos utilizar el modelo de regresión espacial para estimar el impacto de la elevación y la región en la variable de respuesta, incluso después de considerar la autocorrelación espacial entre las mediciones. Al controlar los efectos espaciales, podemos aislar el efecto directo de la elevación y la región en la variable que estamos estudiando."
   ]
  },
  {
   "cell_type": "code",
   "execution_count": null,
   "id": "6e3e33f7",
   "metadata": {},
   "outputs": [],
   "source": [
    "library(fields)\n",
    "library(raster)\n",
    "# derive a DEM\n",
    "elev_m <- Tps(dat[,c(\"x\",\"y\")], dat$elevation)"
   ]
  },
  {
   "cell_type": "code",
   "execution_count": null,
   "id": "0dacfff7",
   "metadata": {},
   "outputs": [],
   "source": [
    "r <- raster(xmn = 4950, xmx = 5970, ymn = 4800, ymx = 5720, resolution = 10)\n",
    "elev <- interpolate(r, elev_m)\n",
    "\n",
    "# for the region info use the limits given in ca20\n",
    "pp <- SpatialPolygons(list(Polygons(list(Polygon(ca20$reg1)), ID = \"reg1\"),Polygons(list(Polygon(ca20$reg2)), ID = \"reg2\"), Polygons(list(Polygon(ca20$reg3)), ID = \"reg3\")))\n",
    "region <- rasterize(pp, r)\n",
    "\n",
    "# predict at any location\n",
    "newdat <- expand.grid(x = seq(4960, 5960, length.out = 50), y = seq(4830, 5710, length.out = 50))\n",
    "newdat$elevation <- extract(elev, newdat[,1:2])\n",
    "newdat$region <- factor(extract(region, newdat[,1:2]))\n",
    "# remove NAs\n",
    "newdat <- na.omit(newdat)\n",
    "# predict\n",
    "newdat$calcium <- as.numeric(predict(m_spamm, newdat))\n",
    "\n",
    "(gg_spamm <- ggplot(newdat,aes(x=x, y=y, fill = calcium)) +\n",
    "  geom_raster() +\n",
    "  scale_fill_viridis())"
   ]
  }
 ],
 "metadata": {
  "jupytext": {
   "cell_metadata_filter": "-all",
   "main_language": "R",
   "notebook_metadata_filter": "-all",
   "text_representation": {
    "extension": ".Rmd",
    "format_name": "rmarkdown"
   }
  },
  "language_info": {
   "codemirror_mode": {
    "name": "ipython",
    "version": 3
   },
   "file_extension": ".py",
   "mimetype": "text/x-python",
   "name": "python",
   "nbconvert_exporter": "python",
   "pygments_lexer": "ipython3",
   "version": "3.11.4"
  }
 },
 "nbformat": 4,
 "nbformat_minor": 5
}