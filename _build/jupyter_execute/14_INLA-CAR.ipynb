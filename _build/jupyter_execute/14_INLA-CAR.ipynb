{
 "cells": [
  {
   "cell_type": "markdown",
   "id": "ba8e2f62",
   "metadata": {},
   "source": [
    "**CURSO**: Análisis Geoespacial, Departamento de Geociencias y Medio Ambiente, Universidad Nacional de Colombia - sede Medellín\\\n",
    "**Profesor**: Edier Aristizábal ([evaristizabalg\\@unal.edu.co](mailto:evaristizabalg@unal.edu.co){.email})\\\n",
    "**Credits**: The content of this notebook is based on [Coding Club](https://codingclubuc3m.rbind.io/post/2019-11-05/) by Virgilio Gómez Rubio\n",
    "\n",
    "## Datos areales con INLA (Markov)\n",
    "\n",
    "### Conjunto de datos: Leucemia en el norte del estado de Nueva York\n",
    "\n",
    "Para ilustrar cómo se ajustan los modelos espaciales con INLA, se utilizará el conjunto de datos de leucemia de Nueva York. Éste ha sido ampliamente analizado en la literatura (ver, por ejemplo, Waller y Gotway, 2004) y está disponible en el paquete `DClusterm`. El conjunto de datos registra una serie de casos de leucemia en el norte del estado de Nueva York a nivel de distrito censal. Algunas de las variables en el conjunto de datos son:\n",
    "\n",
    "-   **Casos:** Número de casos de leucemia en el período 1978-1982.\n",
    "-   **POP8:** Población en 1980.\n",
    "-   **PCTOWNHOME:** Proporción de personas que son propietarias de su vivienda.\n",
    "-   **PCTAGE65P:** Proporción de personas de 65 años o más.\n",
    "-   **AVGIDIST:** Distancia inversa promedio al sitio de tricloroetileno (TCE) más cercano.\n",
    "\n",
    "Tenga en cuenta que el interés se centra en la exposición al TCE, utilizando AVGIDIST como un indicador de exposición. Las variables PCTOWNHOME y PCTAGE65P actuarán como posibles factores de confusión que deben incluirse en el modelo. Sin embargo, no lo haremos aquí porque queremos probar cómo los efectos espaciales latentes capturan la variación espacial residual.\n",
    "\n",
    "El conjunto de datos se puede cargar de la siguiente manera:"
   ]
  },
  {
   "cell_type": "code",
   "execution_count": 1,
   "id": "04cd9add",
   "metadata": {},
   "outputs": [
    {
     "ename": "NameError",
     "evalue": "name 'library' is not defined",
     "output_type": "error",
     "traceback": [
      "\u001b[1;31m---------------------------------------------------------------------------\u001b[0m",
      "\u001b[1;31mNameError\u001b[0m                                 Traceback (most recent call last)",
      "Cell \u001b[1;32mIn[1], line 1\u001b[0m\n\u001b[1;32m----> 1\u001b[0m \u001b[43mlibrary\u001b[49m(spdep)\n\u001b[0;32m      2\u001b[0m library(DClusterm)\n\u001b[0;32m      3\u001b[0m data(NY8)\n",
      "\u001b[1;31mNameError\u001b[0m: name 'library' is not defined"
     ]
    }
   ],
   "source": [
    "library(spdep)\n",
    "library(DClusterm)\n",
    "data(NY8)"
   ]
  },
  {
   "cell_type": "markdown",
   "id": "dd7046fe",
   "metadata": {},
   "source": [
    "Dado que el interés se centra en estudiar el riesgo de leucemia en el norte del estado de Nueva York, primero se calcula el número esperado de casos. Esto se hace calculando la tasa de mortalidad general (total de casos dividido por la población total) y multiplicándola por la población:"
   ]
  },
  {
   "cell_type": "code",
   "execution_count": null,
   "id": "6aa2bd5f",
   "metadata": {},
   "outputs": [],
   "source": [
    "rate <- sum(NY8$Cases) / sum(NY8$POP8)\n",
    "NY8$Expected <- NY8$POP8 * rate"
   ]
  },
  {
   "cell_type": "markdown",
   "id": "34a6dbe8",
   "metadata": {},
   "source": [
    "Una vez que se obtiene el número esperado de casos, se puede obtener una estimación aproximada del riesgo con la razón de mortalidad estandarizada (SMR), que se calcula como el número de casos observados dividido por el número de casos esperados."
   ]
  },
  {
   "cell_type": "code",
   "execution_count": null,
   "id": "7059dffe",
   "metadata": {},
   "outputs": [],
   "source": [
    "NY8$SMR <- NY8$Cases / NY8$Expected"
   ]
  },
  {
   "cell_type": "markdown",
   "id": "03d97e31",
   "metadata": {},
   "source": [
    "En epidemiología, es importante producir mapas para mostrar la distribución espacial del riesgo relativo. En este ejemplo, nos centraremos en la ciudad de Syracuse para reducir el tiempo de cómputo necesario para producir el mapa. Por lo tanto, creamos un índice con las áreas de la ciudad de Syracuse:"
   ]
  },
  {
   "cell_type": "code",
   "execution_count": null,
   "id": "947fd516",
   "metadata": {},
   "outputs": [],
   "source": [
    "# Subset Syracuse city\n",
    "syracuse <- which(NY8$AREANAME == \"Syracuse city\")"
   ]
  },
  {
   "cell_type": "markdown",
   "id": "10591f4e",
   "metadata": {},
   "source": [
    "Un mapa de enfermedades se puede crear simplemente con la función `spplot` (del paquete `sp`):"
   ]
  },
  {
   "cell_type": "code",
   "execution_count": null,
   "id": "79171165",
   "metadata": {},
   "outputs": [],
   "source": [
    "library(viridis)\n",
    "spplot(NY8[syracuse, ], \"SMR\", #at = c(0.6, 0.9801, 1.055, 1.087, 1.125, 13),\n",
    "   col.regions = rev(magma(16))) #gray.colors(16, 0.9, 0.4))"
   ]
  },
  {
   "cell_type": "markdown",
   "id": "71959410",
   "metadata": {},
   "source": [
    "### Modelos mixtos lineales\n",
    "\n",
    "El primer modelo que consideraremos es un modelo Gausiano sin efectos aleatorios latentes, ya que proporcionará una línea base para comparar con otros modelos. Para ajustar el modelo con INLA, se utiliza la función `inla`:"
   ]
  },
  {
   "cell_type": "code",
   "execution_count": null,
   "id": "693316da",
   "metadata": {},
   "outputs": [],
   "source": [
    "library(INLA)\n"
   ]
  },
  {
   "cell_type": "code",
   "execution_count": null,
   "id": "e71ec516",
   "metadata": {},
   "outputs": [],
   "source": [
    "m1 <- inla(Cases ~ 1 + AVGIDIST,\n",
    "   data = as.data.frame(NY8),\n",
    "   family = \"Gaussian\",verbose=T,\n",
    "   E = NY8$Expected, control.predictor = list(compute = TRUE),\n",
    "   control.compute = list(dic = TRUE, waic = TRUE))\n",
    "\n",
    "summary(m1)\n",
    "NY8$FIXED.EFF <- m1$summary.fitted[, \"mean\"]"
   ]
  },
  {
   "cell_type": "markdown",
   "id": "72b68a93",
   "metadata": {},
   "source": [
    "### Regresión con efectos aleatorios\n",
    "\n",
    "Se pueden agregar efectos aleatorios latentes al modelo para tener en cuenta la sobredispersión incluyendo efectos aleatorios Gaussianos i.i.d. en el predictor lineal. Para ajustar el modelo con INLA, primero se crea un índice para identificar los efectos aleatorios (ID). Los efectos aleatorios latentes se especifican con la función `f` en INLA:"
   ]
  },
  {
   "cell_type": "code",
   "execution_count": null,
   "id": "c18a158c",
   "metadata": {},
   "outputs": [],
   "source": [
    "NY8$ID <- 1:nrow(NY8)\n",
    "m2 <- inla(Cases ~ 1 + AVGIDIST + f(ID, model = \"iid\"),\n",
    "  data = as.data.frame(NY8), family = \"Gaussian\", \n",
    "  E = NY8$Expected,\n",
    "  control.predictor = list(compute = TRUE),\n",
    "  control.compute = list(dic = TRUE, waic = TRUE))\n",
    "\n",
    "summary(m2)\n",
    "NY8$IID.EFF <- m2$summary.fitted[, \"mean\"]"
   ]
  },
  {
   "cell_type": "code",
   "execution_count": null,
   "id": "59954021",
   "metadata": {},
   "outputs": [],
   "source": [
    "spplot(NY8[syracuse, ], c(\"SMR\", \"FIXED.EFF\", \"IID.EFF\"),\n",
    "  col.regions = rev(magma(16)))"
   ]
  },
  {
   "cell_type": "markdown",
   "id": "e419e363",
   "metadata": {},
   "source": [
    "### Modelos espaciales para datos tipo poligonos\n",
    "\n",
    "Los datos discretos (lattice o poligonos regulares o irregulares) involucran datos medidos en diferentes áreas, por ejemplo, vecindarios, ciudades, provincias, estados, etc. La dependencia espacial aparece porque las áreas vecinas mostrarán valores similares de la variable de interés.\n",
    "\n",
    "Tenemos observaciones $y = {y_i}_{i=1}^n$ donde n es el número de áreas. A y se le asigna una distribución multivariante que tiene en cuenta la dependencia espacial. Una forma común de describir la proximidad espacial en datos discretos es mediante una matriz de adyacencia W. El elemento $W_{i,j}$ es distinto de cero si las áreas i y j son vecinas. Por lo general, dos áreas son vecinas si comparten un límite común.\n",
    "\n",
    "La matriz de adyacencia se puede calcular utilizando la función `poly2nb` en el paquete `spdep`. Esta función considerará dos áreas como vecinas si sus bordes se tocan al menos en un punto (es decir, adyacencia de \"Queen\"):"
   ]
  },
  {
   "cell_type": "code",
   "execution_count": null,
   "id": "d2640f0f",
   "metadata": {},
   "outputs": [],
   "source": [
    "NY8.nb <- poly2nb(NY8)"
   ]
  },
  {
   "cell_type": "markdown",
   "id": "7d66b007",
   "metadata": {},
   "source": [
    "Esto devolverá un objeto `nb` con la definición de la estructura del vecindario."
   ]
  },
  {
   "cell_type": "code",
   "execution_count": null,
   "id": "cd957113",
   "metadata": {},
   "outputs": [],
   "source": [
    "NY8.nb"
   ]
  },
  {
   "cell_type": "markdown",
   "id": "454b7fec",
   "metadata": {},
   "source": [
    "Además, estos objetos creados con la función `nb` se pueden visualizar gráficamente cuando se conoce información adicional sobre las áreas, como la ubicación de su centro."
   ]
  },
  {
   "cell_type": "code",
   "execution_count": null,
   "id": "232826f5",
   "metadata": {},
   "outputs": [],
   "source": [
    "plot(NY8) \n",
    "plot(NY8.nb, coordinates(NY8), add = TRUE, pch = \".\", col = \"gray\")"
   ]
  },
  {
   "cell_type": "markdown",
   "id": "1872e580",
   "metadata": {},
   "source": [
    "### Modelos de Regresión\n",
    "\n",
    "A menudo, además de $y_i$, tenemos una serie de covariables $X_i$. Por lo tanto, es posible que deseemos regresionar $y_i$ en $X_i$. Además de las covariables, es posible que queramos tener en cuenta la estructura espacial de los datos. Se pueden utilizar diferentes tipos de modelos de regresión para modelar datos de celosía:\n",
    "\n",
    "-   Modelos Lineales Generalizados (con efectos aleatorios espaciales)\n",
    "-   Modelos de econometría espacial\n",
    "-   Modelos Lineales Mixtos\n",
    "\n",
    "Un enfoque común (para datos Gaussianos) es usar una regresión lineal con efectos aleatorios:\n",
    "\n",
    "$Y = Xβ + Zu + ε$\n",
    "\n",
    "El vector de efectos aleatorios $u$ se modela como una distribución Normal multivariante:\n",
    "\n",
    "$u ∼ N(0, σ_u^2 Σ)$\n",
    "\n",
    "$Σ$ se define de manera que induzca una mayor correlación con las áreas adyacentes. Z es una matriz de diseño para los efectos aleatorios y $ε_i ∼ N(0, σ^2)$, i = 1, ..., n es un término de error.\n",
    "\n",
    "Los Modelos Lineales Mixtos Generalizados se pueden definir de manera similar utilizando una probabilidad diferente y vinculando el parámetro apropiado al predictor lineal.\n",
    "\n",
    "Hay muchas formas diferentes de incluir la dependencia espacial en $Σ$:\n",
    "\n",
    "-   Autoregresivo simultáneo (SAR):\n",
    "\n",
    "$Σ^{-1} = [(I - ρW)' (I - ρW)]$\n",
    "\n",
    "-   Autoregresivo condicional (CAR):\n",
    "\n",
    "$Σ^{-1} = (I - ρW)$\n",
    "\n",
    "-   CAR intrínseco (ICAR):\n",
    "\n",
    "$Σ^{-1} = diag(n_i) - W$\n",
    "\n",
    "$n_i$ es el número de vecinos del área i. $Σ_{i,j}$ depende de una función de d(i,j). Por ejemplo:\n",
    "\n",
    "$Σ_{i,j} = exp{-d(i,j) / φ}$\n",
    "\n",
    "-   \"Mezcla\" de matrices (modelo de Leroux et al.):\n",
    "\n",
    "$Σ = [(1 - λ)I_n + λM]^{-1}; λ ∈ (0,1)$\n",
    "\n",
    "M es la precisión de la especificación ICAR\n",
    "\n",
    "Las especificaciones CAR e ICAR se han propuesto dentro del campo de la Estadística, mientras que la especificación SAR se acuñó dentro de la Econometría Espacial. Independientemente de su origen, todas las especificaciones aquí presentadas pueden considerarse efectos latentes Gaussianos con una matriz de precisión particular.\n",
    "\n",
    "### Modelo ICAR\n",
    "\n",
    "El primer ejemplo se basará en la especificación ICAR. Tenga en cuenta que el efecto latente espacial se define usando la función f. Esto requerirá un índice para identificar los efectos aleatorios en cada área, el tipo de modelo y la matriz de adyacencia. Para ello, se utilizará una matriz dispersa."
   ]
  },
  {
   "cell_type": "code",
   "execution_count": null,
   "id": "f077ba5d",
   "metadata": {},
   "outputs": [],
   "source": [
    "# Create sparse adjacency matrix\n",
    "NY8.mat <- as(nb2mat(NY8.nb, style = \"B\"), \"Matrix\")\n",
    "# Fit model\n",
    "m.icar <- inla(Cases ~ 1 +  AVGIDIST + \n",
    "    f(ID, model = \"besag\", graph = NY8.mat),\n",
    "  data = as.data.frame(NY8), E = NY8$Expected, family =\"Gaussian\",\n",
    "  control.predictor = list(compute = TRUE),\n",
    "  control.compute = list(dic = TRUE, waic = TRUE))\n",
    "\n",
    "summary(m.icar)\n",
    "NY8$ICAR <- m.icar$summary.fitted.values[, \"mean\"]\n"
   ]
  },
  {
   "cell_type": "markdown",
   "id": "d004422f",
   "metadata": {},
   "source": [
    "### Modelo BYM (Besag, York y Mollié)\n",
    "\n",
    "El modelo de Besag, York y Mollié incluye dos efectos aleatorios latentes: un efecto latente ICAR y un efecto latente Gaussiano i.i.d. No es necesario definir estos dos efectos latentes si se establece el argumento `model` como \"bym\" cuando se define el efecto aleatorio latente con la función `f`."
   ]
  },
  {
   "cell_type": "code",
   "execution_count": null,
   "id": "4e6fc421",
   "metadata": {},
   "outputs": [],
   "source": [
    "m.bym = inla(Cases ~ 1 +  AVGIDIST + \n",
    "    f(ID, model = \"bym\", graph = NY8.mat),\n",
    "  data = as.data.frame(NY8), E = NY8$Expected, family =\"Gaussian\",\n",
    "  control.predictor = list(compute = TRUE),\n",
    "  control.compute = list(dic = TRUE, waic = TRUE))\n",
    "\n",
    "summary(m.bym)\n",
    "NY8$BYM <- m.bym$summary.fitted.values[, \"mean\"]"
   ]
  },
  {
   "cell_type": "markdown",
   "id": "7e8e294c",
   "metadata": {},
   "source": [
    "### Modelo de Leroux et al.\n",
    "\n",
    "Este modelo se define utilizando una \"mezcla\" de matrices (modelo de Leroux et al.) para definir la matriz de precisión del efecto latente. Este modelo se implementa utilizando el efecto latente `generic1`, que utiliza la siguiente matriz de precisión:\n",
    "\n",
    "$Σ^{-1} = 1 / τ (I_n - ρ * λ_max * C); ρ ∈ [0,1)$\n",
    "\n",
    "En esta ecuación, C es una matriz y λ_max su autovalor máximo.\n",
    "\n",
    "Para definir el modelo correcto, debemos tomar la matriz C de la siguiente manera:\n",
    "\n",
    "$C = I_n - M; M = diag(n_i) - W$\n",
    "\n",
    "Entonces, λ_max = 1 y:\n",
    "\n",
    "$Σ^{-1} = 1 / τ (I_n - ρ * λ_max * C) = 1 / τ (I_n - ρ * (I_n - M)) = 1 / τ ((1 - ρ)I_n + ρM)$\n",
    "\n",
    "Para ajustar el modelo, el primer paso es crear la matriz M."
   ]
  },
  {
   "cell_type": "code",
   "execution_count": null,
   "id": "ba783d8a",
   "metadata": {},
   "outputs": [],
   "source": [
    "ICARmatrix <- Diagonal(nrow(NY8.mat), apply(NY8.mat, 1, sum)) - NY8.mat\n",
    "Cmatrix <- Diagonal(nrow(NY8), 1) -  ICARmatrix"
   ]
  },
  {
   "cell_type": "markdown",
   "id": "f26f9b25",
   "metadata": {},
   "source": [
    "El modelo se ajusta como de costumbre con la función `inla`. Tenga en cuenta que la matriz C se pasa a la función `f` usando el argumento `Cmatrix`:"
   ]
  },
  {
   "cell_type": "code",
   "execution_count": null,
   "id": "b3b29b32",
   "metadata": {},
   "outputs": [],
   "source": [
    "m.ler = inla(Cases ~ 1 +  AVGIDIST +\n",
    "    f(ID, model = \"generic1\", Cmatrix = Cmatrix),\n",
    "  data = as.data.frame(NY8), E = NY8$Expected, family =\"Gaussian\",\n",
    "  control.predictor = list(compute = TRUE),\n",
    "  control.compute = list(dic = TRUE, waic = TRUE))\n",
    "summary(m.ler)\n",
    "NY8$LEROUX <- m.ler$summary.fitted.values[, \"mean\"]\n"
   ]
  },
  {
   "cell_type": "markdown",
   "id": "633f9494",
   "metadata": {},
   "source": [
    "### Spatial Lag Model (SLM)\n",
    "\n",
    "Este modelo incluye covariables y un proceso autoregresivo en la respuesta. R-INLA incluye un efecto latente experimental llamado `slm` para ajustar el siguiente modelo:\n",
    "\n",
    "$x = (In - ρW)^{-1} (Xβ + e)$\n",
    "\n",
    "Los elementos del modelo son:\n",
    "\n",
    "-   W: Matriz de adyacencia estandarizada por filas.\n",
    "-   ρ: Parámetro de autocorrelación espacial.\n",
    "-   X: Matriz de covariables, con coeficientes β.\n",
    "-   e: Errores i.i.d. Gaussianos con varianza σ\\^2.\n",
    "\n",
    "El efecto latente `slm` es experimental y se puede combinar con otros efectos en el predictor lineal. Para definir un modelo con el efecto latente `slm` se necesitan los siguientes elementos:\n",
    "\n",
    "-   **X:** Matriz de covariables. Esta matriz contiene los valores de las variables explicativas para cada unidad muestral.\n",
    "-   **W:** Matriz de adyacencia estandarizada por filas. Esta matriz describe la estructura espacial del modelo. Un elemento `W_ij` distinto de cero indica que las unidades muestrales `i` y `j` son vecinas, y su valor refleja la fuerza de la vecindad. La estandarización por filas garantiza que la suma de cada fila sea igual a 1.\n",
    "-   **Q:** Matriz de precisión de los coeficientes β. Esta matriz define la varianza previa de los coeficientes estimados para las variables explicativas en el modelo.\n",
    "-   **Rango de ρ:** Rango del parámetro de autocorrelación espacial `ρ`. Este parámetro controla la fuerza de la dependencia espacial en el modelo. A menudo, el rango de `ρ` se define en base a los autovalores de la matriz de adyacencia `W`."
   ]
  },
  {
   "cell_type": "code",
   "execution_count": null,
   "id": "d115c877",
   "metadata": {},
   "outputs": [],
   "source": [
    "#X\n",
    "mmatrix <- model.matrix(Cases ~ 1 + AVGIDIST, NY8)\n",
    "\n",
    "#W\n",
    "W <- as(nb2mat(NY8.nb, style = \"W\"), \"Matrix\")\n",
    "\n",
    "#Q\n",
    "Q.beta = Diagonal(n = ncol(mmatrix), x = 0.001)\n",
    "\n",
    "#Range of rho\n",
    "rho.min<- -1\n",
    "rho.max<- 1"
   ]
  },
  {
   "cell_type": "markdown",
   "id": "a56cb747",
   "metadata": {},
   "source": [
    "Los argumentos del efecto latente `slm` se pasan a través del argumento `args.sm`. En este caso, hemos creado una lista con el mismo nombre para mantener juntos todos los valores requeridos:"
   ]
  },
  {
   "cell_type": "code",
   "execution_count": null,
   "id": "c1c1b17e",
   "metadata": {},
   "outputs": [],
   "source": [
    "#Arguments for 'slm'\n",
    "args.slm = list(\n",
    "   rho.min = rho.min ,\n",
    "   rho.max = rho.max,\n",
    "   W = W,\n",
    "   X = mmatrix,\n",
    "   Q.beta = Q.beta\n",
    ")"
   ]
  },
  {
   "cell_type": "markdown",
   "id": "07ee4d57",
   "metadata": {},
   "source": [
    "Además, se deben establecer las funciones a priori para el parámetro de precisión τ y el parámetro de autocorrelación espacial ρ:"
   ]
  },
  {
   "cell_type": "code",
   "execution_count": null,
   "id": "ad69068a",
   "metadata": {},
   "outputs": [],
   "source": [
    "#Prior on rho\n",
    "hyper.slm = list(\n",
    "   prec = list(\n",
    "      prior = \"loggamma\", param = c(0.01, 0.01)),\n",
    "      rho = list(initial=0, prior = \"logitbeta\", param = c(1,1))\n",
    ")"
   ]
  },
  {
   "cell_type": "markdown",
   "id": "a8c470d8",
   "metadata": {},
   "source": [
    "La definición de la función a priori utiliza una lista con nombre y diferentes argumentos. El argumento `prior` define la distribución a priori que se usará, y el argumento `param` define los parámetros de dicha distribución.\n",
    "\n",
    "En este caso:\n",
    "\n",
    "-   Se asigna una función a priori gamma a la precisión, con parámetros 0.01 y 0.01.\n",
    "-   Se asigna una función a priori beta al parámetro de autocorrelación espacial, con parámetros 1 y 1. Esto es equivalente a una distribución uniforme en el intervalo (1, 1)."
   ]
  },
  {
   "cell_type": "code",
   "execution_count": null,
   "id": "857dcaeb",
   "metadata": {},
   "outputs": [],
   "source": [
    "#SLM model\n",
    "m.slm <- inla( Cases ~ -1 +\n",
    "     f(ID, model = \"slm\", args.slm = args.slm, hyper = hyper.slm),\n",
    "   data = as.data.frame(NY8), family = \"Gaussian\",\n",
    "   E = NY8$Expected,\n",
    "   control.predictor = list(compute = TRUE),\n",
    "   control.compute = list(dic = TRUE, waic = TRUE)\n",
    ")\n",
    "\n",
    "summary(m.slm)\n",
    "NY8$SLM <- m.slm$summary.fitted.values[, \"mean\"]\n"
   ]
  },
  {
   "cell_type": "markdown",
   "id": "85b6b871",
   "metadata": {},
   "source": [
    "Los valores estimados de los coeficientes aparecen como parte de los efectos aleatorios."
   ]
  },
  {
   "cell_type": "code",
   "execution_count": null,
   "id": "452d9166",
   "metadata": {},
   "outputs": [],
   "source": [
    "round(m.slm$summary.random$ID[47:48,], 4)\n"
   ]
  },
  {
   "cell_type": "markdown",
   "id": "a4223510",
   "metadata": {},
   "source": [
    "La autocorrelación espacial se informa en la escala interna (es decir, entre 0 y 1) y necesita ser reescalada."
   ]
  },
  {
   "cell_type": "code",
   "execution_count": null,
   "id": "624b1477",
   "metadata": {},
   "outputs": [],
   "source": [
    "marg.rho.internal <- m.slm$marginals.hyperpar[[\"Rho for ID\"]]\n",
    "marg.rho <- inla.tmarginal( function(x) {\n",
    "  rho.min + x * (rho.max - rho.min)\n",
    "}, marg.rho.internal)\n",
    "\n",
    "inla.zmarginal(marg.rho, FALSE)"
   ]
  },
  {
   "cell_type": "code",
   "execution_count": null,
   "id": "c1fcd77d",
   "metadata": {},
   "outputs": [],
   "source": [
    "plot(marg.rho, type = \"l\", main = \"Spatial autocorrelation\")\n"
   ]
  },
  {
   "cell_type": "markdown",
   "id": "9c934dc5",
   "metadata": {},
   "source": [
    "### Resultados"
   ]
  },
  {
   "cell_type": "code",
   "execution_count": null,
   "id": "04379018",
   "metadata": {},
   "outputs": [],
   "source": [
    "spplot(NY8[syracuse, ], \n",
    "  c(\"FIXED.EFF\", \"IID.EFF\", \"ICAR\", \"BYM\", \"LEROUX\", \"SLM\"),\n",
    "  col.regions = rev(magma(16))\n",
    ")"
   ]
  }
 ],
 "metadata": {
  "jupytext": {
   "cell_metadata_filter": "-all",
   "main_language": "R",
   "notebook_metadata_filter": "-all",
   "text_representation": {
    "extension": ".Rmd",
    "format_name": "rmarkdown"
   }
  },
  "language_info": {
   "codemirror_mode": {
    "name": "ipython",
    "version": 3
   },
   "file_extension": ".py",
   "mimetype": "text/x-python",
   "name": "python",
   "nbconvert_exporter": "python",
   "pygments_lexer": "ipython3",
   "version": "3.11.4"
  }
 },
 "nbformat": 4,
 "nbformat_minor": 5
}