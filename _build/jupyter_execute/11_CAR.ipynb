{
 "cells": [
  {
   "cell_type": "markdown",
   "id": "c32d7ed7",
   "metadata": {},
   "source": [
    "<p style=\"font-size:11px;\"><em><strong>Créditos</strong>: El contenido de este cuaderno ha sido tomado de varias fuentes, pero especialmente de <a href=\"https://rpubs.com/jimclark/883880\">Jim Clark</a>, <a href=\"https://cran.r-project.org/web/packages/CARBayes/vignettes/CARBayes.pdf\">CARBayes</a>, <a href=\"https://search.r-project.org/CRAN/refmans/CARBayes/html/00Index.html\">CRAN</a>, <a href=\"https://datascienceplus.com/spatial-regression-in-r-part-1-spamm-vs-glmmtmb/\">Lionel Hertzog</a>, <a href=\"https://codingclubuc3m.rbind.io/post/2019-11-05/\">Virgilio Gómez Rubio</a>. El compilador se disculpa por cualquier omisión involuntaria y estaría encantado de agregar un reconocimiento.</em></p>\n"
   ]
  },
  {
   "cell_type": "markdown",
   "id": "2cde13f4",
   "metadata": {},
   "source": [
    "# Modelos de regresión para dependencia espacial tipo CAR\n",
    "\n",
    "Los modelos CAR con Campos Aleatorios de Markov (MRF) se utilizan ampliamente en estadísticas espaciales para modelar datos observados, así como \n",
    "variables latentes y efectos aleatorios que varían espacialmente. Las estructuras CAR se implementan en modelos jerárquicos con efectos aleatorios latentes \n",
    "({cite:t}`schmidt2014`). CAR es un tipo de Campo Aleatorio de Markov (MRF) ({cite:t}`besag1991`), que es el enfoque dominante para \n",
    "analizar datos espaciales discretos dentro de un marco jerárquico. Un proceso espacial se considera que tiene propiedades de Markov si el estado \n",
    "futuro esperado de un parámetro depende únicamente del estado adyacente inmediato, haciendo que el estado futuro sea condicionalmente independiente. \n",
    "Extender esto a múltiples efectos aleatorios da como resultado un MRF (\\{cite:t}`clifford1990`, {cite:t}`rue2005`). La forma más común de MRF \n",
    "representa una conectividad de vecindad de primer orden en términos de contigüidad, donde las observaciones que comparten un límite se consideran vecinas.\n",
    "\n",
    "Los efectos aleatorios latentes (o simplemente efectos aleatorios espaciales) ofrecen una forma diferente y muy flexible de capturar la dependencia espacial, a menudo representando la variabilidad espacial no observada o no explicada por las covariables fijas en tu modelo.\n",
    "\n",
    "Los efectos aleatorios latentes pueden ser de dos tipos principales en el contexto espacial:\n",
    "\n",
    "* Efecto Aleatorio Espacial Estructurado (Structured Spatial Random Effect): Este componente captura la dependencia espacial \"suave\" o de \"vecindad\". Modela la correlación entre observaciones cercanas, asumiendo que las ubicaciones más próximas son más similares. \n",
    "\n",
    "* Efecto Aleatorio Espacial No Estructurado (Unstructured Spatial Random Effect): Este es un componente aleatorio independiente e idénticamente distribuido (i.i.d.) para cada ubicación. Captura la variabilidad \"ruidosa\" que no tiene una estructura espacial discernible. Podría pensarse como una variabilidad aleatoria intrínseca a cada observación o ubicación.\n",
    "\n",
    "La idea es que la combinación de estos efectos aleatorios (junto con los efectos fijos de las covariables) puede explicar completamente la variación en tu variable dependiente, incluyendo la dependencia espacial.\n",
    "\n",
    "Varios modelos han sido propuestos dentro de esta clase general de estructuras CAR, incluidos los modelos intrínsecos y de convolución \n",
    "({cite:t}`besag1991`), así como alternativas como la propuesta por {cite:t}`leroux2000`. El modelo CAR intrínseco (ICAR) es el \n",
    "CAR más simple, que asume un efecto aleatorio autorregresivo espacial para abordar las asociaciones entre regiones vecinas ({cite:t}`besag1991`).\n",
    "La expectativa condicional es igual a la media de los efectos aleatorios en las unidades de mapeo de terreno vecinas, mientras que la varianza \n",
    "condicional es inversamente proporcional al número de sus vecinos. Este modelo representa estructuras de correlación espacial fuertes y puede \n",
    "no ser adecuado si los datos están débilmente correlacionados.\n",
    "\n",
    "{cite:t}`besag1991` propuso el modelo de convolución, o modelo Besag-York-Mollié (BYM), que combina dos efectos aleatorios latentes: un efecto \n",
    "latente ICAR ($\\rho$) y un efecto latente Gaussiano i.i.d. ($\\sigma$). Sin embargo, los dos componentes de efectos aleatorios separados no se pueden \n",
    "identificar individualmente, y solo se puede identificar su suma.\n",
    "\n",
    "{cite:t}`leroux2000` propuso utilizar un único efecto aleatorio en su lugar, que incluye un parámetro ($\\rho$) para medir el nivel de \n",
    "correlación espacial entre las unidades de mapeo de terreno, tomando valores en el intervalo unitario [0-1]. Este modelo es una variación de los \n",
    "modelos BYM e ICAR. Al igual que el modelo ICAR, tiene un parámetro de efecto aleatorio espacial para cada observacion. Sin embargo, la distribución \n",
    "condicional incorpora características tanto de efectos aleatorios espaciales estructurados como no estructurados (del modelo BYM) en un solo \n",
    "parámetro ($\\rho$). El modelo de Leroux generaliza el modelo ICAR y el modelo independiente (es decir, un modelo sin ningún efecto aleatorio \n",
    "espacial estructurado). Cuando $\\rho=1$, se recupera el modelo ICAR; cuando $\\rho=0$, se recupera el modelo independiente. Así, el modelo de \n",
    "Leroux busca equilibrar estos dos modelos estimando el valor de $\\rho$."
   ]
  },
  {
   "cell_type": "markdown",
   "id": "3ca13907",
   "metadata": {},
   "source": [
    "## Modelos con la librería CARBayes en R"
   ]
  },
  {
   "cell_type": "markdown",
   "id": "d882795a",
   "metadata": {},
   "source": [
    "```r\n",
    "library(spBayes)\n",
    "library(maps)\n",
    "library(RANN)\n",
    "library(gjam)\n",
    "library(CARBayes)\n",
    "library(CARBayesdata)\n",
    "library(mgcv)\n",
    "```"
   ]
  },
  {
   "cell_type": "markdown",
   "id": "26d392dd",
   "metadata": {},
   "source": [
    "```r\n",
    "#### Set up a square lattice region\n",
    "m <- 12\n",
    "xEast  <- 1:m\n",
    "xNorth <- 1:m\n",
    "grid   <- expand.grid(xEast, xNorth)\n",
    "n      <- nrow(grid)\n",
    "plot( NULL, xlim = c(0, m), ylim = c(0, m), xlab='East', ylab='North' )\n",
    "abline(v=grid[,1], h=grid[,2])\n",
    "text(grid[,1] - .5, grid[,2] - .5, 1:n, cex=.8)\n",
    "```"
   ]
  },
  {
   "cell_type": "markdown",
   "id": "39a385de",
   "metadata": {},
   "source": [
    "Se construye una matriz de vecindad (W)."
   ]
  },
  {
   "cell_type": "markdown",
   "id": "2950f4dc",
   "metadata": {},
   "source": [
    "\n",
    "```r\n",
    "D <- W <- as.matrix(dist(grid))\n",
    "W[W != 1] <- 0 \n",
    "```"
   ]
  },
  {
   "cell_type": "markdown",
   "id": "25f10cc2",
   "metadata": {},
   "source": [
    "```r\n",
    "Q <- 3\n",
    "x <- matrix( rnorm(Q*n), n, Q )\n",
    "x[,1] <- 1\n",
    "x2    <- x[,2]\n",
    "x3    <- x[,3]\n",
    "beta  <- matrix( rnorm(Q), Q, 1)\n",
    "sigma <- .1\n",
    "```"
   ]
  },
  {
   "cell_type": "markdown",
   "id": "c9007bc0",
   "metadata": {},
   "source": [
    "```r\n",
    "form <- as.formula(y ~ x2 + x3)\n",
    "\n",
    "gaussianModel <- S.CARleroux(formula = form, family  = 'gaussian', W = W, \n",
    "                             burnin = 20000, n.sample = 100000, thin = 10, verbose = F)\n",
    "gaussianModel\n",
    "```"
   ]
  },
  {
   "cell_type": "markdown",
   "id": "46c186dc",
   "metadata": {},
   "source": [
    "\n",
    "```r\n",
    "#random effect\n",
    "fv <- gaussianModel$fitted.values\n",
    "mf <- min(fv)\n",
    "cc <- fv - mf\n",
    "ss <- seq(0, max(cc), length.out=10)\n",
    "cc <- findInterval(cc, ss)\n",
    "\n",
    "colM <- colorRampPalette( c(\"red\",\"orange\",\"blue\"))\n",
    "colm <- colM(10)\n",
    "\n",
    "symbols(x=grid[,1], y=grid[,2], squares = cc*0+1, bg=colm[cc],\n",
    "        fg=colm[cc],inches=F, xlab='East', ylab='North')\n",
    "```"
   ]
  },
  {
   "cell_type": "markdown",
   "id": "47a27f44",
   "metadata": {},
   "source": [
    "```r\n",
    "lambda <- exp(x%*%beta + phi[,2] + rnorm(n, 0, sigma))\n",
    "y <- rpois(n, lambda)\n",
    "\n",
    "poissonModel <- S.CARbym(formula=form, family=\"poisson\",\n",
    "                         W=W, burnin=20000, n.sample=100000, thin=10, verbose=F)\n",
    "poissonModel\n",
    "```"
   ]
  },
  {
   "cell_type": "markdown",
   "id": "ca8c640f",
   "metadata": {},
   "source": [
    "## Modelos con la librería INLA en R"
   ]
  },
  {
   "cell_type": "markdown",
   "id": "2657d7ca",
   "metadata": {},
   "source": [
    "\n",
    "Para ilustrar cómo se ajustan los modelos espaciales con INLA, se utilizará el conjunto de datos de leucemia de Nueva York. Éste ha sido ampliamente analizado en la literatura (ver, por ejemplo, Waller y Gotway, 2004) y está disponible en el paquete `DClusterm`. El conjunto de datos registra una serie de casos de leucemia en el norte del estado de Nueva York a nivel de distrito censal. Algunas de las variables en el conjunto de datos son:\n",
    "\n",
    "-   **Casos:** Número de casos de leucemia en el período 1978-1982.\n",
    "-   **POP8:** Población en 1980.\n",
    "-   **PCTOWNHOME:** Proporción de personas que son propietarias de su vivienda.\n",
    "-   **PCTAGE65P:** Proporción de personas de 65 años o más.\n",
    "-   **AVGIDIST:** Distancia inversa promedio al sitio de tricloroetileno (TCE) más cercano.\n",
    "\n",
    "Tenga en cuenta que el interés se centra en la exposición al TCE, utilizando AVGIDIST como un indicador de exposición. Las variables PCTOWNHOME y PCTAGE65P actuarán como posibles factores de confusión que deben incluirse en el modelo. Sin embargo, no lo haremos aquí porque queremos probar cómo los efectos espaciales latentes capturan la variación espacial residual.\n",
    "\n",
    "El conjunto de datos se puede cargar de la siguiente manera:"
   ]
  },
  {
   "cell_type": "markdown",
   "id": "d463db08",
   "metadata": {},
   "source": [
    "```r\n",
    "library(spdep)\n",
    "library(DClusterm)\n",
    "data(NY8)\n",
    "```"
   ]
  },
  {
   "cell_type": "markdown",
   "id": "4f912736",
   "metadata": {},
   "source": [
    "Dado que el interés se centra en estudiar el riesgo de leucemia en el norte del estado de Nueva York, primero se calcula el número esperado de casos. Esto se hace calculando la tasa de mortalidad general (total de casos dividido por la población total) y multiplicándola por la población:\n"
   ]
  },
  {
   "cell_type": "markdown",
   "id": "67d89eb9",
   "metadata": {},
   "source": [
    "```r\n",
    "rate <- sum(NY8$Cases) / sum(NY8$POP8)\n",
    "NY8$Expected <- NY8$POP8 * rate\n",
    "```"
   ]
  },
  {
   "cell_type": "markdown",
   "id": "933675b3",
   "metadata": {},
   "source": [
    "Una vez que se obtiene el número esperado de casos, se puede obtener una estimación aproximada del riesgo con la razón de mortalidad estandarizada (SMR), que se calcula como el número de casos observados dividido por el número de casos esperados.\n"
   ]
  },
  {
   "cell_type": "markdown",
   "id": "73db84e4",
   "metadata": {},
   "source": [
    "```r\n",
    "NY8$SMR <- NY8$Cases / NY8$Expected\n",
    "```"
   ]
  },
  {
   "cell_type": "markdown",
   "id": "3c4e1907",
   "metadata": {},
   "source": [
    "En epidemiología, es importante producir mapas para mostrar la distribución espacial del riesgo relativo. En este ejemplo, nos centraremos en la ciudad de Syracuse para reducir el tiempo de cómputo necesario para producir el mapa. Por lo tanto, creamos un índice con las áreas de la ciudad de Syracuse:\n"
   ]
  },
  {
   "cell_type": "markdown",
   "id": "1d5a7aca",
   "metadata": {},
   "source": [
    "```r\n",
    "# Subset Syracuse city\n",
    "syracuse <- which(NY8$AREANAME == \"Syracuse city\")\n",
    "```"
   ]
  },
  {
   "cell_type": "markdown",
   "id": "e2d63767",
   "metadata": {},
   "source": [
    "Un mapa de enfermedades se puede crear simplemente con la función `spplot` (del paquete `sp`):\n"
   ]
  },
  {
   "cell_type": "markdown",
   "id": "6fb49f35",
   "metadata": {},
   "source": [
    "```r\n",
    "library(viridis)\n",
    "spplot(NY8[syracuse, ], \"SMR\", #at = c(0.6, 0.9801, 1.055, 1.087, 1.125, 13),\n",
    "   col.regions = rev(magma(16))) #gray.colors(16, 0.9, 0.4))\n",
    "```"
   ]
  },
  {
   "cell_type": "markdown",
   "id": "dc0446bb",
   "metadata": {},
   "source": [
    "#### Modelo Gaussiano clásico"
   ]
  },
  {
   "cell_type": "markdown",
   "id": "aca7c5aa",
   "metadata": {},
   "source": [
    "El primer modelo que consideraremos es un modelo Gausiano sin efectos aleatorios latentes, ya que proporcionará una línea base para comparar con otros modelos. Para ajustar el modelo con INLA, se utiliza la función `inla`:\n"
   ]
  },
  {
   "cell_type": "markdown",
   "id": "8ecb08c4",
   "metadata": {},
   "source": [
    "```r\n",
    "library(INLA)\n",
    "\n",
    "```"
   ]
  },
  {
   "cell_type": "markdown",
   "id": "0e2db43a",
   "metadata": {},
   "source": [
    "```r\n",
    "m1 <- inla(Cases ~ 1 + AVGIDIST,\n",
    "   data = as.data.frame(NY8),\n",
    "   family = \"Gaussian\",verbose=T,\n",
    "   E = NY8$Expected, control.predictor = list(compute = TRUE),\n",
    "   control.compute = list(dic = TRUE, waic = TRUE))\n",
    "\n",
    "summary(m1)\n",
    "NY8$FIXED.EFF <- m1$summary.fitted[, \"mean\"]\n",
    "```"
   ]
  },
  {
   "cell_type": "markdown",
   "id": "8d2e4dad",
   "metadata": {},
   "source": [
    "#### Modelo Gaussiano con efectos aleatorios NO estructurados"
   ]
  },
  {
   "cell_type": "markdown",
   "id": "2a0e94c2",
   "metadata": {},
   "source": [
    "Se pueden agregar efectos aleatorios latentes al modelo para tener en cuenta la sobredispersión incluyendo efectos aleatorios Gaussianos i.i.d. en el predictor lineal. Para ajustar el modelo con INLA, primero se crea un índice para identificar los efectos aleatorios (ID). Los efectos aleatorios latentes se especifican con la función `f` en INLA:\n"
   ]
  },
  {
   "cell_type": "markdown",
   "id": "cf3f4fab",
   "metadata": {},
   "source": [
    "```r\n",
    "NY8$ID <- 1:nrow(NY8)\n",
    "m2 <- inla(Cases ~ 1 + AVGIDIST + f(ID, model = \"iid\"),\n",
    "  data = as.data.frame(NY8), family = \"Gaussian\", \n",
    "  E = NY8$Expected,\n",
    "  control.predictor = list(compute = TRUE),\n",
    "  control.compute = list(dic = TRUE, waic = TRUE))\n",
    "\n",
    "summary(m2)\n",
    "NY8$IID.EFF <- m2$summary.fitted[, \"mean\"]\n",
    "```"
   ]
  },
  {
   "cell_type": "markdown",
   "id": "6a619dd3",
   "metadata": {},
   "source": [
    "```r\n",
    "spplot(NY8[syracuse, ], c(\"SMR\", \"FIXED.EFF\", \"IID.EFF\"),\n",
    "  col.regions = rev(magma(16)))\n",
    "```"
   ]
  },
  {
   "cell_type": "markdown",
   "id": "704b675b",
   "metadata": {},
   "source": [
    "### Modelo Gaussiano con efectos aleatorios estructurados"
   ]
  },
  {
   "cell_type": "markdown",
   "id": "fc7c17bc",
   "metadata": {},
   "source": [
    "Tenemos observaciones $y = {y_i}_{i=1}^n$ donde n es el número de áreas. A y se le asigna una distribución multivariante que tiene en cuenta la dependencia espacial. Una forma común de describir la proximidad espacial en datos discretos es mediante una matriz de adyacencia W. El elemento $W_{i,j}$ es distinto de cero si las áreas i y j son vecinas. Por lo general, dos áreas son vecinas si comparten un límite común.\n",
    "\n",
    "La matriz de adyacencia se puede calcular utilizando la función `poly2nb` en el paquete `spdep`. Esta función considerará dos áreas como vecinas si sus bordes se tocan al menos en un punto (es decir, adyacencia de \"Queen\"):"
   ]
  },
  {
   "cell_type": "markdown",
   "id": "58231906",
   "metadata": {},
   "source": [
    "```r\n",
    "NY8.nb <- poly2nb(NY8)\n",
    "```"
   ]
  },
  {
   "cell_type": "markdown",
   "id": "5a5df224",
   "metadata": {},
   "source": [
    "Esto devolverá un objeto `nb` con la definición de la estructura del vecindario."
   ]
  },
  {
   "cell_type": "markdown",
   "id": "ff04b35f",
   "metadata": {},
   "source": [
    "```r\n",
    "NY8.nb\n",
    "```"
   ]
  },
  {
   "cell_type": "markdown",
   "id": "0da59c27",
   "metadata": {},
   "source": [
    "Además, estos objetos creados con la función `nb` se pueden visualizar gráficamente cuando se conoce información adicional sobre las áreas, como la ubicación de su centro."
   ]
  },
  {
   "cell_type": "markdown",
   "id": "dfe6ffb7",
   "metadata": {},
   "source": [
    "```r\n",
    "plot(NY8) \n",
    "plot(NY8.nb, coordinates(NY8), add = TRUE, pch = \".\", col = \"gray\")\n",
    "```"
   ]
  },
  {
   "cell_type": "markdown",
   "id": "22140ebb",
   "metadata": {},
   "source": [
    "#### Modelo ICAR\n",
    "\n",
    "El primer ejemplo se basará en la especificación ICAR. Tenga en cuenta que el efecto latente espacial se define usando la función f. Esto requerirá un índice para identificar los efectos aleatorios en cada área, el tipo de modelo y la matriz de adyacencia. Para ello, se utilizará una matriz dispersa."
   ]
  },
  {
   "cell_type": "markdown",
   "id": "fb66c40d",
   "metadata": {},
   "source": [
    "```r\n",
    "# Create sparse adjacency matrix\n",
    "NY8.mat <- as(nb2mat(NY8.nb, style = \"B\"), \"Matrix\")\n",
    "```"
   ]
  },
  {
   "cell_type": "markdown",
   "id": "d3a98aff",
   "metadata": {},
   "source": [
    "```r\n",
    "# Fit model\n",
    "m.icar <- inla(Cases ~ 1 +  AVGIDIST + \n",
    "    f(ID, model = \"besag\", graph = NY8.mat),\n",
    "  data = as.data.frame(NY8), E = NY8$Expected, family =\"Gaussian\",\n",
    "  control.predictor = list(compute = TRUE),\n",
    "  control.compute = list(dic = TRUE, waic = TRUE))\n",
    "\n",
    "summary(m.icar)\n",
    "NY8$ICAR <- m.icar$summary.fitted.values[, \"mean\"]\n",
    "\n",
    "```"
   ]
  },
  {
   "cell_type": "markdown",
   "id": "fc6a4ca0",
   "metadata": {},
   "source": [
    "#### Modelo BYM (Besag, York y Mollié)\n",
    "\n",
    "El modelo de Besag, York y Mollié incluye dos efectos aleatorios latentes: un efecto latente ICAR y un efecto latente Gaussiano i.i.d. No es necesario definir estos dos efectos latentes si se establece el argumento `model` como \"bym\" cuando se define el efecto aleatorio latente con la función `f`."
   ]
  },
  {
   "cell_type": "markdown",
   "id": "18b6c513",
   "metadata": {},
   "source": [
    "```r\n",
    "m.bym = inla(Cases ~ 1 +  AVGIDIST + \n",
    "    f(ID, model = \"bym\", graph = NY8.mat),\n",
    "  data = as.data.frame(NY8), E = NY8$Expected, family =\"Gaussian\",\n",
    "  control.predictor = list(compute = TRUE),\n",
    "  control.compute = list(dic = TRUE, waic = TRUE))\n",
    "\n",
    "summary(m.bym)\n",
    "NY8$BYM <- m.bym$summary.fitted.values[, \"mean\"]\n",
    "```"
   ]
  },
  {
   "cell_type": "markdown",
   "id": "621554e7",
   "metadata": {},
   "source": [
    "#### Modelo de Leroux et al.\n",
    "\n",
    "Este modelo se define utilizando una \"mezcla\" de matrices (modelo de Leroux et al.) para definir la matriz de precisión del efecto latente. Este modelo se implementa utilizando el efecto latente `generic1`, que utiliza la siguiente matriz de precisión:\n",
    "\n",
    "$$Σ^{-1} = 1 / τ (I_n - ρ * λ_max * C); ρ ∈ [0,1)$$\n",
    "\n",
    "En esta ecuación, C es una matriz y λ_max su autovalor máximo.\n",
    "\n",
    "Para definir el modelo correcto, debemos tomar la matriz C de la siguiente manera:\n",
    "\n",
    "$$C = I_n - M; M = diag(n_i) - W$$\n",
    "\n",
    "Entonces, λ_max = 1 y:\n",
    "\n",
    "$$Σ^{-1} = 1 / τ (I_n - ρ * λ_max * C) = 1 / τ (I_n - ρ * (I_n - M)) = 1 / τ ((1 - ρ)I_n + ρM)$$\n",
    "\n",
    "Para ajustar el modelo, el primer paso es crear la matriz M."
   ]
  },
  {
   "cell_type": "markdown",
   "id": "8934375f",
   "metadata": {},
   "source": [
    "```r\n",
    "ICARmatrix <- Diagonal(nrow(NY8.mat), apply(NY8.mat, 1, sum)) - NY8.mat\n",
    "Cmatrix <- Diagonal(nrow(NY8), 1) -  ICARmatrix\n",
    "```"
   ]
  },
  {
   "cell_type": "markdown",
   "id": "092e5da2",
   "metadata": {},
   "source": [
    "El modelo se ajusta como de costumbre con la función `inla`. Tenga en cuenta que la matriz C se pasa a la función `f` usando el argumento `Cmatrix`:"
   ]
  },
  {
   "cell_type": "markdown",
   "id": "24402e84",
   "metadata": {},
   "source": [
    "```r\n",
    "m.ler = inla(Cases ~ 1 +  AVGIDIST +\n",
    "    f(ID, model = \"generic1\", Cmatrix = Cmatrix),\n",
    "  data = as.data.frame(NY8), E = NY8$Expected, family =\"Gaussian\",\n",
    "  control.predictor = list(compute = TRUE),\n",
    "  control.compute = list(dic = TRUE, waic = TRUE))\n",
    "summary(m.ler)\n",
    "NY8$LEROUX <- m.ler$summary.fitted.values[, \"mean\"]\n",
    "\n",
    "```"
   ]
  },
  {
   "cell_type": "markdown",
   "id": "dd262d76",
   "metadata": {},
   "source": [
    "## Ejemplo cuencas y subcuencas"
   ]
  },
  {
   "cell_type": "markdown",
   "id": "2a5b9338",
   "metadata": {},
   "source": [
    "```r\n",
    "aoi = st_read(\"https://github.com/edieraristizabal/ModeloMultinivel/blob/main/DATA/df_catchments_spatial.gpkg\")\n",
    "aoi <- aoi %>% mutate_at(c('elev_mean','slope_mean','RainfallDaysmean'), ~(scale(.) %>% as.vector))\n",
    "aoi <- aoi %>% mutate(cuenca_num = case_when(cuenca == 'Atrato' ~ 1, cuenca == 'Cauca' ~ 2, cuenca == 'Magdalena' ~ 3))\n",
    "aoi_sp <- as_Spatial(aoi)\n",
    "```"
   ]
  },
  {
   "cell_type": "markdown",
   "id": "895c18cb",
   "metadata": {},
   "source": [
    "```r\n",
    "#Spatial matrix\n",
    "W.nb <- poly2nb(aoi)\n",
    "W.mat <- nb2mat(W.nb, style=\"B\")\n",
    "W.list <- nb2listw(W.nb, style=\"B\")\n",
    "```"
   ]
  },
  {
   "cell_type": "markdown",
   "id": "977c985b",
   "metadata": {},
   "source": [
    "```r\n",
    "#Standard Poisson model in CARBayes\n",
    "m1_carbayes <- S.glm(formula=lands_rec ~ 1 + RainfallDaysmean + elev_mean + slope_mean + offset(log(area)),\n",
    "                    data=aoi, family=\"poisson\", \n",
    "                    burnin=100000, n.sample=300000, thin=100, n.chains=3, n.cores=3)\n",
    "\n",
    "\n",
    "m1_carbayes\n",
    "m1_carbayes$modelfit\n",
    "aoi_sp$carm1 <- m1_carbayes$fitted.values\n",
    "moran.mc(x=residuals(m1_carbayes), listw=W.list, nsim=1000)\n",
    "```"
   ]
  },
  {
   "cell_type": "markdown",
   "id": "e381cfb9",
   "metadata": {},
   "source": [
    "```r\n",
    "#Leroux=proper\n",
    "cariid <- S.CARleroux(formula=lands_rec ~ 1 + RainfallDaysmean + elev_mean + slope_mean + offset(log(area)),\n",
    "                      data=aoi, family=\"poisson\", W=W.mat,rho=0.5,\n",
    "                      burnin=100000, n.sample=300000, thin=100, n.chains=3, n.cores=3)\n",
    "cariid\n",
    "cariid$modelfit\n",
    "plot( cariid$samples$rho, bty = 'n' )\n",
    "summary(cariid$samples)\n",
    "summary.beta <- summary(cariid$samples$beta, quantiles=c(0.025, 0.975))\n",
    "beta.mean <- summary.beta$statistics[ ,\"Mean\"]\n",
    "beta.ci <- summary.beta$quantiles\n",
    "beta.results <- cbind(beta.mean, beta.ci)\n",
    "rownames(beta.results) <- colnames(cariid$X)\n",
    "round(beta.results, 5)\n",
    "aoi_sp$cariid <- cariid$fitted.values\n",
    "aoi_sp$cariid_res <- cariid$residuals\n",
    "moran.mc(x=residuals(cariid), listw=W.list, nsim=1000)\n",
    "```"
   ]
  },
  {
   "cell_type": "markdown",
   "id": "feea34b9",
   "metadata": {},
   "source": [
    "```r\n",
    "#Leroux=ICAR\n",
    "caricar <- S.CARleroux(formula=lands_rec ~ 1 + RainfallDaysmean + elev_mean + slope_mean + offset(log(area)),\n",
    "                       data=aoi, family=\"poisson\", W=W.mat,rho=1,\n",
    "                       burnin=100000, n.sample=300000, thin=100, n.chains=3, n.cores=3)\n",
    "caricar\n",
    "caricar$modelfit\n",
    "summary(caricar$samples)\n",
    "summary.beta <- summary(caricar$samples$beta, quantiles=c(0.025, 0.975))\n",
    "beta.mean <- summary.beta$statistics[ ,\"Mean\"]\n",
    "beta.ci <- summary.beta$quantiles\n",
    "beta.results <- cbind(beta.mean, beta.ci)\n",
    "rownames(beta.results) <- colnames(caricar$X)\n",
    "round(beta.results, 5)\n",
    "aoi_sp$caricar <- caricar$fitted.values\n",
    "aoi_sp$caricar_res <- caricar$residuals\n",
    "moran.mc(x=residuals(caricar), listw=W.list, nsim=1000)\n",
    "```"
   ]
  },
  {
   "cell_type": "markdown",
   "id": "f8bc053b",
   "metadata": {},
   "source": [
    "```r\n",
    "#BYM\n",
    "carbym <- S.CARbym(formula=lands_rec ~ 1 + RainfallDaysmean + elev_mean + slope_mean + offset(log(area)),\n",
    "                   data=aoi, family=\"poisson\", W=W.mat,\n",
    "                   burnin=100000, n.sample=300000, thin=100, n.chains=3, n.cores=3)\n",
    "carbym\n",
    "carbym$modelfit\n",
    "plot( carbym$samples$rho, bty = 'n' )\n",
    "summary(carbym$samples)\n",
    "summary.beta <- summary(carbym$samples$beta, quantiles=c(0.025, 0.975))\n",
    "beta.mean <- summary.beta$statistics[ ,\"Mean\"]\n",
    "beta.ci <- summary.beta$quantiles\n",
    "beta.results <- cbind(beta.mean, beta.ci)\n",
    "rownames(beta.results) <- colnames(carbym$X)\n",
    "round(beta.results, 5)\n",
    "aoi$carbym <- carbym$fitted.values\n",
    "aoi$carbym_res <- carbym$residuals\n",
    "moran.mc(x=residuals(carbym), listw=W.list, nsim=1000)\n",
    "```"
   ]
  },
  {
   "cell_type": "markdown",
   "id": "8f945517",
   "metadata": {},
   "source": [
    "```r\n",
    "carleroux <- S.CARleroux(formula=lands_rec ~ 1 + RainfallDaysmean + elev_mean + slope_mean + offset(log(area)),\n",
    "                  data=aoi, family=\"poisson\", W=W.mat,\n",
    "                  burnin=100000, n.sample=300000, thin=100, n.chains=3, n.cores=3)\n",
    "carleroux\n",
    "carleroux$modelfit\n",
    "plot( carleroux$samples$rho, bty = 'n' )\n",
    "summary(carleroux$samples)\n",
    "summary.beta <- summary(carleroux$samples$beta, quantiles=c(0.025, 0.975))\n",
    "beta.mean <- summary.beta$statistics[ ,\"Mean\"]\n",
    "beta.ci <- summary.beta$quantiles\n",
    "beta.results <- cbind(beta.mean, beta.ci)\n",
    "rownames(beta.results) <- colnames(carleroux$X)\n",
    "round(beta.results, 5)\n",
    "aoi_sp$carleroux <- carleroux$fitted.values\n",
    "aoi$carleroux_res <- carleroux$residuals\n",
    "moran.mc(x=residuals(carleroux), listw=W.list, nsim=1000)\n",
    "```"
   ]
  },
  {
   "cell_type": "markdown",
   "id": "0e83defc",
   "metadata": {},
   "source": [
    "```r\n",
    "ggplot() + geom_sf(data=aoi,aes(fill=carbym),color = \"black\") +\n",
    "  annotation_scale(location=\"br\",style = \"ticks\") +\n",
    "  annotation_north_arrow(location = \"tr\",which_north = \"true\", height = unit(1, \"cm\"), width = unit(1, \"cm\"),) +\n",
    "  scale_fill_gradientn(colors=c(\"white\",\"red\"),name = \"Landslides\") +\n",
    "  theme_bw() +\n",
    "  theme(\n",
    "    panel.grid.major = element_blank(), \n",
    "    panel.grid.minor = element_blank(),\n",
    "    panel.border = element_rect(color = \"black\",fill = NA,size = 1),\n",
    "    axis.ticks.length=unit(-0.1, \"cm\"),\n",
    "    axis.text.x = element_text(size = 10, margin = unit(c(t = 1, r = 0, b = 0, l = 0), \"mm\")),\n",
    "    axis.text.y = element_text(size = 10, margin = unit(c(t = 0, r = 1, b = 0, l = 0), \"mm\")),\n",
    "    legend.text = element_text(size=12),\n",
    "    legend.title.align = 0,\n",
    "    legend.position = c(0.34,0.9), \n",
    "    legend.key.size = unit(0.5, 'cm'),\n",
    "    legend.justification = \"center\",\n",
    "    legend.direction = \"horizontal\",\n",
    "    legend.title = element_text(size=14, vjust = .8, hjust = .5))\n",
    "```"
   ]
  },
  {
   "cell_type": "markdown",
   "id": "b93b1282",
   "metadata": {},
   "source": [
    "##### con INLA"
   ]
  },
  {
   "cell_type": "markdown",
   "id": "ccdb0d0e",
   "metadata": {
    "vscode": {
     "languageId": "plaintext"
    }
   },
   "source": [
    "```r\n",
    "#Spatial matrix\n",
    "aoi.nb <- poly2nb(aoi) #Queen matrix\n",
    "aoi.mat <- as(nb2mat(aoi.nb, style = \"B\"), \"Matrix\")\n",
    "aoi.listw = nb2listw(aoi.nb)\n",
    "colnames(aoi.mat) <- rownames(aoi.mat) \n",
    "mat <- as.matrix(aoi.mat[1:dim(aoi.mat)[1], 1:dim(aoi.mat)[1]])\n",
    "```"
   ]
  },
  {
   "cell_type": "markdown",
   "id": "ffe7fdb5",
   "metadata": {},
   "source": [
    "```r\n",
    "#Graph\n",
    "nb2INLA(\"cl_graph\",aoi.nb)\n",
    "am_adj <-paste(getwd(),\"G:/My Drive/INVESTIGACION/POSDOC/Figuras3/inla.graph\",sep=\"\")\n",
    "H<-inla.read.graph(filename=\"G:/My Drive/INVESTIGACION/POSDOC/Figuras3/inla.graph\")\n",
    "image(inla.graph2matrix(H), xlab = \"\", ylab = \"\")\n",
    "```"
   ]
  },
  {
   "cell_type": "markdown",
   "id": "01e08acb",
   "metadata": {},
   "source": [
    "```r\n",
    "summary(m1_inla)\n",
    "aoi$m1_inla <- m1_inla$summary.fitted[1:nrow(aoi), \"mean\"]\n",
    "res_pearson_m1 <- (aoi$lands_rec - m1_inla$summary.fitted.values$mean) / sqrt(m1_inla$summary.fitted.values$mean)\n",
    "aoi$res_pearson_m1 <- res_pearson_m1\n",
    "moran_m1 <- moran.mc(x = res_pearson_m1, listw = aoi.listw,nsim = 999, alternative = \"greater\")\n",
    "```"
   ]
  },
  {
   "cell_type": "markdown",
   "id": "38dba066",
   "metadata": {},
   "source": [
    "```r\n",
    "#basic random intercept (cuenca)\n",
    "m2_cuenca <- inla(lands_rec ~ 1 + RainfallDaysmean + elev_mean + slope_mean + \n",
    "           f(cuenca, model = \"iid\"),\n",
    "           offset=log(area), data = as.data.frame(aoi), family = \"poisson\", \n",
    "           control.predictor = list(compute = TRUE),\n",
    "           control.compute = list(dic = TRUE, waic = TRUE))\n",
    "\n",
    "summary(m2_cuenca)\n",
    "m2_cuenca$summary.random$cuenca\n",
    "aoi$m2_cuenca <- m2_cuenca$summary.fitted[1:nrow(aoi), \"mean\"]\n",
    "res_pearson_m2 <- (aoi$lands_rec - m2_cuenca$summary.fitted.values$mean) / sqrt(m2_cuenca$summary.fitted.values$mean)\n",
    "aoi$res_pearson_m2 <- res_pearson_m2\n",
    "moran_m2 <- moran.mc(x = res_pearson_m2, listw = aoi.listw,nsim = 999, alternative = \"greater\")\n",
    "```"
   ]
  },
  {
   "cell_type": "markdown",
   "id": "bdeff69e",
   "metadata": {},
   "source": [
    "```r\n",
    "# ICAR model\n",
    "m3_icar <- inla(formula = lands_rec ~ 1 + RainfallDaysmean + elev_mean + slope_mean + \n",
    "                  f(cuenca, model = \"iid\") +\n",
    "                  f(id, model = \"besag\", graph = aoi.mat),\n",
    "                  offset=log(area), data = as.data.frame(aoi), family =\"poisson\",\n",
    "                  control.predictor = list(compute = TRUE),\n",
    "                  control.compute = list(dic = TRUE, waic = TRUE))\n",
    "\n",
    "summary(m3_icar)\n",
    "m3_icar$summary.random$cuenca\n",
    "aoi$ICAR <- m3_icar$summary.fitted[1:nrow(aoi), \"mean\"]\n",
    "res_pearson_m3 <- (aoi$lands_rec - m3_icar$summary.fitted.values$mean) / sqrt(m3_icar$summary.fitted.values$mean)\n",
    "aoi$res_pearson_m3 <- res_pearson_m3\n",
    "moran_m3 <- moran.mc(x = res_pearson_m3, listw = aoi.listw,nsim = 999, alternative = \"greater\")\n",
    "```"
   ]
  },
  {
   "cell_type": "markdown",
   "id": "5c172d18",
   "metadata": {},
   "source": [
    "```r\n",
    "# BYM model\n",
    "m4_bym<-inla(formula = lands_rec ~ 1 + RainfallDaysmean + elev_mean + slope_mean +\n",
    "           f(cuenca, model = \"iid\") +\n",
    "           f(id, model = \"bym\",graph = aoi.mat), \n",
    "           offset=log(area), data = as.data.frame(aoi), family = \"poisson\",\n",
    "           control.compute = list(dic = TRUE, waic=T), \n",
    "           control.predictor = list(compute = TRUE))\n",
    "\n",
    "summary(m4_bym)\n",
    "m4_bym$summary.random$cuenca\n",
    "aoi$BYM <- m4_bym$summary.fitted[1:nrow(aoi), \"mean\"]\n",
    "aoi_sp$BYM <- m4_bym$summary.fitted.values[, \"mean\"]\n",
    "res_pearson_m4 <- (aoi$lands_rec - m4_bym$summary.fitted.values$mean) / sqrt(m4_bym$summary.fitted.values$mean)\n",
    "aoi$res_pearson_m4 <- res_pearson_m4\n",
    "moran_m4 <- moran.mc(x = res_pearson_m4, listw = aoi.listw,nsim = 999, alternative = \"greater\")\n",
    "```"
   ]
  },
  {
   "cell_type": "markdown",
   "id": "60e3979e",
   "metadata": {},
   "source": [
    "```r\n",
    "#Leroux et al. model\n",
    "m5_leroux <- Diagonal(nrow(aoi.mat), apply(aoi.mat, 1, sum)) - aoi.mat\n",
    "Cmatrix <- Diagonal(nrow(aoi), 1) -  m5_leroux\n",
    "max(eigen(Cmatrix)$values) #just to check =1\n",
    "\n",
    "m5_ler = inla(formula = lands_rec ~ 1 + RainfallDaysmean + elev_mean + slope_mean +\n",
    "                f(cuenca, elev_mean, model = \"iid\") +\n",
    "                f(id, model = \"generic1\", Cmatrix = Cmatrix),\n",
    "                offset=log(area), data = as.data.frame(aoi), family =\"poisson\",\n",
    "                control.predictor = list(compute = TRUE),\n",
    "                control.compute = list(dic = TRUE, waic = TRUE))\n",
    "\n",
    "summary(m5_ler)\n",
    "m5_ler$summary.random$cuenca\n",
    "aoi$LEROUX <- m5_ler$summary.fitted[1:nrow(aoi), \"mean\"]\n",
    "res_pearson_m5 <- (aoi$lands_rec - m5_ler$summary.fitted.values$mean) / sqrt(m5_ler$summary.fitted.values$mean)\n",
    "aoi$res_pearson_m5 <- res_pearson_m5\n",
    "moran_m5 <- moran.mc(x = res_pearson_m5, listw = aoi.listw,nsim = 999, alternative = \"greater\")\n",
    "```"
   ]
  },
  {
   "cell_type": "markdown",
   "id": "2f7e076f",
   "metadata": {},
   "source": [
    "```r\n",
    "cuenca_colors <- c(\"Atrato\" = \"green\", \"Cauca\" = \"red\", \"Magdalena\" = \"blue\")\n",
    "\n",
    "p1 <- ggplot() + \n",
    "  geom_sf(data = aoi, aes(fill = res_pearson_m1, color = cuenca), size = 0.7) +\n",
    "  scale_color_manual(values = cuenca_colors, guide = \"none\") +\n",
    "  scale_fill_gradient2(\n",
    "    low = \"yellow\", mid = \"white\", high = \"purple\", midpoint = 0,\n",
    "    name = \"Res. Pearson\"\n",
    "  ) +\n",
    "  annotation_scale(\n",
    "    location = \"br\", style = \"ticks\",\n",
    "    text_cex = 1.0  # Tamaño de fuente en escala\n",
    "  ) +\n",
    "  annotation_north_arrow(\n",
    "    location = \"tr\", which_north = \"true\",\n",
    "    height = unit(1, \"cm\"), width = unit(1, \"cm\"),\n",
    "    pad_x = unit(0.1, \"cm\"), pad_y = unit(0.1, \"cm\")\n",
    "  ) +\n",
    "  theme_bw() +\n",
    "  theme(\n",
    "    legend.position = c(0.3, 0.9),\n",
    "    legend.direction = \"horizontal\",\n",
    "    legend.title = element_text(size = 12),\n",
    "    legend.text = element_text(size = 11),\n",
    "    legend.key.height = unit(0.4, \"cm\"),\n",
    "    legend.key.width = unit(0.5, \"cm\"),\n",
    "    axis.text = element_text(size = 11),          # Coordenadas del mapa\n",
    "    axis.title = element_text(size = 13),         # Si decides añadir títulos\n",
    "    panel.grid.major = element_blank(),\n",
    "    panel.grid.minor = element_blank(),\n",
    "    plot.title = element_blank()\n",
    "  )\n",
    "\n",
    "p2 <- ggplot(aoi, aes(x = cuenca, y = res_pearson_m1, fill = cuenca)) +\n",
    "  geom_boxplot(notch = TRUE, outlier.shape = 1) +\n",
    "  scale_fill_manual(values = cuenca_colors) +\n",
    "  theme_bw() +\n",
    "  labs(\n",
    "    y = \"Res. Pearson\", x = \"\"  # Etiqueta eje Y\n",
    "  ) +\n",
    "  theme(\n",
    "    legend.position = \"none\",\n",
    "    plot.title = element_blank(),\n",
    "    axis.text.x = element_text(size = 12),         # Etiquetas cuenca\n",
    "    axis.text.y = element_text(size = 10),         # Ticks eje Y\n",
    "    axis.title.y = element_text(size = 12),  # Título eje Y\n",
    "    aspect.ratio = 1.95\n",
    "  )\n",
    "\n",
    "combined_plot <- plot_grid(p1, p2, ncol = 2, rel_widths = c(1.2, 0.8))\n",
    "\n",
    "final_plot <- ggdraw(combined_plot) +\n",
    "  draw_plot_label(\n",
    "    label = c(\"A\", \"B\"),\n",
    "    x = c(0.1, 0.7), y = c(0.92, 0.92),\n",
    "    hjust = 0, vjust = 1,\n",
    "    fontface = \"bold\", size = 14)\n",
    "\n",
    "print(final_plot)\n",
    "```"
   ]
  },
  {
   "cell_type": "markdown",
   "id": "ac8feac3",
   "metadata": {},
   "source": [
    "Para añadir coeficientes aleatorios espaciales (p. ej. para la pendiente) en un modelo CAR con INLA, lo más sencillo es definir un segundo campo latente que modere justamente ese covariable. La idea es que en la fórmula incluyas:\n",
    "\n",
    "Un campo latente para el intercepto espacial (como ya haces con f(id, model=\"besag\", graph=graph)), y\n",
    "\n",
    "Un campo latente “pesado” por la covariable cuya pendiente quieres aleatorizar (por ejemplo slope_mean)."
   ]
  },
  {
   "cell_type": "markdown",
   "id": "109d3cb4",
   "metadata": {},
   "source": [
    "```r\n",
    "# Primero, crea dos índices idénticos (uno para intercepto y otro para pendiente)\n",
    "aoi$id_int   <- 1:nrow(aoi)\n",
    "aoi$id_slope <- aoi$id_int\n",
    "\n",
    "# Ahora la fórmula:\n",
    "m6_spatial_slope <- inla(\n",
    "  lands_rec ~\n",
    "    1\n",
    "    + RainfallDaysmean\n",
    "    + elev_mean\n",
    "    + slope_mean                  # efecto fijo de la pendiente\n",
    "    + f(cuenca, model=\"iid\")      # efecto aleatorio no espacial por cuenca\n",
    "    + f(id_int,   model=\"besag\", graph=cl_graph)              # intercepto espacial\n",
    "    + f(id_slope, slope_mean,      model=\"besag\", graph=cl_graph),  # pendiente espacial\n",
    "  offset = log(area),\n",
    "  family = \"poisson\",\n",
    "  data = aoi,\n",
    "  control.predictor = list(compute = TRUE),\n",
    "  control.compute   = list(dic = TRUE, waic = TRUE)\n",
    ")\n",
    "```\n"
   ]
  },
  {
   "cell_type": "markdown",
   "id": "baea21e6",
   "metadata": {},
   "source": [
    "Si tu objetivo fuera que la pendiente de slope_mean variara entre cuencas (no dentro de ellas), basta con usar el índice cuenca en lugar de id_slope. Por ejemplo:"
   ]
  },
  {
   "cell_type": "markdown",
   "id": "4b7aef90",
   "metadata": {},
   "source": [
    "```r\n",
    "m7_basin_slope <- inla(\n",
    "  lands_rec ~\n",
    "    1 +\n",
    "    RainfallDaysmean +\n",
    "    elev_mean +\n",
    "    slope_mean +\n",
    "    f(cuenca,   model=\"iid\") +                         # intercepto por cuenca\n",
    "    f(cuenca, slope_mean, model=\"iid\"),                # pendiente aleatoria por cuenca\n",
    "  offset = log(area),\n",
    "  family = \"poisson\",\n",
    "  data = aoi,\n",
    "  control.predictor = list(compute=TRUE),\n",
    "  control.compute   = list(dic=TRUE, waic=TRUE)\n",
    ")\n",
    "```\n"
   ]
  },
  {
   "cell_type": "markdown",
   "id": "dab36ddf",
   "metadata": {},
   "source": [
    "Para incluir a la vez\n",
    "\n",
    "* Intercepto aleatorio por cuenca,\n",
    "\n",
    "* Pendientes aleatorias por cuenca para cada covariable, y\n",
    "\n",
    "* Un efecto CAR espacial a nivel de ID (cada polígono)\n",
    "\n",
    "puedes usar una fórmula como esta en R‑INLA. Supongamos que ya tienes en tu data.frame aoi:"
   ]
  },
  {
   "cell_type": "markdown",
   "id": "04851546",
   "metadata": {},
   "source": [
    "```r\n",
    "# índice numérico de cuenca (1,2,3)  \n",
    "aoi$basin_id <- as.integer(aoi$cuenca)  \n",
    "# índice numérico de polígono (ID)  \n",
    "aoi$id        <- 1:nrow(aoi)\n",
    "```\n"
   ]
  },
  {
   "cell_type": "markdown",
   "id": "c7cc0a6b",
   "metadata": {},
   "source": [
    "```r\n",
    "m_complex <- inla(\n",
    "  lands_rec ~\n",
    "    1\n",
    "    + RainfallDaysmean          # efecto fijo\n",
    "    + elev_mean                 # efecto fijo\n",
    "    + slope_mean                # efecto fijo\n",
    "\n",
    "    # 1) Intercepto aleatorio por cuenca\n",
    "    + f(basin_id, model=\"iid\")\n",
    "\n",
    "    # 2) Pendientes aleatorias por cuenca\n",
    "    + f(basin_id, RainfallDaysmean, model=\"iid\")\n",
    "    + f(basin_id, elev_mean,        model=\"iid\")\n",
    "    + f(basin_id, slope_mean,       model=\"iid\")\n",
    "\n",
    "    # 3) Efecto espacial CAR a nivel de polígono\n",
    "    + f(id, model=\"besag\", graph=cl_graph),\n",
    "\n",
    "  data = aoi,\n",
    "  family = \"poisson\",\n",
    "  offset = log(area),\n",
    "  control.predictor = list(compute = TRUE),\n",
    "  control.compute   = list(dic = TRUE, waic = TRUE)\n",
    ")\n",
    "```\n"
   ]
  }
 ],
 "metadata": {
  "language_info": {
   "codemirror_mode": {
    "name": "ipython",
    "version": 3
   },
   "file_extension": ".py",
   "mimetype": "text/x-python",
   "name": "python",
   "nbconvert_exporter": "python",
   "pygments_lexer": "ipython3",
   "version": "3.11.4"
  }
 },
 "nbformat": 4,
 "nbformat_minor": 5
}