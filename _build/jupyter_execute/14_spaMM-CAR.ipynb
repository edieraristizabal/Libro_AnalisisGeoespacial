{
 "cells": [
  {
   "cell_type": "markdown",
   "id": "abb92744",
   "metadata": {},
   "source": [
    "**CURSO**: Análisis Geoespacial, Departamento de Geociencias y Medio Ambiente, Universidad Nacional de Colombia - sede Medellín\\\n",
    "**Profesor**: Edier Aristizábal ([evaristizabalg\\@unal.edu.co](mailto:evaristizabalg@unal.edu.co){.email})\\\n",
    "**Credits**: The content of this notebook is based on [datascience+](https://datascienceplus.com/spatial-regression-in-r-part-1-spamm-vs-glmmtmb/) by Lionel Hertzog\n",
    "\n",
    "# Spatial Generalised Linear Mixed Models for Areal Unit Data: spaMM\n",
    "\n",
    "## Modelo no espacial\n",
    "\n",
    "A continuación se presenta un ejemplo donde incluso si hay un patrón espacial en los datos, esto no significa que deban usarse modelos de regresión espacial. En algunos casos, los patrones espaciales en la variable respuesta son generados por patrones espaciales presentes en las covariables, como el gradiente de temperatura, la elevación, etc. Una vez que tomamos en cuenta el efecto de estas covariables, los patrones espaciales en la variable respuesta desaparecen."
   ]
  },
  {
   "cell_type": "code",
   "execution_count": 1,
   "id": "e955b5e5",
   "metadata": {},
   "outputs": [
    {
     "ename": "SyntaxError",
     "evalue": "invalid syntax (3471957219.py, line 12)",
     "output_type": "error",
     "traceback": [
      "\u001b[1;36m  Cell \u001b[1;32mIn[1], line 12\u001b[1;36m\u001b[0m\n\u001b[1;33m    dat$temperature <- raster::extract(temp, dat)\u001b[0m\n\u001b[1;37m       ^\u001b[0m\n\u001b[1;31mSyntaxError\u001b[0m\u001b[1;31m:\u001b[0m invalid syntax\n"
     ]
    }
   ],
   "source": [
    "# load libraries\n",
    "library(tidyverse)\n",
    "library(gridExtra)\n",
    "library(NLMR)\n",
    "library(DHARMa)\n",
    "\n",
    "# simulate a random temperature gradient\n",
    "temp <- nlm_distancegradient(ncol = 100, nrow = 100, origin = c(1,10,1,10), rescale = TRUE)\n",
    "\n",
    "# extract the temperature values at 100 random points\n",
    "dat <- data.frame(x = runif(100,0,100), y = runif(100,0,100))\n",
    "dat$temperature <- raster::extract(temp, dat)\n",
    "\n",
    "# simulate tree height\n",
    "dat$height <- 20 + 35 * dat$temperature + rnorm(100)\n",
    "\n",
    "# plot spatial pattern in tree height\n",
    "ggplot(dat, aes(x = x, y = y, size = height)) +\n",
    "  geom_point() +\n",
    "  scale_size_continuous(range = c(1,10))"
   ]
  },
  {
   "cell_type": "code",
   "execution_count": null,
   "id": "1c843760",
   "metadata": {},
   "outputs": [],
   "source": [
    "# fit a non-spatial model\n",
    "m_non <- lm(height ~ temperature, dat)"
   ]
  },
  {
   "cell_type": "code",
   "execution_count": null,
   "id": "1b74c584",
   "metadata": {},
   "outputs": [],
   "source": [
    "# formal test\n",
    "sims <- simulateResiduals(m_non)\n",
    "testSpatialAutocorrelation(sims, x = dat$x, y = dat$y, plot = FALSE)"
   ]
  },
  {
   "cell_type": "markdown",
   "id": "b0b0f346",
   "metadata": {},
   "source": [
    "## Modelo espacial"
   ]
  },
  {
   "cell_type": "code",
   "execution_count": null,
   "id": "1c13a758",
   "metadata": {},
   "outputs": [],
   "source": [
    "library(geoR)\n",
    "library(viridis)\n",
    "data(ca20)\n",
    "# put this in a data frame\n",
    "dat <- data.frame(x = ca20$coords[,1], y = ca20$coords[,2], calcium = ca20$data, elevation = ca20$covariate[,1], region = factor(ca20$covariate[,2]))\n",
    "\n",
    "# plot the data\n",
    "ggplot(dat, aes(x=x, y = y, color =calcium, shape = region)) +\n",
    "  geom_point() +\n",
    "  scale_color_viridis(option = \"A\")"
   ]
  },
  {
   "cell_type": "code",
   "execution_count": null,
   "id": "acd1bea3",
   "metadata": {},
   "outputs": [],
   "source": [
    "# fit a no-spatial model\n",
    "m_lm <- lm(calcium ~ elevation + region, dat)\n",
    "# test for spatial autocorrelation\n",
    "sims <- simulateResiduals(m_lm)\n",
    "testSpatialAutocorrelation(sims, dat$x, dat$y, plot = FALSE)"
   ]
  },
  {
   "cell_type": "code",
   "execution_count": null,
   "id": "b24a3d2b",
   "metadata": {},
   "outputs": [],
   "source": [
    "library(spaMM)\n",
    "# fit the model\n",
    "m_spamm <- fitme(calcium ~ elevation + region + Matern(1 | x + y), data = dat, family = \"gaussian\") # this take a bit of time\n",
    "# model summary\n",
    "summary(m_spamm)"
   ]
  },
  {
   "cell_type": "markdown",
   "id": "b97d69b0",
   "metadata": {},
   "source": [
    "Hay dos salidas principales de interés aquí: la primera son los **efectos fijos (beta)**, que son los parámetros de regresión estimados (pendientes). Luego, el parámetro de correlación **nu** y **rho** que representan la fuerza y la velocidad de decaimiento del efecto espacial. Podemos convertir esto en el efecto de correlación espacial real al graficar la correlación estimada entre dos ubicaciones en función de su distancia.\n",
    "\n",
    "Aquí desglosamos un poco más la terminología:\n",
    "\n",
    "-   **Efectos fijos (beta):** En este contexto, los efectos fijos se refieren a los coeficientes estimados en la regresión lineal. Representan el cambio promedio en la variable respuesta por unidad de cambio en una variable predictora, suponiendo que todas las demás variables permanecen constantes.\n",
    "-   **Parámetro de correlación nu (nu):** Nu es un parámetro que controla la fuerza de la autocorrelación espacial. Un valor de nu cercano a 1 indica una autocorrelación espacial fuerte, mientras que un valor cercano a 0 indica una autocorrelación espacial débil o inexistente.\n",
    "-   **Parámetro de correlación rho (rho):** Rho es otro parámetro que controla la autocorrelación espacial, pero también afecta la velocidad a la que la correlación decae con la distancia. Un valor de rho positivo indica una autocorrelación espacial positiva (ubicaciones cercanas tienen valores similares), mientras que un valor negativo indica una autocorrelación espacial negativa (ubicaciones cercanas tienen valores diferentes). El valor absoluto de rho determina la rapidez con que la correlación decae con la distancia. Un valor cercano a 1 indica un decaimiento lento, mientras que un valor cercano a 0 indica un decaimiento rápido.\n",
    "\n",
    "En resumen, el análisis proporciona información sobre la relación entre las variables predictoras y la variable respuesta, teniendo en cuenta la autocorrelación espacial. Los efectos fijos (beta) indican la fuerza de las relaciones lineales, mientras que los parámetros nu y rho cuantifican la autocorrelación espacial y su decaimiento con la distancia. Para visualizar completamente el efecto de correlación espacial, se recomienda graficar la correlación estimada entre dos ubicaciones en función de su distancia."
   ]
  },
  {
   "cell_type": "code",
   "execution_count": null,
   "id": "27937819",
   "metadata": {},
   "outputs": [],
   "source": [
    "dd <- dist(dat[,c(\"x\",\"y\")])\n",
    "mm <- MaternCorr(dd, nu = 0.43, rho = 0.01)\n",
    "plot(as.numeric(dd), as.numeric(mm), xlab = \"Distance between pairs of location [in m]\", ylab = \"Estimated correlation\")"
   ]
  },
  {
   "cell_type": "code",
   "execution_count": null,
   "id": "da6e346f",
   "metadata": {},
   "outputs": [],
   "source": [
    "sims <- simulateResiduals(m_spamm)\n",
    "plot(sims)"
   ]
  },
  {
   "cell_type": "code",
   "execution_count": null,
   "id": "dda27c1e",
   "metadata": {},
   "outputs": [],
   "source": [
    "# the effect of elevation\n",
    "newdat <- expand.grid(x = 5000, y = 5200, elevation = seq(3, 7, length.out = 10), region = factor(1, levels = c(1:3)))\n",
    "\n",
    "newdat$calcium <- as.numeric(predict(m_spamm, newdat, re.form = NA)) # re.form = NA used to remove spatial effects\n",
    "newdat$calcium <- newdat$calcium + mean(c(0,fixef(m_spamm)[3:4])) # to remove region effect\n",
    "# get 95% confidence intervals around predictions\n",
    "newdat <- cbind(newdat, get_intervals(m_spamm, newdata = newdat, intervals = \"fixefVar\", re.form = NA) + mean(c(0,fixef(m_spamm)[3:4])))\n",
    "\n",
    "\n",
    "gg1 <- ggplot(dat, aes(x = elevation, y = calcium)) +\n",
    "  geom_point() +\n",
    "  geom_path(data = newdat) +\n",
    "  geom_ribbon(data = newdat, aes(ymin = fixefVar_0.025, ymax = fixefVar_0.975), alpha = 0.2)\n",
    "\n",
    "# now for region effect\n",
    "newdat <- data.frame(x = 5000, y = 5200, elevation = mean(dat$elevation), region = factor(1:3)) # averaging out elevation effect\n",
    "newdat$calcium <- as.numeric(predict(m_spamm, newdat, re.form = NA))\n",
    "# get 95% CI\n",
    "newdat <- cbind(newdat,get_intervals(m_spamm, newdata = newdat, intervals = \"fixefVar\", re.form = NA))\n",
    "\n",
    "gg2 <- ggplot(dat, aes(x = region, y = calcium)) +\n",
    "  geom_jitter() +\n",
    "  geom_point(data = newdat, color = \"red\", size = 2) +\n",
    "  geom_linerange(data = newdat, aes(ymin = fixefVar_0.025, ymax = fixefVar_0.975), color = \"red\")\n",
    "\n",
    "# plot together\n",
    "grid.arrange(gg1, gg2, ncol = 2)"
   ]
  },
  {
   "cell_type": "markdown",
   "id": "559bfcc1",
   "metadata": {},
   "source": [
    "Ahora podemos predecir el efecto de la elevación y la región sobre la variable respuesta, teniendo en cuenta los efectos espaciales.\n",
    "\n",
    "Esto significa que podemos utilizar el modelo de regresión espacial para estimar el impacto de la elevación y la región en la variable de respuesta, incluso después de considerar la autocorrelación espacial entre las mediciones. Al controlar los efectos espaciales, podemos aislar el efecto directo de la elevación y la región en la variable que estamos estudiando."
   ]
  },
  {
   "cell_type": "code",
   "execution_count": null,
   "id": "fc82e27b",
   "metadata": {},
   "outputs": [],
   "source": [
    "library(fields)\n",
    "library(raster)\n",
    "# derive a DEM\n",
    "elev_m <- Tps(dat[,c(\"x\",\"y\")], dat$elevation)"
   ]
  },
  {
   "cell_type": "code",
   "execution_count": null,
   "id": "3d214cb7",
   "metadata": {},
   "outputs": [],
   "source": [
    "r <- raster(xmn = 4950, xmx = 5970, ymn = 4800, ymx = 5720, resolution = 10)\n",
    "elev <- interpolate(r, elev_m)\n",
    "\n",
    "# for the region info use the limits given in ca20\n",
    "pp <- SpatialPolygons(list(Polygons(list(Polygon(ca20$reg1)), ID = \"reg1\"),Polygons(list(Polygon(ca20$reg2)), ID = \"reg2\"), Polygons(list(Polygon(ca20$reg3)), ID = \"reg3\")))\n",
    "region <- rasterize(pp, r)\n",
    "\n",
    "# predict at any location\n",
    "newdat <- expand.grid(x = seq(4960, 5960, length.out = 50), y = seq(4830, 5710, length.out = 50))\n",
    "newdat$elevation <- extract(elev, newdat[,1:2])\n",
    "newdat$region <- factor(extract(region, newdat[,1:2]))\n",
    "# remove NAs\n",
    "newdat <- na.omit(newdat)\n",
    "# predict\n",
    "newdat$calcium <- as.numeric(predict(m_spamm, newdat))\n",
    "\n",
    "(gg_spamm <- ggplot(newdat,aes(x=x, y=y, fill = calcium)) +\n",
    "  geom_raster() +\n",
    "  scale_fill_viridis())"
   ]
  }
 ],
 "metadata": {
  "jupytext": {
   "cell_metadata_filter": "-all",
   "main_language": "R",
   "notebook_metadata_filter": "-all",
   "text_representation": {
    "extension": ".Rmd",
    "format_name": "rmarkdown"
   }
  },
  "language_info": {
   "codemirror_mode": {
    "name": "ipython",
    "version": 3
   },
   "file_extension": ".py",
   "mimetype": "text/x-python",
   "name": "python",
   "nbconvert_exporter": "python",
   "pygments_lexer": "ipython3",
   "version": "3.11.4"
  }
 },
 "nbformat": 4,
 "nbformat_minor": 5
}