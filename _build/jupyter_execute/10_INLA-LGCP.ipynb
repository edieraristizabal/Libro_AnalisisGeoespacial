{
 "cells": [
  {
   "cell_type": "markdown",
   "id": "3aad84d3",
   "metadata": {},
   "source": [
    "**Credits**: The content of this notebook is based on [Advanced Spatial Modeling with Stochastic Partial Differential Equations Using R and INLA](https://becarioprecario.bitbucket.io/spde-gitbook/ch-lcox.html).\n",
    "\n",
    "# log-Gaussian Cox process (LGCP)\n",
    "\n",
    "Un patrón de puntos registra la ocurrencia de eventos en una región de estudio. Ejemplos típicos incluyen la ubicación de árboles en un bosque o las coordenadas GPS de casos de enfermedades en una región. Las ubicaciones de los eventos observados dependen de un proceso espacial subyacente, que a menudo se modela utilizando una función de intensidad $\\lambda(s)$. La función de intensidad mide el número promedio de eventos por unidad de espacio, y puede ser modelada para depender de covariables y otros efectos.\n",
    "\n",
    "Bajo el supuesto del modelo de proceso de puntos log-Cox, modelamos la log-intensidad del proceso de Cox con un predictor lineal Gaussiano. En este caso, el proceso log-Cox se conoce como un proceso Cox log-Gaussiano (LGCP, Møller, Syversveen y Waagepetersen 1998), y la inferencia se puede realizar utilizando INLA. Un proceso de Cox es simplemente un nombre para un proceso de Poisson con intensidad variable; por lo tanto, utilizamos la verosimilitud de Poisson. El enfoque original utilizado para ajustar estos modelos en INLA (y en otro software) divide la región de estudio en celdas, que forman una cuadrícula, y cuenta el número de puntos en cada una (Møller y Waagepetersen 2003). Estos conteos pueden modelarse utilizando una verosimilitud de Poisson condicionada a un predictor lineal Gaussiano, y se puede usar INLA para ajustar el modelo (Illian, Sørbye y Rue 2012).\n",
    "\n",
    "En este capítulo nos enfocamos en un nuevo enfoque que considera modelos Stochastic Partial Differential Equation (SPDE) directamente, desarrollado en Simpson et al. (2016). Este enfoque tiene una buena justificación teórica y considera una aproximación directa de la verosimilitud del modelo de proceso de puntos log-Cox. Las observaciones se modelan considerando su ubicación exacta en lugar de agruparlas en celdas. Junto con la flexibilidad para definir una malla, este enfoque puede manejar áreas no rectangulares sin desperdiciar esfuerzo computacional en un área rectangular grande."
   ]
  },
  {
   "cell_type": "code",
   "execution_count": 1,
   "id": "9dd5011f",
   "metadata": {},
   "outputs": [
    {
     "ename": "NameError",
     "evalue": "name 'library' is not defined",
     "output_type": "error",
     "traceback": [
      "\u001b[1;31m---------------------------------------------------------------------------\u001b[0m",
      "\u001b[1;31mNameError\u001b[0m                                 Traceback (most recent call last)",
      "Cell \u001b[1;32mIn[1], line 1\u001b[0m\n\u001b[1;32m----> 1\u001b[0m \u001b[43mlibrary\u001b[49m(spatstat)\n\u001b[0;32m      2\u001b[0m library(RandomFields)\n\u001b[0;32m      3\u001b[0m library(rgeos)\n",
      "\u001b[1;31mNameError\u001b[0m: name 'library' is not defined"
     ]
    }
   ],
   "source": [
    "library(spatstat)\n",
    "library(RandomFields)\n",
    "library(rgeos)"
   ]
  },
  {
   "cell_type": "markdown",
   "id": "09cac396",
   "metadata": {},
   "source": [
    "La función `rLGCP` utiliza la función `GaussRF()` del paquete **RandomFields** (Schlather et al. 2015) para simular desde el campo espacial sobre una cuadrícula. Hay un parámetro interno para controlar la resolución de la cuadrícula, que especificamos para dar 300 píxeles en cada dirección:"
   ]
  },
  {
   "cell_type": "code",
   "execution_count": null,
   "id": "4d3deb02",
   "metadata": {},
   "outputs": [],
   "source": [
    "win <- owin(c(0, 3), c(0, 3))\n"
   ]
  },
  {
   "cell_type": "markdown",
   "id": "f0dab08f",
   "metadata": {},
   "source": [
    "Modelamos la intensidad como\n",
    "\n",
    "$$\n",
    "\\log(\\lambda(s)) = \\beta_0 + S(s),\n",
    "$$\n",
    "\n",
    "donde $\\beta_0$ es un valor fijo y $S(s)$ es un proceso espacial Gaussiano con covarianza de Matérn y media cero. El parámetro $\\beta_0$ puede considerarse como un nivel medio global para la log-intensidad; es decir, la log-intensidad fluctúa alrededor de este valor según el proceso espacial $S(s)$.\n",
    "\n",
    "Si no hay campo espacial, el número esperado de puntos es $e^{\\beta_0}$ multiplicado por el área de la ventana. Esto significa que el número esperado de puntos es:"
   ]
  },
  {
   "cell_type": "code",
   "execution_count": null,
   "id": "0e1bb162",
   "metadata": {},
   "outputs": [],
   "source": [
    "beta0 <- 3\n",
    "exp(beta0) * diff(range(win$x)) * diff(range(win$y))"
   ]
  },
  {
   "cell_type": "markdown",
   "id": "bba04f2e",
   "metadata": {},
   "source": [
    "Por lo tanto, este valor de $\\beta_0$ producirá un número razonable de puntos en las siguientes simulaciones. Si establecemos $\\beta_0$ demasiado bajo, obtendremos casi ningún punto, y no seremos capaces de producir resultados razonables. También es posible utilizar una función en varias covariables, por ejemplo, un GLM.\n",
    "\n",
    "En este taller, utilizamos una función de covarianza de Matérn con $\\nu = 1$. Los otros parámetros son la varianza y la escala. Los siguientes valores para estos parámetros producirán una intensidad suave del proceso puntual:"
   ]
  },
  {
   "cell_type": "code",
   "execution_count": null,
   "id": "387a27e9",
   "metadata": {},
   "outputs": [],
   "source": [
    "sigma2x <- 0.2\n",
    "range <- 1.2\n",
    "nu <- 1"
   ]
  },
  {
   "cell_type": "markdown",
   "id": "8c054d0f",
   "metadata": {},
   "source": [
    "El valor de $\\sigma^2_x$ se establece para hacer que la log-intensidad varíe un poco alrededor de la media, pero siempre dentro de un rango razonable de valores. Además, con estos parámetros $\\nu = 1$ y el rango del proceso espacial $S(s)$ es (aproximadamente) 2, lo que produce cambios suaves en la ventana de estudio actual. Valores más pequeños del rango práctico producirán un proceso espacial $S(s)$ (y, a su vez, la intensidad del proceso espacial) que cambia rápidamente en la ventana de estudio. De manera similar, valores muy grandes del rango práctico producirán un proceso espacial casi constante $S(s)$, de modo que la log-intensidad estará muy cerca de $\\beta_0$ en todos los puntos de la ventana de estudio.\n",
    "\n",
    "Los puntos del proceso puntual se simulan de la siguiente manera:"
   ]
  },
  {
   "cell_type": "code",
   "execution_count": null,
   "id": "15ae1501",
   "metadata": {},
   "outputs": [],
   "source": [
    "set.seed(1)\n",
    "lg.s <- rLGCP('matern', beta0, var = sigma2x,scale = range / sqrt(8), nu = nu, win = win)"
   ]
  },
  {
   "cell_type": "markdown",
   "id": "e5ce6677",
   "metadata": {},
   "source": [
    "Tanto el campo espacial como el patrón de puntos son devueltos. Las coordenadas de los eventos observados del patrón de puntos se pueden obtener de la siguiente manera:"
   ]
  },
  {
   "cell_type": "code",
   "execution_count": null,
   "id": "2b279c74",
   "metadata": {},
   "outputs": [],
   "source": [
    "xy <- cbind(lg.s$x, lg.s$y)[, 2:1]"
   ]
  },
  {
   "cell_type": "markdown",
   "id": "cd69494a",
   "metadata": {},
   "source": [
    "El numero de puntos simulados es:"
   ]
  },
  {
   "cell_type": "code",
   "execution_count": null,
   "id": "07892bcb",
   "metadata": {},
   "outputs": [],
   "source": [
    "(n <- nrow(xy))"
   ]
  },
  {
   "cell_type": "markdown",
   "id": "6c74a3b2",
   "metadata": {},
   "source": [
    "La exponencial de los valores simulados del campo espacial se devuelve como el atributo Lambda del objeto. A continuación, extraemos los valores de λ(s) y resumimos el log(λ(s))."
   ]
  },
  {
   "cell_type": "code",
   "execution_count": null,
   "id": "ed78abe7",
   "metadata": {},
   "outputs": [],
   "source": [
    "Lam <- attr(lg.s, 'Lambda')\n",
    "rf.s <- log(Lam$v)\n",
    "summary(as.vector(rf.s))"
   ]
  },
  {
   "cell_type": "markdown",
   "id": "5e06aef0",
   "metadata": {},
   "source": [
    "Siguiendo a Simpson et al. (2016), los parámetros del modelo de proceso puntual de Cox log-Gaussiano pueden estimarse con INLA.\n",
    "\n",
    "INLA es un paquete que permite ajustar una amplia gama de modelos. Utiliza la aproximación de Laplace para ajustar modelos bayesianos de manera mucho más rápida que algoritmos como MCMC (Cadena de Markov Monte Carlo). INLA permite ajustar modelos geoestadísticos a través de ecuaciones diferenciales parciales estocásticas (EDPE). Puedes encontrar más información sobre esto en estos dos Gitbooks:\n",
    "\n",
    "-   spde-gitbook [<https://becarioprecario.bitbucket.io/spde-gitbook>]\n",
    "-   inla-gitbook [<https://becarioprecario.bitbucket.io/inla-gitbook>]\n",
    "\n",
    "Ajustar un modelo espacial en INLA requiere un conjunto específico de pasos:\n",
    "\n",
    "1.  **Crear una malla:** Se crea una malla para aproximar el efecto espacial. Esta malla discretiza el espacio de estudio en pequeñas unidades (píxeles o celdas) que permiten modelar la variación espacial continua.\n",
    "\n",
    "2.  **Crear una matriz de proyección:** Esta matriz vincula las observaciones puntuales a la malla creada. Básicamente, indica a qué celda de la malla pertenece cada observación.\n",
    "\n",
    "3.  **Definir la ecuación diferencial parcial estocástica (EDPE):** La EDPE describe la relación espacial entre las variables del modelo. Diferentes tipos de EDPE capturan diferentes patrones de dependencia espacial.\n",
    "\n",
    "4.  **Especificar opcionalmente un conjunto de datos para predicciones:** Si deseas realizar predicciones en ubicaciones no observadas, puedes especificar un conjunto de datos adicional que contenga las coordenadas de los puntos de predicción.\n",
    "\n",
    "5.  **Apilar los objetos en un objeto stack:** INLA trabaja con un objeto especial llamado \"stack\" que combina la información de la malla, la matriz de proyección, la EDPE y cualquier otro dato relevante para el modelo.\n",
    "\n",
    "6.  **Ajustar el modelo:** Una vez creado el objeto stack, se utiliza la función `inla()` del paquete INLA para ajustar el modelo y obtener los resultados de la inferencia bayesiana."
   ]
  },
  {
   "cell_type": "code",
   "execution_count": null,
   "id": "68ad34c6",
   "metadata": {},
   "outputs": [],
   "source": [
    "library(\"devtools\")\n",
    "devtools::install_github(repo = \"https://github.com/hrue/r-inla\", ref = \"stable\", subdir = \"rinla\", build = FALSE)"
   ]
  },
  {
   "cell_type": "code",
   "execution_count": null,
   "id": "0741d4b3",
   "metadata": {},
   "outputs": [],
   "source": [
    "inla.upgrade() # for the stable version"
   ]
  },
  {
   "cell_type": "code",
   "execution_count": null,
   "id": "22b3cd0c",
   "metadata": {},
   "outputs": [],
   "source": [
    "library(INLA)"
   ]
  },
  {
   "cell_type": "markdown",
   "id": "1f298aed",
   "metadata": {},
   "source": [
    "En términos simplificados, construiremos un conjunto de datos ampliado y ejecutaremos una regresión de Poisson con INLA. El conjunto de datos ampliado se compone de una respuesta binaria, con 1 para los puntos observados y 0 para algunas observaciones ficticias. Tanto las observaciones reales como las ficticias tendrán valores \"esperados\" o pesos asociados que se incluirán en la regresión de Poisson. Esto se explicará paso a paso en las siguientes secciones.\n",
    "\n",
    "Para una inferencia adecuada con el LGCP, debemos tener cuidado al construir la malla. En el caso particular del análisis de patrones de puntos, generalmente no usamos los puntos de ubicación como nodos de la malla. Necesitamos una malla que cubra la región de estudio; para esto utilizamos `loc.domain` para construir la malla. Además, solo usamos una pequeña primera extensión exterior, pero no una segunda extensión exterior."
   ]
  },
  {
   "cell_type": "code",
   "execution_count": null,
   "id": "2ba38196",
   "metadata": {},
   "outputs": [],
   "source": [
    "loc.d <- 3 * cbind(c(0, 1, 1, 0, 0), c(0, 0, 1, 1, 0))\n",
    "mesh <- inla.mesh.2d(loc.domain = loc.d, offset = c(0.3, 1), \n",
    "  max.edge = c(0.3, 0.7), cutoff = 0.05)\n",
    "nv <- mesh$n"
   ]
  },
  {
   "cell_type": "markdown",
   "id": "33702065",
   "metadata": {},
   "source": [
    "El modelo SPDE se definirá considerando los PC-priors derivados en Fuglstad et al. (2018) para los parámetros del modelo: rango y desviación estándar marginal. Estos se definen de la siguiente manera:"
   ]
  },
  {
   "cell_type": "code",
   "execution_count": null,
   "id": "e57dc7b3",
   "metadata": {},
   "outputs": [],
   "source": [
    "spde <- inla.spde2.pcmatern(mesh = mesh,\n",
    "  # PC-prior on range: P(practic.range < 0.05) = 0.01\n",
    "  prior.range = c(0.05, 0.01),\n",
    "  # PC-prior on sigma: P(sigma > 1) = 0.01\n",
    "  prior.sigma = c(1, 0.01)) "
   ]
  },
  {
   "cell_type": "markdown",
   "id": "c4883b98",
   "metadata": {},
   "source": [
    "El enfoque SPDE para el análisis de patrones puntuales define el modelo en los nodos de la malla. Para ajustar el modelo de proceso puntual de log-Cox, estos puntos se consideran como puntos de integración. El método en Simpson et al. (2016) define que el número esperado de eventos es proporcional al área alrededor del nodo (las áreas de los polígonos en la malla dual). Esto significa que en los nodos de la malla con triángulos más grandes, también hay valores esperados más grandes. El comando `inla.mesh.fem(mesh)$va` proporciona este valor para cada nodo de la malla. Estos valores para los nodos en el dominio interno se pueden usar para calcular la intersección entre los polígonos de la malla dual y el polígono del dominio de estudio. Para ello, utilizamos la función `book.mesh.dual()`:"
   ]
  },
  {
   "cell_type": "code",
   "execution_count": null,
   "id": "90bac8d4",
   "metadata": {},
   "outputs": [],
   "source": [
    "dmesh <- book.mesh.dual(mesh)"
   ]
  },
  {
   "cell_type": "markdown",
   "id": "294397f7",
   "metadata": {},
   "source": [
    "Esta función está disponible en el archivo `spde-book-functions.R` y devuelve la malla dual en un objeto de la clase `SpatialPolygons`. El polígono del dominio se puede convertir en una clase `SpatialPolygons` de la siguiente manera:"
   ]
  },
  {
   "cell_type": "code",
   "execution_count": null,
   "id": "68e28494",
   "metadata": {},
   "outputs": [],
   "source": [
    "domain.polys <- Polygons(list(Polygon(loc.d)), '0')\n",
    "domainSP <- SpatialPolygons(list(domain.polys))"
   ]
  },
  {
   "cell_type": "markdown",
   "id": "e42dc2e8",
   "metadata": {},
   "source": [
    "El vector de pesos que hemos calculado es exactamente lo que necesitamos usar como exposición (E) en la verosimilitud de Poisson en INLA (con la pequeña modificación de que log(E) se define como cero si E=0. Aumentamos el vector de unos para las observaciones (que representan los puntos) con una secuencia de ceros (que representan los nodos de la malla):"
   ]
  },
  {
   "cell_type": "code",
   "execution_count": null,
   "id": "a322f9dc",
   "metadata": {},
   "outputs": [],
   "source": [
    "w <- sapply(1:length(dmesh), function(i) {\n",
    "  if (gIntersects(dmesh[i, ], domainSP))\n",
    "    return(gArea(gIntersection(dmesh[i, ], domainSP)))\n",
    "  else return(0)\n",
    "})"
   ]
  },
  {
   "cell_type": "markdown",
   "id": "7d30e65c",
   "metadata": {},
   "source": [
    "El vector de exposición y la matriz de proyección se definen. Para los puntos de integración, esta es simplemente una matriz diagonal porque estos lugares son solo los vértices de la malla. La matriz de proyección completa es:"
   ]
  },
  {
   "cell_type": "code",
   "execution_count": null,
   "id": "c79efb17",
   "metadata": {},
   "outputs": [],
   "source": [
    "y.pp <- rep(0:1, c(nv, n))\n",
    "e.pp <- c(w, rep(0, n)) \n",
    "imat <- Diagonal(nv, rep(1, nv))\n",
    "lmat <- inla.spde.make.A(mesh, xy)\n",
    "A.pp <- rbind(imat, lmat)"
   ]
  },
  {
   "cell_type": "markdown",
   "id": "01049340",
   "metadata": {},
   "source": [
    "Configuramos el conjunto de datos de la siguiente manera:"
   ]
  },
  {
   "cell_type": "code",
   "execution_count": null,
   "id": "52388270",
   "metadata": {},
   "outputs": [],
   "source": [
    "stk.pp <- inla.stack(\n",
    "  data = list(y = y.pp, e = e.pp), \n",
    "  A = list(1, A.pp),\n",
    "  effects = list(list(b0 = rep(1, nv + n)), list(i = 1:nv)),\n",
    "  tag = 'pp')"
   ]
  },
  {
   "cell_type": "markdown",
   "id": "6743beb5",
   "metadata": {},
   "source": [
    "Las marginales posteriores para todos los parámetros del modelo se obtienen ajustando el modelo con INLA:"
   ]
  },
  {
   "cell_type": "code",
   "execution_count": null,
   "id": "2f65165a",
   "metadata": {},
   "outputs": [],
   "source": [
    "pp.res <- inla(y ~ 0 + b0 + f(i, model = spde), \n",
    "  family = 'poisson', data = inla.stack.data(stk.pp), \n",
    "  control.predictor = list(A = inla.stack.A(stk.pp)), \n",
    "  E = inla.stack.data(stk.pp)$e)\n",
    "\n",
    "pp.res$summary.hyperpar"
   ]
  }
 ],
 "metadata": {
  "jupytext": {
   "cell_metadata_filter": "-all",
   "main_language": "R",
   "notebook_metadata_filter": "-all",
   "text_representation": {
    "extension": ".Rmd",
    "format_name": "rmarkdown"
   }
  },
  "language_info": {
   "codemirror_mode": {
    "name": "ipython",
    "version": 3
   },
   "file_extension": ".py",
   "mimetype": "text/x-python",
   "name": "python",
   "nbconvert_exporter": "python",
   "pygments_lexer": "ipython3",
   "version": "3.11.4"
  }
 },
 "nbformat": 4,
 "nbformat_minor": 5
}