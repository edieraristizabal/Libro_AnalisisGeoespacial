{
 "cells": [
  {
   "cell_type": "markdown",
   "id": "b697b9eb",
   "metadata": {},
   "source": [
    "**CURSO**: Análisis Geoespacial, Departamento de Geociencias y Medio Ambiente, Universidad Nacional de Colombia - sede Medellín\\\n",
    "**Profesor**: Edier Aristizábal ([evaristizabalg\\@unal.edu.co](mailto:evaristizabalg@unal.edu.co){.email})\\\n",
    "**Credits**: The content of this notebook is based on [Jim Clark](https://rpubs.com/jimclark/883880), [CARBayes](https://cran.r-project.org/web/packages/CARBayes/vignettes/CARBayes.pdf), and [CRAN](https://search.r-project.org/CRAN/refmans/CARBayes/html/00Index.html)\n",
    "\n",
    "# Spatial Generalised Linear Mixed Models for Areal Unit Data: CARBayes"
   ]
  },
  {
   "cell_type": "code",
   "execution_count": 1,
   "id": "921b4924",
   "metadata": {},
   "outputs": [
    {
     "ename": "NameError",
     "evalue": "name 'library' is not defined",
     "output_type": "error",
     "traceback": [
      "\u001b[1;31m---------------------------------------------------------------------------\u001b[0m",
      "\u001b[1;31mNameError\u001b[0m                                 Traceback (most recent call last)",
      "Cell \u001b[1;32mIn[1], line 1\u001b[0m\n\u001b[1;32m----> 1\u001b[0m \u001b[43mlibrary\u001b[49m(spBayes)\n\u001b[0;32m      2\u001b[0m library(maps)\n\u001b[0;32m      3\u001b[0m library(RANN)\n",
      "\u001b[1;31mNameError\u001b[0m: name 'library' is not defined"
     ]
    }
   ],
   "source": [
    "library(spBayes)\n",
    "library(maps)\n",
    "library(RANN)\n",
    "library(gjam)\n",
    "library(CARBayes)\n",
    "library(CARBayesdata)\n",
    "library(mgcv)"
   ]
  },
  {
   "cell_type": "code",
   "execution_count": null,
   "id": "de081fde",
   "metadata": {},
   "outputs": [],
   "source": [
    "#### Set up a square lattice region\n",
    "m <- 12\n",
    "xEast  <- 1:m\n",
    "xNorth <- 1:m\n",
    "grid   <- expand.grid(xEast, xNorth)\n",
    "n      <- nrow(grid)\n",
    "plot( NULL, xlim = c(0, m), ylim = c(0, m), xlab='East', ylab='North' )\n",
    "abline(v=grid[,1], h=grid[,2])\n",
    "text(grid[,1] - .5, grid[,2] - .5, 1:n, cex=.8)"
   ]
  },
  {
   "cell_type": "markdown",
   "id": "29f21d88",
   "metadata": {},
   "source": [
    "```         \n",
    "Set up distance and neighbourhood (W, based on sharing a common border) matrices\n",
    "```"
   ]
  },
  {
   "cell_type": "code",
   "execution_count": null,
   "id": "1022ddce",
   "metadata": {},
   "outputs": [],
   "source": [
    "D <- W <- as.matrix(dist(grid))\n",
    "W[W != 1] <- 0 "
   ]
  },
  {
   "cell_type": "code",
   "execution_count": null,
   "id": "b95dc834",
   "metadata": {},
   "outputs": [],
   "source": [
    "Q <- 3\n",
    "x <- matrix( rnorm(Q*n), n, Q )\n",
    "x[,1] <- 1\n",
    "x2    <- x[,2]\n",
    "x3    <- x[,3]\n",
    "beta  <- matrix( rnorm(Q), Q, 1)\n",
    "sigma <- .1"
   ]
  },
  {
   "cell_type": "code",
   "execution_count": null,
   "id": "844ad4f6",
   "metadata": {},
   "outputs": [],
   "source": [
    "# simulated based on distance D\n",
    "phi <- t( rmvn(1, rep(0,n), 1*exp(-0.1*D) ) )\n",
    "y   <- x%*%beta + phi[,2] + rnorm(n, 0, sigma)"
   ]
  },
  {
   "cell_type": "code",
   "execution_count": null,
   "id": "ad0a7219",
   "metadata": {},
   "outputs": [],
   "source": [
    "form <- as.formula(y ~ x2 + x3)\n",
    "\n",
    "## Gaussian model\n",
    "gaussianModel <- S.CARleroux(formula = form, family  = 'gaussian', W = W, \n",
    "                             burnin = 20000, n.sample = 100000, thin = 10, verbose = F)\n",
    "gaussianModel"
   ]
  },
  {
   "cell_type": "code",
   "execution_count": null,
   "id": "1e23219d",
   "metadata": {},
   "outputs": [],
   "source": [
    "#autocorrelation parameter\n",
    "plot( gaussianModel$samples$rho, bty = 'n' )"
   ]
  },
  {
   "cell_type": "code",
   "execution_count": null,
   "id": "73e58231",
   "metadata": {},
   "outputs": [],
   "source": [
    "#random effect\n",
    "fv <- gaussianModel$fitted.values\n",
    "mf <- min(fv)\n",
    "cc <- fv - mf\n",
    "ss <- seq(0, max(cc), length.out=10)\n",
    "cc <- findInterval(cc, ss)\n",
    "\n",
    "colM <- colorRampPalette( c(\"red\",\"orange\",\"blue\"))\n",
    "colm <- colM(10)\n",
    "\n",
    "symbols(x=grid[,1], y=grid[,2], squares = cc*0+1, bg=colm[cc],\n",
    "        fg=colm[cc],inches=F, xlab='East', ylab='North')"
   ]
  },
  {
   "cell_type": "code",
   "execution_count": null,
   "id": "e3fe91be",
   "metadata": {},
   "outputs": [],
   "source": [
    "#no gaussean\n",
    "lambda <- exp(x%*%beta + phi[,2] + rnorm(n, 0, sigma))\n",
    "y <- rpois(n, lambda)\n",
    "\n",
    "poissonModel <- S.CARbym(formula=form, family=\"poisson\",\n",
    "                         W=W, burnin=20000, n.sample=100000, thin=10, verbose=F)\n",
    "poissonModel"
   ]
  },
  {
   "cell_type": "markdown",
   "id": "028fc979",
   "metadata": {},
   "source": [
    "##Multilevel model"
   ]
  },
  {
   "cell_type": "code",
   "execution_count": null,
   "id": "694e7c43",
   "metadata": {},
   "outputs": [],
   "source": [
    "#### Set up a square lattice region\n",
    "x.easting <- 1:10\n",
    "x.northing <- 1:10\n",
    "Grid <- expand.grid(x.easting, x.northing)\n",
    "K <- nrow(Grid)"
   ]
  },
  {
   "cell_type": "code",
   "execution_count": null,
   "id": "94215ad3",
   "metadata": {},
   "outputs": [],
   "source": [
    "#### set up distance and neighbourhood (W, based on sharing a common border) matrices\n",
    "distance <- as.matrix(dist(Grid))\n",
    "W <-array(0, c(K,K))\n",
    "W[distance==1] <-1 "
   ]
  },
  {
   "cell_type": "code",
   "execution_count": null,
   "id": "d3d6d36c",
   "metadata": {},
   "outputs": [],
   "source": [
    "#### Generate the number of individuals per area and which individuals to which areas\n",
    "n <- sample(5:30, K, replace=TRUE)\n",
    "n.total <- sum(n)\n",
    "ind.area.temp <- rep(1:K, n)\n",
    "ind.area <- sample(ind.area.temp, n.total, replace=FALSE)"
   ]
  },
  {
   "cell_type": "code",
   "execution_count": null,
   "id": "193943fa",
   "metadata": {},
   "outputs": [],
   "source": [
    "#### Generate the covariates and response data\n",
    "x1 <- rnorm(n.total)\n",
    "x2 <- rnorm(n.total)\n",
    "phi <- mvrnorm(n=1, mu=rep(0,K), Sigma=0.4 * exp(-0.1 * distance))\n",
    "phi.extend <- phi[ind.area]\n",
    "logit <- x1 + x2 + phi.extend\n",
    "prob <- exp(logit) / (1 + exp(logit))\n",
    "trials <- rep(50,n.total)\n",
    "Y <- rbinom(n=n.total, size=trials, prob=prob)"
   ]
  },
  {
   "cell_type": "code",
   "execution_count": null,
   "id": "c34cf9b0",
   "metadata": {},
   "outputs": [],
   "source": [
    "#### Run the model\n",
    "formula <- Y ~ x1 + x2\n",
    "\n",
    "#### Toy example for checking\n",
    "model <- S.CARmultilevel(formula=formula, family=\"binomial\", ind.area=ind.area,\n",
    "                trials=trials, W=W, burnin=10, n.sample=50)\n",
    "\n",
    "model"
   ]
  },
  {
   "cell_type": "code",
   "execution_count": null,
   "id": "b9bdcb0c",
   "metadata": {},
   "outputs": [],
   "source": [
    "#### Set up a square lattice region\n",
    "x.easting <- 1:10\n",
    "x.northing <- 1:10\n",
    "Grid <- expand.grid(x.easting, x.northing)\n",
    "K <- nrow(Grid)\n",
    "\n",
    "#### set up distance and neighbourhood (W, based on sharing a common border) matrices\n",
    "distance <- as.matrix(dist(Grid))\n",
    "W <-array(0, c(K,K))\n",
    "W[distance==1] <-1 \t\n",
    "\t\n",
    "#### Generate the covariates and response data\n",
    "x1 <- rnorm(K)\n",
    "x2 <- rnorm(K)\n",
    "theta <- rnorm(K, sd=0.05)\n",
    "phi <- mvrnorm(n=1, mu=rep(0,K), Sigma=0.4 * exp(-0.1 * distance))\n",
    "logit <- x1 + x2 + theta + phi\n",
    "prob <- exp(logit) / (1 + exp(logit))\n",
    "trials <- rep(50,K)\n",
    "Y <- rbinom(n=K, size=trials, prob=prob)\n",
    "\n",
    "\n",
    "#### Run the BYM model\n",
    "formula <- Y ~ x1 + x2\n",
    "## Not run: model <- S.CARbym(formula=formula, family=\"binomial\", trials=trials,\n",
    "#W=W, burnin=20000, n.sample=100000)\n",
    "## End(Not run)\n",
    "\n",
    "#### Toy example for checking\n",
    "model <- S.CARbym(formula=formula, family=\"binomial\", trials=trials,\n",
    "W=W, burnin=20, n.sample=50)\n",
    "\n",
    "model"
   ]
  }
 ],
 "metadata": {
  "jupytext": {
   "cell_metadata_filter": "-all",
   "main_language": "R",
   "notebook_metadata_filter": "-all",
   "text_representation": {
    "extension": ".Rmd",
    "format_name": "rmarkdown"
   }
  },
  "language_info": {
   "codemirror_mode": {
    "name": "ipython",
    "version": 3
   },
   "file_extension": ".py",
   "mimetype": "text/x-python",
   "name": "python",
   "nbconvert_exporter": "python",
   "pygments_lexer": "ipython3",
   "version": "3.11.4"
  }
 },
 "nbformat": 4,
 "nbformat_minor": 5
}