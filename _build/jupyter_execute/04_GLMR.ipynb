{
 "cells": [
  {
   "cell_type": "markdown",
   "id": "4b4ce5a8",
   "metadata": {},
   "source": [
    "<p style=\"font-size:11px;\"><em><strong>Créditos</strong>: El contenido de este cuaderno ha sido tomado de varias fuentes.</em></p>"
   ]
  },
  {
   "cell_type": "markdown",
   "id": "1538009e",
   "metadata": {},
   "source": [
    "# Modelos de Poisson en R\n",
    "\n",
    "A continuación se presenta un ejemplo de Poisson homogeneo en R. Este conjunto de datos analiza cuántas roturas de urdimbre ocurrieron en diferentes tipos de telares por telar, por una longitud fija de hilo."
   ]
  },
  {
   "cell_type": "code",
   "execution_count": 1,
   "id": "e3855efa",
   "metadata": {},
   "outputs": [
    {
     "ename": "NameError",
     "evalue": "name 'data' is not defined",
     "output_type": "error",
     "traceback": [
      "\u001b[1;31m---------------------------------------------------------------------------\u001b[0m",
      "\u001b[1;31mNameError\u001b[0m                                 Traceback (most recent call last)",
      "Cell \u001b[1;32mIn[1], line 1\u001b[0m\n\u001b[1;32m----> 1\u001b[0m \u001b[43mdata\u001b[49m \u001b[38;5;241m<\u001b[39m\u001b[38;5;241m-\u001b[39m warpbreaks\n\u001b[0;32m      2\u001b[0m columns \u001b[38;5;241m<\u001b[39m\u001b[38;5;241m-\u001b[39m names(data) \u001b[38;5;66;03m# Extract column names from dataframe\u001b[39;00m\n\u001b[0;32m      3\u001b[0m columns \u001b[38;5;66;03m# show columns\u001b[39;00m\n",
      "\u001b[1;31mNameError\u001b[0m: name 'data' is not defined"
     ]
    }
   ],
   "source": [
    "data <- warpbreaks\n",
    "columns <- names(data) # Extract column names from dataframe\n",
    "columns # show columns"
   ]
  },
  {
   "cell_type": "markdown",
   "id": "8d8b9cac",
   "metadata": {},
   "source": [
    "Hay mediciones en 9 telares de cada uno de los seis tipos de urdimbre, para un total de 54 entradas en el conjunto de datos.\n",
    "\n",
    "Veamos cómo está estructurado el conjunto de datos usando el comando `ls.str()`:"
   ]
  },
  {
   "cell_type": "code",
   "execution_count": null,
   "id": "e3458d5a",
   "metadata": {},
   "outputs": [],
   "source": [
    "ls.str(warpbreaks)"
   ]
  },
  {
   "cell_type": "markdown",
   "id": "d0c4d758",
   "metadata": {},
   "source": [
    "A partir de lo anterior, podemos ver tanto los tipos como los niveles presentes en los datos. Lee esto para aprender un poco más sobre los factores en R.\n",
    "\n",
    "Ahora trabajaremos con el dataframe de datos. Recuerda, con un modelo de Distribución de Poisson estamos tratando de averiguar cómo algunas variables predictoras afectan a una variable de respuesta. Aquí, `breaks` es la variable de respuesta y `wool` y `tension` son las variables predictoras.\n",
    "\n",
    "Podemos visualizar la continuidad de los datos de la variable dependiente `breaks` creando un histograma:"
   ]
  },
  {
   "cell_type": "code",
   "execution_count": null,
   "id": "03ad455b",
   "metadata": {},
   "outputs": [],
   "source": [
    "hist(data$breaks)"
   ]
  },
  {
   "cell_type": "markdown",
   "id": "aa58d566",
   "metadata": {},
   "source": [
    "Claramente, los datos no tienen la forma de una curva de campana como en una distribución normal.\n",
    "\n",
    "Veamos la media (`mean()`) y la varianza (`var()`) de la variable dependiente:"
   ]
  },
  {
   "cell_type": "code",
   "execution_count": null,
   "id": "31f2f3bb",
   "metadata": {},
   "outputs": [],
   "source": [
    "mean(data$breaks) # calculate mean\n",
    "var(data$breaks) # calculate variance"
   ]
  },
  {
   "cell_type": "markdown",
   "id": "467415cf",
   "metadata": {},
   "source": [
    "La varianza es mucho mayor que la media, lo que sugiere que tendremos sobredispersión en el modelo.\n",
    "\n",
    "Vamos a ajustar el modelo de Poisson utilizando el comando `glm()`."
   ]
  },
  {
   "cell_type": "code",
   "execution_count": null,
   "id": "df8fd113",
   "metadata": {},
   "outputs": [],
   "source": [
    "# model poisson regression using glm()\n",
    "poisson.model <- glm(breaks ~ wool + tension, data, family = poisson(link = \"log\"))\n",
    "summary(poisson.model)"
   ]
  },
  {
   "cell_type": "markdown",
   "id": "fb7a2e95",
   "metadata": {},
   "source": [
    "Se nos ha proporcionado mucha información, ahora necesitamos interpretarla. La primera columna llamada *Estimate* muestra los valores de los coeficientes de $\\alpha$ (intercepto), $\\beta_1$, y así sucesivamente. A continuación, se presenta la interpretación de las estimaciones de los parámetros:\n",
    "\n",
    "-   $exp(\\alpha) =$ efecto sobre la media $\\mu$, cuando $X = 0$.\n",
    "-   $exp(\\beta) =$ con cada aumento unitario en $X$, la variable predictora tiene un efecto multiplicativo de $exp(\\beta)$ sobre la media de $Y$, es decir, $\\mu$.\n",
    "-   Si $\\beta = 0$, entonces $exp(\\beta) = 1$, y el conteo esperado es $exp(\\alpha)$, y $Y$ y $X$ no están relacionados.\n",
    "-   Si $\\beta > 0$, entonces $exp(\\beta) > 1$, y el conteo esperado es $exp(\\beta)$ veces mayor que cuando $X = 0$.\n",
    "-   Si $\\beta < 0$, entonces $exp(\\beta) < 1$, y el conteo esperado es $exp(\\beta)$ veces menor que cuando $X = 0$.\n",
    "\n",
    "Si `family = poisson` se mantiene en `glm()`, estos parámetros se calculan utilizando la Estimación de Máxima Verosimilitud (MLE).\n",
    "\n",
    "R trata las variables categóricas como variables ficticias (*dummy variables*). Las variables categóricas, también llamadas variables indicadoras, se convierten en variables ficticias asignando a los niveles en la variable una representación numérica. La regla general es que si hay $k$ categorías en una variable de factor, la salida de `glm()` tendrá $k-1$ categorías con 1 restante como categoría base.\n",
    "\n",
    "Podemos ver en el resumen anterior que para `wool`, 'A' se ha hecho la base y no se muestra en el resumen. De manera similar, para `tension` 'L' se ha hecho la categoría base.\n",
    "\n",
    "Para ver qué variables explicativas tienen un efecto sobre la variable de respuesta, observaremos los valores *p*. Si el *p* es menor que 0.05, entonces la variable tiene un efecto sobre la variable de respuesta. En el resumen anterior, podemos ver que todos los valores *p* son menores que 0.05, por lo tanto, ambas variables explicativas (`wool` y `tension`) tienen un efecto significativo en `breaks`. Observa cómo la salida de R utiliza \\*\\*\\* al final de cada variable. El número de estrellas indica la significancia.\n",
    "\n",
    "Antes de comenzar a interpretar los resultados, verifiquemos si el modelo tiene sobredispersión o subdispersión. Si la Desviación Residual es mayor que los grados de libertad, entonces existe sobredispersión. Esto significa que las estimaciones son correctas, pero los errores estándar (desviación estándar) son incorrectos y no son tenidos en cuenta por el modelo.\n",
    "\n",
    "La desviación nula (*Null deviance*) muestra qué tan bien la variable de respuesta es predicha por un modelo que incluye solo el intercepto (media general), mientras que la residual lo hace con la inclusión de variables independientes. Arriba, podemos ver que la adición de 3 (53-50 =3) variables independientes disminuyó la desviación a 210.39 desde 297.37. Una mayor diferencia en los valores significa un mal ajuste.\n",
    "\n",
    "Entonces, para tener un error estándar más correcto, podemos usar un modelo *quasi-poisson*.\n",
    "\n",
    "Una vez que se ha creado el modelo, podemos usar `predict(model, data, type)` para predecir resultados utilizando nuevos *dataframes* que contengan datos diferentes a los datos de entrenamiento. Veamos un ejemplo."
   ]
  },
  {
   "cell_type": "code",
   "execution_count": null,
   "id": "6b22b969",
   "metadata": {},
   "outputs": [],
   "source": [
    "# make a dataframe with new data\n",
    "newdata = data.frame(wool = \"B\", tension = \"M\")\n",
    "\n",
    "# use 'predict()' to run model on new data\n",
    "predict(poisson.model, newdata = newdata, type = \"response\")"
   ]
  },
  {
   "cell_type": "markdown",
   "id": "a742c7e8",
   "metadata": {},
   "source": [
    "*jtools* proporciona `plot_summs()` y `plot_coefs()` para visualizar el resumen del modelo y también nos permite comparar diferentes modelos con *ggplot2*."
   ]
  },
  {
   "cell_type": "code",
   "execution_count": null,
   "id": "132d38b2",
   "metadata": {},
   "outputs": [],
   "source": [
    "plot_summs(poisson.model, scale = TRUE, exp = TRUE)"
   ]
  }
 ],
 "metadata": {
  "jupytext": {
   "cell_metadata_filter": "-all",
   "main_language": "R",
   "notebook_metadata_filter": "-all",
   "text_representation": {
    "extension": ".Rmd",
    "format_name": "rmarkdown"
   }
  },
  "language_info": {
   "codemirror_mode": {
    "name": "ipython",
    "version": 3
   },
   "file_extension": ".py",
   "mimetype": "text/x-python",
   "name": "python",
   "nbconvert_exporter": "python",
   "pygments_lexer": "ipython3",
   "version": "3.11.4"
  }
 },
 "nbformat": 4,
 "nbformat_minor": 5
}